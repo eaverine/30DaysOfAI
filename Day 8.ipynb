{
 "cells": [
  {
   "cell_type": "markdown",
   "metadata": {},
   "source": [
    "### Logic Programming"
   ]
  },
  {
   "cell_type": "code",
   "execution_count": 1,
   "metadata": {},
   "outputs": [],
   "source": [
    "from logpy import run, var, fact\n",
    "import logpy.assoccomm as la"
   ]
  },
  {
   "cell_type": "code",
   "execution_count": 2,
   "metadata": {},
   "outputs": [],
   "source": [
    "#Define mathematical operations\n",
    "add = 'addition'\n",
    "mul = 'multiplication'"
   ]
  },
  {
   "cell_type": "code",
   "execution_count": 3,
   "metadata": {},
   "outputs": [],
   "source": [
    "#Declare that these operations are commutative and associative using the fact's system\n",
    "fact(la.commutative, add)\n",
    "fact(la.commutative, mul)\n",
    "\n",
    "fact(la.associative, add)\n",
    "fact(la.associative, mul)"
   ]
  },
  {
   "cell_type": "code",
   "execution_count": 4,
   "metadata": {},
   "outputs": [],
   "source": [
    "#Define some variables\n",
    "a, b, c = var('a'), var('b'), var('c')"
   ]
  },
  {
   "cell_type": "code",
   "execution_count": 5,
   "metadata": {},
   "outputs": [],
   "source": [
    "#Original expression\n",
    "#expression_orig = 3 x (-2) + (1 + 2 x 3) x -1\n",
    "#expression1 = (1 + 2xa)xb + 3xc\n",
    "#expression2 = cx3 + bx(2xa + 1)\n",
    "#expression3 = (((2xa)xb) + xb) + 3xc\n",
    "\n",
    "expression_orig = (add, (mul, 3, -2), (mul, (add, 1, (mul, 2, 3)), -1))\n",
    "expression1 = (add, (mul, (add, 1, (mul, 2, a)), b), (mul, 3, c))\n",
    "expression2 = (add, (mul, c, 3), (mul, b, (add, (mul, 2, a), 1)))\n",
    "expression3 = (add, (add, (mul, (mul, 2, a), b), b), (mul, 3, c))"
   ]
  },
  {
   "cell_type": "code",
   "execution_count": 6,
   "metadata": {},
   "outputs": [
    {
     "name": "stdout",
     "output_type": "stream",
     "text": [
      "((3, -1, -2),)\n",
      "((3, -1, -2),)\n",
      "()\n"
     ]
    }
   ],
   "source": [
    "#Compare expressions\n",
    "print(run(0, (a, b, c), la.eq_assoccomm(expression1, expression_orig)))\n",
    "print(run(0, (a, b, c), la.eq_assoccomm(expression2, expression_orig)))\n",
    "print(run(0, (a, b, c), la.eq_assoccomm(expression3, expression_orig)))"
   ]
  },
  {
   "cell_type": "code",
   "execution_count": null,
   "metadata": {},
   "outputs": [],
   "source": []
  },
  {
   "cell_type": "markdown",
   "metadata": {},
   "source": [
    "### Validating primes"
   ]
  },
  {
   "cell_type": "code",
   "execution_count": 7,
   "metadata": {},
   "outputs": [],
   "source": [
    "import itertools as it\n",
    "import logpy.core as lc\n",
    "from logpy import membero\n",
    "from sympy.ntheory.generate import prime, isprime"
   ]
  },
  {
   "cell_type": "code",
   "execution_count": 8,
   "metadata": {},
   "outputs": [],
   "source": [
    "#Check if the elements of x are prime\n",
    "def check_prime(x):\n",
    "    if lc.isvar(x):\n",
    "        return lc.condeseq([(lc.eq, x, p)] for p in map(prime, it.count(1)))\n",
    "    else:\n",
    "        return lc.success if isprime(x) else lc.fail"
   ]
  },
  {
   "cell_type": "code",
   "execution_count": 9,
   "metadata": {},
   "outputs": [],
   "source": [
    "#Declare the variable\n",
    "x = lc.var()"
   ]
  },
  {
   "cell_type": "code",
   "execution_count": 45,
   "metadata": {},
   "outputs": [
    {
     "name": "stdout",
     "output_type": "stream",
     "text": [
      "List of primes in the list:\n",
      "{3, 11, 13, 17, 19, 23, 29}\n"
     ]
    }
   ],
   "source": [
    "#Check if an element in the list is a prime number\n",
    "list_nums = (23, 4, 27, 17, 13, 10, 21, 29, 3, 32, 11, 19)\n",
    "\n",
    "print('List of primes in the list:')\n",
    "print(set(lc.run(0, x, (membero, x, list_nums), (check_prime, x))))"
   ]
  },
  {
   "cell_type": "code",
   "execution_count": 11,
   "metadata": {},
   "outputs": [
    {
     "name": "stdout",
     "output_type": "stream",
     "text": [
      "List of first 7 prime numbers\n",
      "(2, 3, 5, 7, 11, 13, 17)\n"
     ]
    }
   ],
   "source": [
    "#Print the first 7 prime numbers\n",
    "print('List of first 7 prime numbers')\n",
    "print(lc.run(7, x, check_prime(x)))"
   ]
  },
  {
   "cell_type": "code",
   "execution_count": null,
   "metadata": {},
   "outputs": [],
   "source": []
  },
  {
   "cell_type": "markdown",
   "metadata": {},
   "source": [
    "### Parsing a family tree"
   ]
  },
  {
   "cell_type": "code",
   "execution_count": 12,
   "metadata": {},
   "outputs": [],
   "source": [
    "import json\n",
    "from logpy import Relation, facts, run, conde, var, eq"
   ]
  },
  {
   "cell_type": "code",
   "execution_count": 13,
   "metadata": {},
   "outputs": [],
   "source": [
    "#Check if x is the parent of y\n",
    "def parent(x, y):\n",
    "    return conde([father(x, y)], [mother(x, y)])"
   ]
  },
  {
   "cell_type": "code",
   "execution_count": 14,
   "metadata": {},
   "outputs": [],
   "source": [
    "#Check if x is the grandparent of y\n",
    "def grandparent(x, y):\n",
    "    temp = var()\n",
    "    return conde((parent(x, temp), parent(temp, y)))"
   ]
  },
  {
   "cell_type": "code",
   "execution_count": 15,
   "metadata": {},
   "outputs": [],
   "source": [
    "#Check for sibling relationship between x and y\n",
    "def sibling(x, y):\n",
    "    temp = var()\n",
    "    return conde((parent(temp, x), parent(temp, y)))"
   ]
  },
  {
   "cell_type": "code",
   "execution_count": 16,
   "metadata": {},
   "outputs": [],
   "source": [
    "#Check if x is y's uncle\n",
    "def uncle(x, y):\n",
    "    temp = var()\n",
    "    return conde((father(temp, x), grandparent(temp, y)))"
   ]
  },
  {
   "cell_type": "code",
   "execution_count": 17,
   "metadata": {},
   "outputs": [],
   "source": [
    "father = Relation()\n",
    "mother = Relation()"
   ]
  },
  {
   "cell_type": "code",
   "execution_count": 18,
   "metadata": {},
   "outputs": [],
   "source": [
    "with open('data/relationships.json') as f:\n",
    "    d = json.loads(f.read())\n",
    "    \n",
    "for item in d['father']:\n",
    "    facts(father, (list(item.keys())[0], list(item.values())[0]))\n",
    "for item in d['mother']:\n",
    "    facts(mother, (list(item.keys())[0], list(item.values())[0]))"
   ]
  },
  {
   "cell_type": "code",
   "execution_count": 19,
   "metadata": {},
   "outputs": [],
   "source": [
    "#Declare variable x\n",
    "x = var()"
   ]
  },
  {
   "cell_type": "code",
   "execution_count": 20,
   "metadata": {},
   "outputs": [
    {
     "name": "stdout",
     "output_type": "stream",
     "text": [
      "List of John's children\n",
      "William\n",
      "David\n",
      "Adam\n"
     ]
    }
   ],
   "source": [
    "#Find John's children\n",
    "name = 'John'\n",
    "output = run(0, x, father(name, x))\n",
    "\n",
    "print(f\"List of {name}'s children\")\n",
    "for item in output:\n",
    "    print(item)"
   ]
  },
  {
   "cell_type": "code",
   "execution_count": 21,
   "metadata": {},
   "outputs": [
    {
     "name": "stdout",
     "output_type": "stream",
     "text": [
      "Name of William's mother: Megan\n"
     ]
    }
   ],
   "source": [
    "#Find William's mother\n",
    "name = 'William'\n",
    "output = run(0, x, mother(x, name))[0]\n",
    "\n",
    "print(f\"Name of {name}'s mother: {output}\")"
   ]
  },
  {
   "cell_type": "code",
   "execution_count": 22,
   "metadata": {},
   "outputs": [
    {
     "name": "stdout",
     "output_type": "stream",
     "text": [
      "List of Adam's parents\n",
      "John\n",
      "Megan\n"
     ]
    }
   ],
   "source": [
    "#Find Adam's parents\n",
    "name = 'Adam'\n",
    "output = run(0, x, parent(x, name))\n",
    "\n",
    "print(f\"List of {name}'s parents\")\n",
    "for item in output:\n",
    "    print(item)"
   ]
  },
  {
   "cell_type": "code",
   "execution_count": 23,
   "metadata": {},
   "outputs": [
    {
     "name": "stdout",
     "output_type": "stream",
     "text": [
      "List of Wayne's grandparents\n",
      "John\n",
      "Megan\n"
     ]
    }
   ],
   "source": [
    "#Find Wayne's grandparents\n",
    "name = 'Wayne'\n",
    "output = run(0, x, grandparent(x, name))\n",
    "\n",
    "print(f\"List of {name}'s grandparents\")\n",
    "for item in output:\n",
    "    print(item)"
   ]
  },
  {
   "cell_type": "code",
   "execution_count": 24,
   "metadata": {},
   "outputs": [
    {
     "name": "stdout",
     "output_type": "stream",
     "text": [
      "List of Megan's grandchildren\n",
      "Sophia\n",
      "Stephanie\n",
      "Peter\n",
      "Chris\n",
      "Wayne\n",
      "Julie\n",
      "Tiffany\n",
      "Neil\n"
     ]
    }
   ],
   "source": [
    "#Find Megan's grandchildren\n",
    "name = 'Megan'\n",
    "output = run(0, x, grandparent(name, x))\n",
    "\n",
    "print(f\"List of {name}'s grandchildren\")\n",
    "for item in output:\n",
    "    print(item)"
   ]
  },
  {
   "cell_type": "code",
   "execution_count": 26,
   "metadata": {},
   "outputs": [
    {
     "name": "stdout",
     "output_type": "stream",
     "text": [
      "List of David's siblings\n",
      "William\n",
      "Adam\n"
     ]
    }
   ],
   "source": [
    "#Find David's siblings\n",
    "name = 'David'\n",
    "\n",
    "output = run(0, x, sibling(x, name))\n",
    "siblings = [x for x in output if x != name]\n",
    "\n",
    "print(f\"List of {name}'s siblings\")\n",
    "for item in siblings:\n",
    "    print(item)"
   ]
  },
  {
   "cell_type": "code",
   "execution_count": 27,
   "metadata": {},
   "outputs": [
    {
     "name": "stdout",
     "output_type": "stream",
     "text": [
      "List of Tiffany's uncles\n",
      "William\n",
      "Adam\n"
     ]
    }
   ],
   "source": [
    "#Find Tiffany's uncles\n",
    "name = 'Tiffany'\n",
    "name_father = run(0, x, father(x, name))[0]\n",
    "\n",
    "output = run(0, x, uncle(x, name))\n",
    "output = [x for x in output if x != name_father]\n",
    "\n",
    "print(f\"List of {name}'s uncles\")\n",
    "for item in output:\n",
    "    print(item)"
   ]
  },
  {
   "cell_type": "code",
   "execution_count": 28,
   "metadata": {},
   "outputs": [
    {
     "name": "stdout",
     "output_type": "stream",
     "text": [
      "List of spouses\n",
      "Husband: David <==> Wife: Olivia\n",
      "Husband: John <==> Wife: Megan\n",
      "Husband: William <==> Wife: Emma\n",
      "Husband: Adam <==> Wife: Lily\n"
     ]
    }
   ],
   "source": [
    "#Find all spouses\n",
    "a, b, c = var(), var(), var()\n",
    "output = run(0, (a, b), father(a, c), mother(b, c))\n",
    "\n",
    "print('List of spouses')\n",
    "for husband, wife in output:\n",
    "    print(f'Husband: {husband} <==> Wife: {wife}')"
   ]
  },
  {
   "cell_type": "code",
   "execution_count": null,
   "metadata": {},
   "outputs": [],
   "source": []
  },
  {
   "cell_type": "markdown",
   "metadata": {},
   "source": [
    "### Analyzing Geography"
   ]
  },
  {
   "cell_type": "code",
   "execution_count": 29,
   "metadata": {},
   "outputs": [],
   "source": [
    "adjacent = Relation()\n",
    "coastal = Relation()"
   ]
  },
  {
   "cell_type": "code",
   "execution_count": 30,
   "metadata": {},
   "outputs": [],
   "source": [
    "file_coastal = 'data/coastal_states.txt'\n",
    "\n",
    "with open(file_coastal) as f:\n",
    "    line = f.read()\n",
    "    coastal_states = line.split(',')\n",
    "    \n",
    "#Add the info to the fact base\n",
    "for state in coastal_states:\n",
    "    fact(coastal, state)"
   ]
  },
  {
   "cell_type": "code",
   "execution_count": 31,
   "metadata": {},
   "outputs": [],
   "source": [
    "file_adjacent = 'data/adjacent_states.txt'\n",
    "\n",
    "with open(file_adjacent) as f:\n",
    "    adjlist = [line.strip().split(',') for line in f if line and line[0].isalpha()]\n",
    "    \n",
    "#Add the info to the fact base\n",
    "for L in adjlist:\n",
    "    head, tail = L[0], L[1:]\n",
    "    for state in tail:\n",
    "        fact(adjacent, head, state)"
   ]
  },
  {
   "cell_type": "code",
   "execution_count": 32,
   "metadata": {},
   "outputs": [],
   "source": [
    "#Initialize the variables\n",
    "x = var()\n",
    "y = var()"
   ]
  },
  {
   "cell_type": "code",
   "execution_count": 33,
   "metadata": {},
   "outputs": [
    {
     "name": "stdout",
     "output_type": "stream",
     "text": [
      "Is Nevada adjacent to Louisiana?\n",
      "No\n"
     ]
    }
   ],
   "source": [
    "#Check if Nevada is adjacent to Louisiana\n",
    "output = run(0, x, adjacent('Nevada', 'Louisiana'))\n",
    "\n",
    "print('Is Nevada adjacent to Louisiana?')\n",
    "print('Yes' if len(output) else 'No')"
   ]
  },
  {
   "cell_type": "code",
   "execution_count": 34,
   "metadata": {},
   "outputs": [
    {
     "name": "stdout",
     "output_type": "stream",
     "text": [
      "List of states adjacent to Oregon:\n",
      "Washington\n",
      "Nevada\n",
      "California\n",
      "Idaho\n"
     ]
    }
   ],
   "source": [
    "#Print states adjacent to Oregon\n",
    "output = run(0, x, adjacent('Oregon', x))\n",
    "\n",
    "print('List of states adjacent to Oregon:')\n",
    "for item in output:\n",
    "    print(item)"
   ]
  },
  {
   "cell_type": "code",
   "execution_count": 39,
   "metadata": {},
   "outputs": [
    {
     "name": "stdout",
     "output_type": "stream",
     "text": [
      "List of coastal states adjacent to Mississippi\n",
      "Alabama\n",
      "Louisiana\n"
     ]
    }
   ],
   "source": [
    "#Print states adjacent to Mississippi that are coastal\n",
    "output = run(0, x, adjacent('Mississippi', x), coastal(x))\n",
    "\n",
    "print('List of coastal states adjacent to Mississippi')\n",
    "for item in output:\n",
    "    print(item)"
   ]
  },
  {
   "cell_type": "code",
   "execution_count": 37,
   "metadata": {},
   "outputs": [
    {
     "name": "stdout",
     "output_type": "stream",
     "text": [
      "List of 7 states that border a coastal state:\n",
      "Oregon\n",
      "Connecticut\n",
      "Mississippi\n",
      "North Carolina\n",
      "Virginia\n",
      "New Jersey\n",
      "Pennsylvania\n"
     ]
    }
   ],
   "source": [
    "#List of 'n' states that border a coastal state - n = 7 in this case\n",
    "n = 7\n",
    "output = run(n, x, coastal(y), adjacent(x, y))\n",
    "\n",
    "print(f'List of {n} states that border a coastal state:')\n",
    "for item in output:\n",
    "    print(item)"
   ]
  },
  {
   "cell_type": "code",
   "execution_count": 40,
   "metadata": {},
   "outputs": [
    {
     "name": "stdout",
     "output_type": "stream",
     "text": [
      "List of states that are adjacent to both Arkansas and Kentucky\n",
      "Missouri\n",
      "Tennessee\n"
     ]
    }
   ],
   "source": [
    "#List of states that are adjacent to both Arkansas and Kentucky\n",
    "output = run(0, x, adjacent('Arkansas', x), adjacent('Kentucky', x))\n",
    "\n",
    "print('List of states that are adjacent to both Arkansas and Kentucky')\n",
    "for item in output:\n",
    "    print(item)"
   ]
  },
  {
   "cell_type": "code",
   "execution_count": null,
   "metadata": {},
   "outputs": [],
   "source": []
  },
  {
   "cell_type": "markdown",
   "metadata": {},
   "source": [
    "### Building a puzzle solver"
   ]
  },
  {
   "cell_type": "code",
   "execution_count": 41,
   "metadata": {},
   "outputs": [],
   "source": [
    "from logpy.core import lall"
   ]
  },
  {
   "cell_type": "code",
   "execution_count": 43,
   "metadata": {},
   "outputs": [],
   "source": [
    "people = var()"
   ]
  },
  {
   "cell_type": "code",
   "execution_count": 46,
   "metadata": {},
   "outputs": [],
   "source": [
    "#There are four people\n",
    "rules = lall(\n",
    "    (eq, (var(), var(), var(), var()), people), # There are 4 people\n",
    "    (membero, ('Steve', var(), 'blue', var()), people), # Steve's car is blue\n",
    "    (membero, (var(), 'cat', var(), 'Canada'), people), # Person who has a cat lives in Canada\n",
    "    (membero, ('Matthew', var(), var(), 'USA'), people), # Matthew lives in USA\n",
    "    (membero, (var(), var(), 'black', 'Australia'), people), # The person who has a black car lives in Australia \n",
    "    (membero, ('Jack', 'cat', var(), var()), people), # Jack has a cat\n",
    "    (membero, ('Alfred', var(), var(), 'Australia'), people), # Alfred lives in Australia\n",
    "    (membero, (var(), 'dog', var(), 'France'), people), # Person who owns the dog lives in France\n",
    "    (membero, (var(), 'rabbit', var(), var()), people) # Who has a rabbit?\n",
    ")"
   ]
  },
  {
   "cell_type": "code",
   "execution_count": 51,
   "metadata": {},
   "outputs": [],
   "source": [
    "solutions = run(0, people, rules)\n",
    "\n",
    "#Extract the output \n",
    "output = [answer for answer in solutions[0] if 'rabbit' in answer][0][0]"
   ]
  },
  {
   "cell_type": "code",
   "execution_count": 56,
   "metadata": {},
   "outputs": [
    {
     "name": "stdout",
     "output_type": "stream",
     "text": [
      "Matthew is the owner of the rabbit\n",
      "\n",
      "Here are all the details:\n",
      "\n",
      "Name\t\tPet\t\tColor\t\tCountry\n",
      "============================================================\n",
      "Steve\t\tdog\t\tblue\t\tFrance\n",
      "Jack\t\tcat\t\t~_112\t\tCanada\n",
      "Matthew\t\trabbit\t\t~_114\t\tUSA\n",
      "Alfred\t\t~_116\t\tblack\t\tAustralia\n"
     ]
    }
   ],
   "source": [
    "#print the output\n",
    "print(f'{output} is the owner of the rabbit')\n",
    "\n",
    "print('\\nHere are all the details:')\n",
    "attribs = ['Name', 'Pet', 'Color', 'Country']\n",
    "print('\\n' + '\\t\\t'.join(attribs))\n",
    "\n",
    "print('==' * 30)\n",
    "for item in solutions[0]:\n",
    "    print('\\t\\t'.join([str(x) for x in item]))"
   ]
  },
  {
   "cell_type": "code",
   "execution_count": null,
   "metadata": {},
   "outputs": [],
   "source": []
  }
 ],
 "metadata": {
  "kernelspec": {
   "display_name": "Python 3",
   "language": "python",
   "name": "python3"
  },
  "language_info": {
   "codemirror_mode": {
    "name": "ipython",
    "version": 3
   },
   "file_extension": ".py",
   "mimetype": "text/x-python",
   "name": "python",
   "nbconvert_exporter": "python",
   "pygments_lexer": "ipython3",
   "version": "3.8.5"
  }
 },
 "nbformat": 4,
 "nbformat_minor": 4
}

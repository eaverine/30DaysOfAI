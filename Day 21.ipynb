{
 "cells": [
  {
   "cell_type": "markdown",
   "metadata": {},
   "source": [
    "### Topic modeling using Latent Dirichlet Allocation"
   ]
  },
  {
   "cell_type": "code",
   "execution_count": 1,
   "metadata": {},
   "outputs": [],
   "source": [
    "from nltk.tokenize import RegexpTokenizer\n",
    "from nltk.corpus import stopwords\n",
    "from nltk.stem.snowball import SnowballStemmer\n",
    "from gensim import models, corpora"
   ]
  },
  {
   "cell_type": "code",
   "execution_count": 10,
   "metadata": {},
   "outputs": [],
   "source": [
    "def load_data(input_file):\n",
    "    data = []\n",
    "    with open(input_file) as f:\n",
    "        for line in f.readlines():\n",
    "            data.append(line[:-1])\n",
    "            \n",
    "    return data"
   ]
  },
  {
   "cell_type": "code",
   "execution_count": 3,
   "metadata": {},
   "outputs": [],
   "source": [
    "def process(input_text):\n",
    "    #Processor function for tokenizing, removing stop words and stemming\n",
    "    tokenizer = RegexpTokenizer(r'\\w+')   #Create a regular expression tokenizer\n",
    "    tokens = tokenizer.tokenize(input_text.lower())    #Tokenize the input string\n",
    "    \n",
    "    stemmer = SnowballStemmer('english')\n",
    "    \n",
    "    #Get the list of stop-words which would be removed since they don't add information\n",
    "    stop_words = stopwords.words('english')\n",
    "    \n",
    "    #Remove the stop words and stem the tokenized words\n",
    "    tokens = [token for token in tokens if not token in stop_words]\n",
    "    tokens_stemmed = [stemmer.stem(token) for token in tokens]\n",
    "    \n",
    "    return tokens_stemmed"
   ]
  },
  {
   "cell_type": "code",
   "execution_count": 11,
   "metadata": {},
   "outputs": [],
   "source": [
    "data = load_data('data/data_topic_modelling.txt')"
   ]
  },
  {
   "cell_type": "code",
   "execution_count": 13,
   "metadata": {},
   "outputs": [],
   "source": [
    "#Create a list for sentence tokens\n",
    "tokens = [process(x) for x in data]\n",
    "\n",
    "#Create a dictionary based on the sentence tokens\n",
    "dict_tokens = corpora.Dictionary(tokens)\n",
    "\n",
    "#Create a document-term matrix\n",
    "doc_term_mat = [dict_tokens.doc2bow(token) for token in tokens]"
   ]
  },
  {
   "cell_type": "code",
   "execution_count": 20,
   "metadata": {},
   "outputs": [],
   "source": [
    "#Through observation, the input_text has two distinct topics\n",
    "num_topics = 2\n",
    "\n",
    "#Generate the Latent Dirichlet Allocation model\n",
    "ldamodel = models.ldamodel.LdaModel(doc_term_mat, num_topics = num_topics, id2word = dict_tokens, passes = 25)"
   ]
  },
  {
   "cell_type": "code",
   "execution_count": 22,
   "metadata": {},
   "outputs": [
    {
     "name": "stdout",
     "output_type": "stream",
     "text": [
      "Top 5 contributing words to each topic\n",
      "\n",
      "Topic 0\n",
      "\"mathemat\" ==> 3.1 %\n",
      "\"call\" ==> 3.1 %\n",
      "\"set\" ==> 1.9 %\n",
      "\"structur\" ==> 1.9 %\n",
      "\"histor\" ==> 1.9 %\n",
      "\n",
      "Topic 1\n",
      "\"empir\" ==> 3.9 %\n",
      "\"cultur\" ==> 2.8 %\n",
      "\"europ\" ==> 2.8 %\n",
      "\"expand\" ==> 2.8 %\n",
      "\"formul\" ==> 1.7 %\n"
     ]
    }
   ],
   "source": [
    "num_words = 5\n",
    "print(f'Top {num_words} contributing words to each topic')\n",
    "\n",
    "for item in ldamodel.print_topics(num_topics = num_topics, num_words = num_words):\n",
    "    print('\\nTopic', item[0])\n",
    "    \n",
    "    #Print the contributing words along with their relative contributions\n",
    "    list_of_strings = item[1].split(' + ')\n",
    "    for text in list_of_strings:\n",
    "        weight = text.split('*')[0]\n",
    "        word = text.split('*')[1]\n",
    "        print(word, '==>', round(float(weight) * 100, 2), '%')"
   ]
  },
  {
   "cell_type": "code",
   "execution_count": null,
   "metadata": {},
   "outputs": [],
   "source": []
  }
 ],
 "metadata": {
  "kernelspec": {
   "display_name": "Python 3",
   "language": "python",
   "name": "python3"
  },
  "language_info": {
   "codemirror_mode": {
    "name": "ipython",
    "version": 3
   },
   "file_extension": ".py",
   "mimetype": "text/x-python",
   "name": "python",
   "nbconvert_exporter": "python",
   "pygments_lexer": "ipython3",
   "version": "3.8.5"
  }
 },
 "nbformat": 4,
 "nbformat_minor": 4
}

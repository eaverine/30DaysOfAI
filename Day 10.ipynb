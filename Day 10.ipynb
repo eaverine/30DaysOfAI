{
 "cells": [
  {
   "cell_type": "markdown",
   "metadata": {},
   "source": [
    "### Building an 8-puzzle solver"
   ]
  },
  {
   "cell_type": "code",
   "execution_count": 1,
   "metadata": {},
   "outputs": [
    {
     "name": "stdout",
     "output_type": "stream",
     "text": [
      "C:\\Users\\U\\Artificial Intelligence\\data\n"
     ]
    }
   ],
   "source": [
    "%cd C:\\Users\\U\\Artificial Intelligence\\data\n",
    "#To change the directory to data for simpleai's dependencies\n",
    "    \n",
    "from data.simpleai.search import astar, SearchProblem"
   ]
  },
  {
   "cell_type": "code",
   "execution_count": 2,
   "metadata": {},
   "outputs": [],
   "source": [
    "class PuzzleSolver(SearchProblem):\n",
    "    #Class containing methods to solve the puzzle\n",
    "    def actions(self, cur_state):\n",
    "        #Get the list of possible numbers that can be moved into the empty space\n",
    "        rows = string_to_list(cur_state)\n",
    "        row_empty, col_empty = get_location(rows, 'e')\n",
    "        \n",
    "        #Check the location of the empty space and create the new action\n",
    "        actions = []\n",
    "        if row_empty > 0:\n",
    "            actions.append(rows[row_empty - 1][col_empty])\n",
    "        if row_empty < 2:\n",
    "            actions.append(rows[row_empty + 1][col_empty])\n",
    "            \n",
    "        if col_empty > 0:\n",
    "            actions.append(rows[row_empty][col_empty - 1])\n",
    "        if col_empty < 2:\n",
    "            actions.append(rows[row_empty][col_empty + 1])\n",
    "            \n",
    "        return actions\n",
    "    \n",
    "    def result(self, state, action):\n",
    "        rows = string_to_list(state)\n",
    "        row_empty, col_empty = get_location(rows, 'e')\n",
    "        row_new, col_new = get_location(rows, action)\n",
    "        \n",
    "        rows[row_empty][col_empty], rows[row_new][col_new] = rows[row_new][col_new], rows[row_empty][col_empty]\n",
    "        \n",
    "        return list_to_string(rows)\n",
    "    \n",
    "    def is_goal(self, state):\n",
    "        #Check if the goal has been reached\n",
    "        return state == GOAL\n",
    "    \n",
    "    def heuristic(self, state):\n",
    "        #Returns an estimate of the distance from a state to the goal using the manhattan distance\n",
    "        rows = string_to_list(state)\n",
    "        \n",
    "        distance = 0\n",
    "        \n",
    "        for number in '12345678e':\n",
    "            row_new, col_new = get_location(rows, number)\n",
    "            row_new_goal, col_new_goal = goal_positions[number]\n",
    "            \n",
    "            distance += abs(row_new - row_new_goal) + abs(col_new - col_new_goal)\n",
    "            \n",
    "        return distance"
   ]
  },
  {
   "cell_type": "code",
   "execution_count": 3,
   "metadata": {},
   "outputs": [],
   "source": [
    "def list_to_string(input_list):\n",
    "    return '\\n'.join(['-'.join(x) for x in input_list])\n",
    "\n",
    "def string_to_list(input_string):\n",
    "    return [x.split('-') for x in input_string.split('\\n')]\n",
    "\n",
    "def get_location(rows, input_element):\n",
    "    #Find the 2D location of the input element\n",
    "    for i, row in enumerate(rows):\n",
    "        for j, item in enumerate(row):\n",
    "            if item == input_element:\n",
    "                return i, j"
   ]
  },
  {
   "cell_type": "code",
   "execution_count": 4,
   "metadata": {},
   "outputs": [],
   "source": [
    "GOAL = \"\"\"1-2-3\n",
    "4-5-6\n",
    "7-8-e\"\"\"\n",
    "\n",
    "INITIAL = \"\"\"1-e-2\n",
    "6-3-4\n",
    "7-5-8\"\"\""
   ]
  },
  {
   "cell_type": "code",
   "execution_count": 5,
   "metadata": {},
   "outputs": [],
   "source": [
    "#Create a cache for the goal position of each piece\n",
    "goal_positions = {}\n",
    "rows_goal = string_to_list(GOAL)\n",
    "\n",
    "for number in '12345678e':\n",
    "    goal_positions[number] = get_location(rows_goal, number)"
   ]
  },
  {
   "cell_type": "code",
   "execution_count": 6,
   "metadata": {},
   "outputs": [],
   "source": [
    "result = astar(PuzzleSolver(INITIAL))"
   ]
  },
  {
   "cell_type": "code",
   "execution_count": 7,
   "metadata": {},
   "outputs": [
    {
     "name": "stdout",
     "output_type": "stream",
     "text": [
      "Initial Configuration\n",
      "1-e-2\n",
      "6-3-4\n",
      "7-5-8 \n",
      "\n",
      "After moving 2 into the empty space\n",
      "1-2-e\n",
      "6-3-4\n",
      "7-5-8 \n",
      "\n",
      "After moving 4 into the empty space\n",
      "1-2-4\n",
      "6-3-e\n",
      "7-5-8 \n",
      "\n",
      "After moving 3 into the empty space\n",
      "1-2-4\n",
      "6-e-3\n",
      "7-5-8 \n",
      "\n",
      "After moving 6 into the empty space\n",
      "1-2-4\n",
      "e-6-3\n",
      "7-5-8 \n",
      "\n",
      "After moving 1 into the empty space\n",
      "e-2-4\n",
      "1-6-3\n",
      "7-5-8 \n",
      "\n",
      "After moving 2 into the empty space\n",
      "2-e-4\n",
      "1-6-3\n",
      "7-5-8 \n",
      "\n",
      "After moving 4 into the empty space\n",
      "2-4-e\n",
      "1-6-3\n",
      "7-5-8 \n",
      "\n",
      "After moving 3 into the empty space\n",
      "2-4-3\n",
      "1-6-e\n",
      "7-5-8 \n",
      "\n",
      "After moving 6 into the empty space\n",
      "2-4-3\n",
      "1-e-6\n",
      "7-5-8 \n",
      "\n",
      "After moving 4 into the empty space\n",
      "2-e-3\n",
      "1-4-6\n",
      "7-5-8 \n",
      "\n",
      "After moving 2 into the empty space\n",
      "e-2-3\n",
      "1-4-6\n",
      "7-5-8 \n",
      "\n",
      "After moving 1 into the empty space\n",
      "1-2-3\n",
      "e-4-6\n",
      "7-5-8 \n",
      "\n",
      "After moving 4 into the empty space\n",
      "1-2-3\n",
      "4-e-6\n",
      "7-5-8 \n",
      "\n",
      "After moving 5 into the empty space\n",
      "1-2-3\n",
      "4-5-6\n",
      "7-e-8 \n",
      "\n",
      "After moving 8 into the empty space. Goal achieved!\n",
      "1-2-3\n",
      "4-5-6\n",
      "7-8-e \n",
      "\n"
     ]
    }
   ],
   "source": [
    "#Print the results\n",
    "for i, (action, state) in enumerate(result.path()):\n",
    "    if action == None:\n",
    "        print('Initial Configuration')\n",
    "    elif i == len(result.path()) - 1:\n",
    "        print(f'After moving {action} into the empty space. Goal achieved!')\n",
    "    else:\n",
    "        print(f'After moving {action} into the empty space')\n",
    "        \n",
    "    print(state,'\\n')"
   ]
  },
  {
   "cell_type": "code",
   "execution_count": null,
   "metadata": {},
   "outputs": [],
   "source": []
  },
  {
   "cell_type": "markdown",
   "metadata": {},
   "source": [
    "### Building a maze solver"
   ]
  },
  {
   "cell_type": "code",
   "execution_count": 8,
   "metadata": {},
   "outputs": [],
   "source": [
    "from math import sqrt, fsum, cos, sin"
   ]
  },
  {
   "cell_type": "code",
   "execution_count": 9,
   "metadata": {},
   "outputs": [],
   "source": [
    "class MazeSolver(SearchProblem):\n",
    "    def __init__(self, board):\n",
    "        self.board = board\n",
    "        self.goal = (0, 0)\n",
    "    \n",
    "        for y in range(len(self.board)):\n",
    "            for x in range(len(self.board[y])):\n",
    "                if self.board[y][x].lower() == 'o':\n",
    "                    self.initial = (x, y)\n",
    "                elif self.board[y][x].lower() == 'x':\n",
    "                    self.goal = (x, y)\n",
    "                    \n",
    "        super(MazeSolver, self).__init__(initial_state = self.initial)\n",
    "        \n",
    "    def actions(self, state):\n",
    "        #Define the actions that takes action to arrive at the solution\n",
    "        actions = []\n",
    "        \n",
    "        for action in COSTS.keys():\n",
    "            newx, newy = self.result(state, action)\n",
    "            if self.board[newy][newx] != '#':\n",
    "                actions.append(action)\n",
    "        \n",
    "        return actions\n",
    "    \n",
    "    def result(self, state, action):\n",
    "        #Update the state based on action\n",
    "        x, y = state\n",
    "        \n",
    "        if action.count('up'):\n",
    "            y -= 1\n",
    "        if action.count('down'):\n",
    "            y += 1\n",
    "        if action.count('left'):\n",
    "            x -= 1\n",
    "        if action.count('right'):\n",
    "            x += 1\n",
    "            \n",
    "        new_state = (x, y)\n",
    "        \n",
    "        return new_state\n",
    "    \n",
    "    def is_goal(self, state):\n",
    "        return state == self.goal\n",
    "    \n",
    "    def cost(self, state, action, state2):\n",
    "        return COSTS[action]\n",
    "    \n",
    "    def heuristic(self, state):\n",
    "        x, y = state\n",
    "        gx, gy = self.goal\n",
    "        \n",
    "        return sqrt((x - gx) ** 2 + (y - gy) ** 2)"
   ]
  },
  {
   "cell_type": "code",
   "execution_count": 21,
   "metadata": {},
   "outputs": [],
   "source": [
    "MAP = \"\"\"\n",
    "##############################\n",
    "#         #              #   #\n",
    "# ####    ########       #   #\n",
    "#  o #    #              #   #\n",
    "#    ###     #####  ######   #\n",
    "#      #   ###   #           #\n",
    "#      #     #   #  #  #   ###\n",
    "#     #####    #    #  # x   #\n",
    "#              #       #     #\n",
    "##############################\n",
    "\"\"\""
   ]
  },
  {
   "cell_type": "code",
   "execution_count": 22,
   "metadata": {},
   "outputs": [
    {
     "name": "stdout",
     "output_type": "stream",
     "text": [
      "\n",
      "##############################\n",
      "#         #              #   #\n",
      "# ####    ########       #   #\n",
      "#  o #    #              #   #\n",
      "#    ###     #####  ######   #\n",
      "#      #   ###   #           #\n",
      "#      #     #   #  #  #   ###\n",
      "#     #####    #    #  # x   #\n",
      "#              #       #     #\n",
      "##############################\n",
      "\n"
     ]
    }
   ],
   "source": [
    "#Convert map to a list\n",
    "print(MAP)\n",
    "MAP = [list(x) for x in MAP.split('\\n') if x]"
   ]
  },
  {
   "cell_type": "code",
   "execution_count": 23,
   "metadata": {},
   "outputs": [],
   "source": [
    "#Define the cost of moving around the map, a diagonal move is more expensive\n",
    "cost_regular = 1.0\n",
    "cost_diagonal = 1.7"
   ]
  },
  {
   "cell_type": "code",
   "execution_count": 24,
   "metadata": {},
   "outputs": [],
   "source": [
    "COSTS = {\n",
    "    'up': cost_regular, \n",
    "    'down': cost_regular, \n",
    "    'left': cost_regular, \n",
    "    'right': cost_regular, \n",
    "    'up left': cost_diagonal, \n",
    "    'up right': cost_diagonal, \n",
    "    'down left': cost_diagonal, \n",
    "    'down right': cost_diagonal\n",
    "}"
   ]
  },
  {
   "cell_type": "code",
   "execution_count": 25,
   "metadata": {},
   "outputs": [],
   "source": [
    "problem = MazeSolver(MAP)"
   ]
  },
  {
   "cell_type": "code",
   "execution_count": 26,
   "metadata": {},
   "outputs": [],
   "source": [
    "result = astar(problem, graph_search = True)"
   ]
  },
  {
   "cell_type": "code",
   "execution_count": 28,
   "metadata": {},
   "outputs": [],
   "source": [
    "path = [x[1] for x in result.path()]"
   ]
  },
  {
   "cell_type": "code",
   "execution_count": 35,
   "metadata": {},
   "outputs": [
    {
     "name": "stdout",
     "output_type": "stream",
     "text": [
      "\n",
      "##############################\n",
      "#         #              #   #\n",
      "# ####    ########       #   #\n",
      "#  o #    #              #   #\n",
      "#   .###     #####  ######   #\n",
      "#   .  #   ###   #  ....     #\n",
      "#   .  #     # ..# .#  #.  ###\n",
      "#    .#####   .# .. #  # x   #\n",
      "#     ........ #       #     #\n",
      "##############################\n"
     ]
    }
   ],
   "source": [
    "#Print the result\n",
    "#print()\n",
    "for y in range(len(MAP)):\n",
    "    for x in range(len(MAP[y])):\n",
    "        if (x, y) == problem.initial:\n",
    "            print('o', end = '')\n",
    "        elif (x, y) == problem.goal:\n",
    "            print('x', end = '')\n",
    "        elif (x, y) in path:\n",
    "            print('.', end = '')\n",
    "        else:\n",
    "            print(MAP[y][x], end = '')\n",
    "    print()"
   ]
  },
  {
   "cell_type": "code",
   "execution_count": null,
   "metadata": {},
   "outputs": [],
   "source": []
  }
 ],
 "metadata": {
  "kernelspec": {
   "display_name": "Python 3",
   "language": "python",
   "name": "python3"
  },
  "language_info": {
   "codemirror_mode": {
    "name": "ipython",
    "version": 3
   },
   "file_extension": ".py",
   "mimetype": "text/x-python",
   "name": "python",
   "nbconvert_exporter": "python",
   "pygments_lexer": "ipython3",
   "version": "3.8.5"
  }
 },
 "nbformat": 4,
 "nbformat_minor": 4
}

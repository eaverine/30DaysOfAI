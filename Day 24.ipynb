{
 "cells": [
  {
   "cell_type": "markdown",
   "metadata": {},
   "source": [
    "### Integrating a chatbot to a website using Python"
   ]
  },
  {
   "cell_type": "code",
   "execution_count": 17,
   "metadata": {},
   "outputs": [],
   "source": [
    "from google.cloud import dialogflow\n",
    "from google.api_core.exceptions import InvalidArgument\n",
    "import json\n",
    "\n",
    "import os"
   ]
  },
  {
   "cell_type": "code",
   "execution_count": 18,
   "metadata": {},
   "outputs": [],
   "source": [
    "PROJECT_ID = 'chatbot-dialogflow-339511'\n",
    "LANGUAGE_CODE = 'en-US'\n",
    "\n",
    "os.environ['GOOGLE_APPLICATION_CREDENTIALS'] = 'credentials.json'\n",
    "SESSION_ID = session_id"
   ]
  },
  {
   "cell_type": "code",
   "execution_count": 9,
   "metadata": {},
   "outputs": [],
   "source": [
    "text_to_be_analyzed = 'Hi bot, What is your name?'"
   ]
  },
  {
   "cell_type": "code",
   "execution_count": 19,
   "metadata": {},
   "outputs": [],
   "source": [
    "session_client = dialogflow.SessionsClient()\n",
    "session = session_client.session_path(PROJECT_ID, SESSION_ID)"
   ]
  },
  {
   "cell_type": "code",
   "execution_count": 20,
   "metadata": {},
   "outputs": [],
   "source": [
    "text_input = dialogflow.TextInput(text = text_to_be_analyzed, language_code = LANGUAGE_CODE)\n",
    "query_input = dialogflow.QueryInput(text = text_input)"
   ]
  },
  {
   "cell_type": "code",
   "execution_count": 22,
   "metadata": {},
   "outputs": [],
   "source": [
    "try:\n",
    "    response = session_client.detect_intent(session = session, query_input = query_input)\n",
    "except InvalidArgument:\n",
    "    raise"
   ]
  },
  {
   "cell_type": "code",
   "execution_count": 24,
   "metadata": {},
   "outputs": [
    {
     "name": "stdout",
     "output_type": "stream",
     "text": [
      "Query text:  Hi bot, What is your name?\n",
      "Detected intent:  Demlinks-bot\n",
      "\n",
      "Detected intent confidence:  0.7802372574806213\n",
      "Fulfillment text:  Hi, I'm demlinks-bot. I would help you to navigate our site and find a suitable solution to your business problem.\n"
     ]
    }
   ],
   "source": [
    "print('Query text: ', response.query_result.query_text)\n",
    "print('Detected intent: ', response.query_result.intent.display_name)\n",
    "\n",
    "print('\\nDetected intent confidence: ', response.query_result.intent_detection_confidence)\n",
    "print('Fulfillment text: ', response.query_result.fulfillment_text)"
   ]
  },
  {
   "cell_type": "code",
   "execution_count": null,
   "metadata": {},
   "outputs": [],
   "source": []
  },
  {
   "cell_type": "markdown",
   "metadata": {},
   "source": [
    "### Create webhook using Flask"
   ]
  },
  {
   "cell_type": "code",
   "execution_count": 28,
   "metadata": {},
   "outputs": [],
   "source": [
    "from flask import Flask"
   ]
  },
  {
   "cell_type": "code",
   "execution_count": 29,
   "metadata": {},
   "outputs": [],
   "source": [
    "app = Flask(__name__)"
   ]
  },
  {
   "cell_type": "code",
   "execution_count": 30,
   "metadata": {},
   "outputs": [],
   "source": [
    "#default route\n",
    "@app.route('/')\n",
    "def index():\n",
    "    return 'Hello world'\n",
    "\n",
    "#Create route for webhook\n",
    "@app.route('/webhook')\n",
    "def webhook():\n",
    "    return 'Hello World'"
   ]
  },
  {
   "cell_type": "code",
   "execution_count": 33,
   "metadata": {},
   "outputs": [
    {
     "name": "stdout",
     "output_type": "stream",
     "text": [
      " * Serving Flask app \"__main__\" (lazy loading)\n",
      " * Environment: production\n",
      "   WARNING: This is a development server. Do not use it in a production deployment.\n",
      "   Use a production WSGI server instead.\n",
      " * Debug mode: off\n"
     ]
    },
    {
     "name": "stderr",
     "output_type": "stream",
     "text": [
      " * Running on http://127.0.0.1:5000/ (Press CTRL+C to quit)\n"
     ]
    }
   ],
   "source": [
    "app.run()"
   ]
  }
 ],
 "metadata": {
  "kernelspec": {
   "display_name": "Python 3",
   "language": "python",
   "name": "python3"
  },
  "language_info": {
   "codemirror_mode": {
    "name": "ipython",
    "version": 3
   },
   "file_extension": ".py",
   "mimetype": "text/x-python",
   "name": "python",
   "nbconvert_exporter": "python",
   "pygments_lexer": "ipython3",
   "version": "3.8.5"
  }
 },
 "nbformat": 4,
 "nbformat_minor": 4
}

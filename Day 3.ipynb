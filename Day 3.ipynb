{
 "cells": [
  {
   "cell_type": "code",
   "execution_count": 1,
   "metadata": {},
   "outputs": [],
   "source": [
    "import numpy as np\n",
    "import pandas as pd"
   ]
  },
  {
   "cell_type": "code",
   "execution_count": 2,
   "metadata": {},
   "outputs": [],
   "source": [
    "data = pd.read_csv('data/train.csv')"
   ]
  },
  {
   "cell_type": "markdown",
   "metadata": {},
   "source": [
    "### Dropping outliers using standard deviation"
   ]
  },
  {
   "cell_type": "code",
   "execution_count": 3,
   "metadata": {},
   "outputs": [],
   "source": [
    "factor = 2\n",
    "upper_lim = data['battery_power'].mean() + data['battery_power'].std() * factor\n",
    "lower_lim = data['battery_power'].mean() - data['battery_power'].std() * factor"
   ]
  },
  {
   "cell_type": "code",
   "execution_count": 4,
   "metadata": {},
   "outputs": [
    {
     "name": "stdout",
     "output_type": "stream",
     "text": [
      "      battery_power  blue  clock_speed  dual_sim  fc  four_g  int_memory\n",
      "0               842     0          2.2         0   1       0           7\n",
      "1              1021     1          0.5         1   0       1          53\n",
      "2               563     1          0.5         1   2       1          41\n",
      "3               615     1          2.5         0   0       0          10\n",
      "4              1821     1          1.2         0  13       1          44\n",
      "...             ...   ...          ...       ...  ..     ...         ...\n",
      "1995            794     1          0.5         1   0       1           2\n",
      "1996           1965     1          2.6         1   0       0          39\n",
      "1997           1911     0          0.9         1   1       1          36\n",
      "1998           1512     0          0.9         0   4       1          46\n",
      "1999            510     1          2.0         1   5       1          45\n",
      "\n",
      "[2000 rows x 7 columns]\n"
     ]
    }
   ],
   "source": [
    "data = data[(data['battery_power'] > lower_lim) & (data['battery_power'] < upper_lim)]\n",
    "\n",
    "print(data)"
   ]
  },
  {
   "cell_type": "markdown",
   "metadata": {},
   "source": [
    "### Dropping outliers using percentiles"
   ]
  },
  {
   "cell_type": "code",
   "execution_count": 5,
   "metadata": {},
   "outputs": [],
   "source": [
    "upper_lim = data['battery_power'].quantile(.99)\n",
    "lower_lim = data['battery_power'].quantile(.01)"
   ]
  },
  {
   "cell_type": "code",
   "execution_count": 6,
   "metadata": {},
   "outputs": [
    {
     "name": "stdout",
     "output_type": "stream",
     "text": [
      "      battery_power  blue  clock_speed  dual_sim  fc  four_g  int_memory\n",
      "0               842     0          2.2         0   1       0           7\n",
      "1              1021     1          0.5         1   0       1          53\n",
      "2               563     1          0.5         1   2       1          41\n",
      "3               615     1          2.5         0   0       0          10\n",
      "4              1821     1          1.2         0  13       1          44\n",
      "...             ...   ...          ...       ...  ..     ...         ...\n",
      "1994            858     0          2.2         0   1       0          50\n",
      "1995            794     1          0.5         1   0       1           2\n",
      "1996           1965     1          2.6         1   0       0          39\n",
      "1997           1911     0          0.9         1   1       1          36\n",
      "1998           1512     0          0.9         0   4       1          46\n",
      "\n",
      "[1957 rows x 7 columns]\n"
     ]
    }
   ],
   "source": [
    "data = data[(data['battery_power'] > lower_lim) & (data['battery_power'] < upper_lim)]\n",
    "\n",
    "print(data)"
   ]
  },
  {
   "cell_type": "markdown",
   "metadata": {},
   "source": [
    "### Dropping outliers by capping values"
   ]
  },
  {
   "cell_type": "code",
   "execution_count": 7,
   "metadata": {},
   "outputs": [
    {
     "name": "stdout",
     "output_type": "stream",
     "text": [
      "      battery_power  blue  clock_speed  dual_sim  fc  four_g  int_memory\n",
      "0             842.0     0          2.2         0   1       0           7\n",
      "1            1021.0     1          0.5         1   0       1          53\n",
      "2             563.0     1          0.5         1   2       1          41\n",
      "3             615.0     1          2.5         0   0       0          10\n",
      "4            1821.0     1          1.2         0  13       1          44\n",
      "...             ...   ...          ...       ...  ..     ...         ...\n",
      "1994          858.0     0          2.2         0   1       0          50\n",
      "1995          794.0     1          0.5         1   0       1           2\n",
      "1996         1965.0     1          2.6         1   0       0          39\n",
      "1997         1911.0     0          0.9         1   1       1          36\n",
      "1998         1512.0     0          0.9         0   4       1          46\n",
      "\n",
      "[1957 rows x 7 columns]\n"
     ]
    }
   ],
   "source": [
    "#By using the upper and lower lim of the percentile above\n",
    "\n",
    "data.loc[(data['battery_power'] > upper_lim), 'battery_power'] = upper_lim\n",
    "data.loc[(data['battery_power'] < lower_lim), 'battery_power'] = lower_lim\n",
    "\n",
    "print(data)"
   ]
  },
  {
   "cell_type": "code",
   "execution_count": null,
   "metadata": {},
   "outputs": [],
   "source": []
  },
  {
   "cell_type": "markdown",
   "metadata": {},
   "source": [
    "### One-hot encoding"
   ]
  },
  {
   "cell_type": "code",
   "execution_count": 8,
   "metadata": {},
   "outputs": [],
   "source": [
    "data = pd.read_csv('data/dataset.csv')"
   ]
  },
  {
   "cell_type": "code",
   "execution_count": 9,
   "metadata": {},
   "outputs": [
    {
     "name": "stdout",
     "output_type": "stream",
     "text": [
      "    index  black  green  purple  red   white  yellow\n",
      "0       0      0      1       0     0      0       0\n",
      "1       1      0      0       0     0      0       1\n",
      "2       2      0      0       0     0      0       0\n",
      "3       3      0      0       0     1      0       0\n",
      "4       4      0      0       1     0      0       0\n",
      "5       5      0      0       0     1      0       0\n",
      "6       6      0      0       0     1      0       0\n",
      "7       7      0      0       1     0      0       0\n",
      "8       8      0      0       0     0      0       0\n",
      "9       9      0      0       0     1      0       0\n",
      "10     10      0      0       0     0      0       1\n",
      "11     11      0      0       0     0      0       0\n",
      "12     12      1      0       0     0      0       0\n",
      "13     13      0      0       0     0      1       0\n"
     ]
    }
   ],
   "source": [
    "encoded_columns = pd.get_dummies(data['color'])\n",
    "\n",
    "data = data.join(encoded_columns).drop('color', axis = 1)\n",
    "\n",
    "print(data)"
   ]
  },
  {
   "cell_type": "code",
   "execution_count": null,
   "metadata": {},
   "outputs": [],
   "source": []
  },
  {
   "cell_type": "markdown",
   "metadata": {},
   "source": [
    "### Log transform"
   ]
  },
  {
   "cell_type": "code",
   "execution_count": 10,
   "metadata": {},
   "outputs": [
    {
     "name": "stdout",
     "output_type": "stream",
     "text": [
      "   value     log+1       log\n",
      "0   3.67  1.541159  3.753496\n",
      "1 -17.00       NaN  3.091042\n",
      "2  44.00  3.806662  4.418841\n",
      "3  37.00  3.637586  4.330733\n",
      "4   3.00  1.386294  3.737670\n",
      "5  31.00  3.465736  4.248495\n",
      "6 -38.00       NaN  0.000000\n"
     ]
    }
   ],
   "source": [
    "data = pd.DataFrame({'value': [3.67, -17, 44, 37, 3, 31, -38]})\n",
    "\n",
    "data['log+1'] = (data['value'] + 1).transform(np.log)\n",
    "\n",
    "#Handling negative values\n",
    "data['log'] = (data['value'] - data['value'].min() + 1).transform(np.log)\n",
    "\n",
    "print(data)"
   ]
  },
  {
   "cell_type": "markdown",
   "metadata": {},
   "source": [
    "### Normalization"
   ]
  },
  {
   "cell_type": "code",
   "execution_count": 11,
   "metadata": {},
   "outputs": [
    {
     "name": "stdout",
     "output_type": "stream",
     "text": [
      "   value  normalized\n",
      "0      7    0.450000\n",
      "1     25    0.600000\n",
      "2    -47    0.000000\n",
      "3     73    1.000000\n",
      "4      8    0.458333\n",
      "5     22    0.575000\n",
      "6     53    0.833333\n",
      "7    -25    0.183333\n"
     ]
    }
   ],
   "source": [
    "data = pd.DataFrame({'value': [7,25, -47, 73, 8, 22, 53, -25]})\n",
    "\n",
    "data['normalized'] = (data['value'] - data['value'].min()) / (data['value'].max() - data['value'].min())\n",
    "\n",
    "print(data)"
   ]
  },
  {
   "cell_type": "markdown",
   "metadata": {},
   "source": [
    "### Standardization"
   ]
  },
  {
   "cell_type": "code",
   "execution_count": 12,
   "metadata": {},
   "outputs": [
    {
     "name": "stdout",
     "output_type": "stream",
     "text": [
      "   value  normalized  standardized\n",
      "0      7    0.450000     -0.193539\n",
      "1     25    0.600000      0.270954\n",
      "2    -47    0.000000     -1.587017\n",
      "3     73    1.000000      1.509601\n",
      "4      8    0.458333     -0.167733\n",
      "5     22    0.575000      0.193539\n",
      "6     53    0.833333      0.993498\n",
      "7    -25    0.183333     -1.019303\n"
     ]
    }
   ],
   "source": [
    "data['standardized'] = (data['value'] - data['value'].mean()) / data['value'].std()\n",
    "\n",
    "print(data)"
   ]
  },
  {
   "cell_type": "code",
   "execution_count": null,
   "metadata": {},
   "outputs": [],
   "source": []
  },
  {
   "cell_type": "markdown",
   "metadata": {},
   "source": [
    "### Preprocessing data"
   ]
  },
  {
   "cell_type": "code",
   "execution_count": 13,
   "metadata": {},
   "outputs": [],
   "source": [
    "from sklearn import preprocessing\n",
    "\n",
    "input_data = np.array([[5.1, -2.9, 3.3], [-1.2, 7.8, -6.1], [3.9, 0.4, 2.1], [7.3, -9.9, -4.5]])"
   ]
  },
  {
   "cell_type": "code",
   "execution_count": 14,
   "metadata": {},
   "outputs": [
    {
     "name": "stdout",
     "output_type": "stream",
     "text": [
      "Binarized data [[1. 0. 1.]\n",
      " [0. 1. 0.]\n",
      " [1. 0. 0.]\n",
      " [1. 0. 0.]]\n"
     ]
    }
   ],
   "source": [
    "#Binarization\n",
    "\n",
    "binarized_data = preprocessing.Binarizer(threshold = 2.1).transform(input_data)\n",
    "\n",
    "print('Binarized data', binarized_data)"
   ]
  },
  {
   "cell_type": "code",
   "execution_count": 15,
   "metadata": {},
   "outputs": [
    {
     "name": "stdout",
     "output_type": "stream",
     "text": [
      "Before\n",
      "Mean = [ 3.775 -1.15  -1.3  ]\n",
      "Std deviation = [3.12039661 6.36651396 4.0620192 ]\n",
      "\n",
      "After\n",
      "Mean = [1.11022302e-16 0.00000000e+00 2.77555756e-17]\n",
      "Std deviation = [1. 1. 1.]\n"
     ]
    }
   ],
   "source": [
    "#Mean removal\n",
    "\n",
    "print(f'Before\\nMean = {input_data.mean(axis = 0)}\\nStd deviation = {input_data.std(axis = 0)}\\n')\n",
    "\n",
    "scaled_data = preprocessing.scale(input_data)\n",
    "print(f'After\\nMean = {scaled_data.mean(axis = 0)}\\nStd deviation = {scaled_data.std(axis = 0)}')"
   ]
  },
  {
   "cell_type": "code",
   "execution_count": 16,
   "metadata": {},
   "outputs": [
    {
     "name": "stdout",
     "output_type": "stream",
     "text": [
      "Min-max scaled data:\n",
      " [[0.74117647 0.39548023 1.        ]\n",
      " [0.         1.         0.        ]\n",
      " [0.6        0.5819209  0.87234043]\n",
      " [1.         0.         0.17021277]]\n"
     ]
    }
   ],
   "source": [
    "#Min-max scaling\n",
    "\n",
    "minmax_scaler = preprocessing.MinMaxScaler(feature_range = (0, 1))\n",
    "scaled_minmax_data = minmax_scaler.fit_transform(input_data)\n",
    "\n",
    "print('Min-max scaled data:\\n', scaled_minmax_data)"
   ]
  },
  {
   "cell_type": "code",
   "execution_count": 17,
   "metadata": {},
   "outputs": [
    {
     "name": "stdout",
     "output_type": "stream",
     "text": [
      "L1 normalized data:\n",
      "[[ 0.45132743 -0.25663717  0.2920354 ]\n",
      " [-0.0794702   0.51655629 -0.40397351]\n",
      " [ 0.609375    0.0625      0.328125  ]\n",
      " [ 0.33640553 -0.4562212  -0.20737327]]\n",
      "\n",
      "L2 normalized data:\n",
      "[[ 0.75765788 -0.43082507  0.49024922]\n",
      " [-0.12030718  0.78199664 -0.61156148]\n",
      " [ 0.87690281  0.08993875  0.47217844]\n",
      " [ 0.55734935 -0.75585734 -0.34357152]]\n"
     ]
    }
   ],
   "source": [
    "#Normalization\n",
    "\n",
    "l1_normalized_data = preprocessing.normalize(input_data, norm = 'l1')\n",
    "l2_normalized_data = preprocessing.normalize(input_data, norm = 'l2')\n",
    "\n",
    "print(f'L1 normalized data:\\n{l1_normalized_data}\\n')\n",
    "print(f'L2 normalized data:\\n{l2_normalized_data}')"
   ]
  },
  {
   "cell_type": "code",
   "execution_count": 18,
   "metadata": {},
   "outputs": [
    {
     "data": {
      "text/plain": [
       "LabelEncoder()"
      ]
     },
     "execution_count": 18,
     "metadata": {},
     "output_type": "execute_result"
    }
   ],
   "source": [
    "#Label Encoding\n",
    "\n",
    "input_labels = ['red', 'black', 'red', 'green', 'black', 'yellow', 'white']\n",
    "\n",
    "encoder = preprocessing.LabelEncoder()\n",
    "encoder.fit(input_labels)"
   ]
  },
  {
   "cell_type": "code",
   "execution_count": 19,
   "metadata": {},
   "outputs": [
    {
     "name": "stdout",
     "output_type": "stream",
     "text": [
      "Label mapping\n",
      "\n",
      "black --> 0\n",
      "green --> 1\n",
      "red --> 2\n",
      "white --> 3\n",
      "yellow --> 4\n"
     ]
    }
   ],
   "source": [
    "print('Label mapping\\n')\n",
    "\n",
    "for i, item in enumerate(encoder.classes_):\n",
    "    print(f'{item} --> {i}')"
   ]
  },
  {
   "cell_type": "code",
   "execution_count": 20,
   "metadata": {},
   "outputs": [
    {
     "name": "stdout",
     "output_type": "stream",
     "text": [
      "Labels = ['green', 'red', 'black']\n",
      "\n",
      "Encoded values = [1, 2, 0]\n"
     ]
    }
   ],
   "source": [
    "test_labels = ['green', 'red', 'black']\n",
    "encoded_values = encoder.transform(test_labels)\n",
    "\n",
    "print(f'Labels = {test_labels}\\n')\n",
    "print(f'Encoded values = {list(encoded_values)}')"
   ]
  },
  {
   "cell_type": "code",
   "execution_count": 21,
   "metadata": {},
   "outputs": [
    {
     "name": "stdout",
     "output_type": "stream",
     "text": [
      "Encoded values = [3, 0, 4, 1]\n",
      "\n",
      "Decoded values = ['white', 'black', 'yellow', 'green']\n"
     ]
    }
   ],
   "source": [
    "encoded_values = [3, 0, 4, 1]\n",
    "decoded_list = encoder.inverse_transform(encoded_values)\n",
    "\n",
    "print(f'Encoded values = {encoded_values}\\n')\n",
    "print(f'Decoded values = {list(decoded_list)}')"
   ]
  },
  {
   "cell_type": "code",
   "execution_count": null,
   "metadata": {},
   "outputs": [],
   "source": []
  },
  {
   "cell_type": "markdown",
   "metadata": {},
   "source": [
    "### Logistic Regression Classifiers"
   ]
  },
  {
   "cell_type": "code",
   "execution_count": 22,
   "metadata": {},
   "outputs": [],
   "source": [
    "from sklearn import linear_model\n",
    "import matplotlib.pyplot as plt\n",
    "\n",
    "from data.utilities import visualize_classifier"
   ]
  },
  {
   "cell_type": "code",
   "execution_count": 23,
   "metadata": {},
   "outputs": [],
   "source": [
    "X = np.array([[3.1, 7.2], [4, 6.7], [2.9, 8], [5.1, 4.5], [6, 5], [5.6, 5], [3.3, 0.4], [3.9, 0.9], [2.8, 1], \n",
    "              [0.5, 3.4], [1, 4], [0.6, 4.9]])\n",
    "y = np.array([0, 0, 0, 1, 1, 1, 2, 2, 2, 3, 3, 3])"
   ]
  },
  {
   "cell_type": "code",
   "execution_count": 24,
   "metadata": {},
   "outputs": [
    {
     "name": "stderr",
     "output_type": "stream",
     "text": [
      "C:\\Users\\U\\Artificial Intelligence\\data\\utilities.py:23: MatplotlibDeprecationWarning: shading='flat' when X and Y have the same dimensions as C is deprecated since 3.3.  Either specify the corners of the quadrilaterals with X and Y, or pass shading='auto', 'nearest' or 'gouraud', or set rcParams['pcolor.shading'].  This will become an error two minor releases later.\n",
      "  plt.pcolormesh(x_vals, y_vals, output, cmap = plt.cm.gray)\n"
     ]
    },
    {
     "data": {
      "image/png": "[encoded data removed]",
      "text/plain": [
       "<Figure size 432x288 with 1 Axes>"
      ]
     },
     "metadata": {
      "needs_background": "light"
     },
     "output_type": "display_data"
    }
   ],
   "source": [
    "classifier = linear_model.LogisticRegression(solver = 'liblinear', C = 1)\n",
    "\n",
    "classifier.fit(X, y)\n",
    "\n",
    "visualize_classifier(classifier, X, y)"
   ]
  },
  {
   "cell_type": "code",
   "execution_count": 25,
   "metadata": {},
   "outputs": [
    {
     "name": "stderr",
     "output_type": "stream",
     "text": [
      "C:\\Users\\U\\Artificial Intelligence\\data\\utilities.py:23: MatplotlibDeprecationWarning: shading='flat' when X and Y have the same dimensions as C is deprecated since 3.3.  Either specify the corners of the quadrilaterals with X and Y, or pass shading='auto', 'nearest' or 'gouraud', or set rcParams['pcolor.shading'].  This will become an error two minor releases later.\n",
      "  plt.pcolormesh(x_vals, y_vals, output, cmap = plt.cm.gray)\n"
     ]
    },
    {
     "data": {
      "image/png": "[encoded data removed]",
      "text/plain": [
       "<Figure size 432x288 with 1 Axes>"
      ]
     },
     "metadata": {
      "needs_background": "light"
     },
     "output_type": "display_data"
    }
   ],
   "source": [
    "classifier = linear_model.LogisticRegression(solver = 'liblinear', C = 100)\n",
    "\n",
    "classifier.fit(X, y)\n",
    "\n",
    "visualize_classifier(classifier, X, y)"
   ]
  },
  {
   "cell_type": "code",
   "execution_count": null,
   "metadata": {},
   "outputs": [],
   "source": []
  },
  {
   "cell_type": "markdown",
   "metadata": {},
   "source": [
    "### Naive Bayes Classifier"
   ]
  },
  {
   "cell_type": "code",
   "execution_count": 26,
   "metadata": {},
   "outputs": [],
   "source": [
    "from sklearn.naive_bayes import GaussianNB\n",
    "from sklearn.model_selection import train_test_split, cross_val_score"
   ]
  },
  {
   "cell_type": "code",
   "execution_count": 27,
   "metadata": {},
   "outputs": [],
   "source": [
    "input_file = 'data/data_multivar_nb.txt'\n",
    "\n",
    "data = np.loadtxt(input_file, delimiter = ',')\n",
    "X, y = data[:, :-1], data[:, -1]"
   ]
  },
  {
   "cell_type": "code",
   "execution_count": 28,
   "metadata": {},
   "outputs": [
    {
     "data": {
      "text/plain": [
       "GaussianNB()"
      ]
     },
     "execution_count": 28,
     "metadata": {},
     "output_type": "execute_result"
    }
   ],
   "source": [
    "classifier = GaussianNB()\n",
    "\n",
    "classifier.fit(X, y)"
   ]
  },
  {
   "cell_type": "code",
   "execution_count": 29,
   "metadata": {},
   "outputs": [
    {
     "name": "stdout",
     "output_type": "stream",
     "text": [
      "Accuracy of Naive Bayes Classifier = 99.75%\n"
     ]
    },
    {
     "name": "stderr",
     "output_type": "stream",
     "text": [
      "C:\\Users\\U\\Artificial Intelligence\\data\\utilities.py:23: MatplotlibDeprecationWarning: shading='flat' when X and Y have the same dimensions as C is deprecated since 3.3.  Either specify the corners of the quadrilaterals with X and Y, or pass shading='auto', 'nearest' or 'gouraud', or set rcParams['pcolor.shading'].  This will become an error two minor releases later.\n",
      "  plt.pcolormesh(x_vals, y_vals, output, cmap = plt.cm.gray)\n"
     ]
    },
    {
     "data": {
      "image/png": "[encoded data removed]",
      "text/plain": [
       "<Figure size 432x288 with 1 Axes>"
      ]
     },
     "metadata": {
      "needs_background": "light"
     },
     "output_type": "display_data"
    }
   ],
   "source": [
    "y_pred = classifier.predict(X)\n",
    "\n",
    "accuracy = 100 * (y == y_pred).sum() / X.shape[0]\n",
    "\n",
    "print(f'Accuracy of Naive Bayes Classifier = {round(accuracy, 2)}%')\n",
    "\n",
    "visualize_classifier(classifier, X, y)"
   ]
  },
  {
   "cell_type": "code",
   "execution_count": 30,
   "metadata": {},
   "outputs": [],
   "source": [
    "X_train, X_test, y_train, y_test = train_test_split(X, y, test_size = 0.2, random_state = 3)\n",
    "\n",
    "new_classifier = GaussianNB()\n",
    "new_classifier.fit(X_train, y_train)\n",
    "\n",
    "y_test_pred = new_classifier.predict(X_test)"
   ]
  },
  {
   "cell_type": "code",
   "execution_count": 31,
   "metadata": {},
   "outputs": [
    {
     "name": "stdout",
     "output_type": "stream",
     "text": [
      "Accuracy of the new classifier = 100.0%\n"
     ]
    },
    {
     "name": "stderr",
     "output_type": "stream",
     "text": [
      "C:\\Users\\U\\Artificial Intelligence\\data\\utilities.py:23: MatplotlibDeprecationWarning: shading='flat' when X and Y have the same dimensions as C is deprecated since 3.3.  Either specify the corners of the quadrilaterals with X and Y, or pass shading='auto', 'nearest' or 'gouraud', or set rcParams['pcolor.shading'].  This will become an error two minor releases later.\n",
      "  plt.pcolormesh(x_vals, y_vals, output, cmap = plt.cm.gray)\n"
     ]
    },
    {
     "data": {
      "image/png": "[encoded data removed]",
      "text/plain": [
       "<Figure size 432x288 with 1 Axes>"
      ]
     },
     "metadata": {
      "needs_background": "light"
     },
     "output_type": "display_data"
    }
   ],
   "source": [
    "accuracy = 100 * (y_test == y_test_pred).sum() / X_test.shape[0]\n",
    "print(f'Accuracy of the new classifier = {round(accuracy, 2)}%')\n",
    "\n",
    "visualize_classifier(new_classifier, X_test, y_test)"
   ]
  },
  {
   "cell_type": "code",
   "execution_count": 32,
   "metadata": {},
   "outputs": [
    {
     "name": "stdout",
     "output_type": "stream",
     "text": [
      "Accuracy: 99.75%\n",
      "Precision: 99.76%\n",
      "Recall: 99.75%\n",
      "F1: 99.75%\n"
     ]
    }
   ],
   "source": [
    "#Calculating accuracy, precision and recall values using 3-fold cross validation\n",
    "\n",
    "num_folds = 3\n",
    "\n",
    "accuracy_values = cross_val_score(classifier, X, y, scoring = 'accuracy', cv = num_folds)\n",
    "print(f'Accuracy: {round(100 * accuracy_values.mean(), 2)}%')\n",
    "\n",
    "precision_values = cross_val_score(classifier, X, y, scoring = 'precision_weighted', cv = num_folds)\n",
    "print(f'Precision: {round(100 * precision_values.mean(), 2)}%')\n",
    "\n",
    "recall_values = cross_val_score(classifier, X, y, scoring = 'recall_weighted', cv = num_folds)\n",
    "print(f'Recall: {round(100 * recall_values.mean(), 2)}%')\n",
    "\n",
    "f1_values = cross_val_score(classifier, X, y, scoring = 'f1_weighted', cv = num_folds)\n",
    "print(f'F1: {round(100 * f1_values.mean(), 2)}%')"
   ]
  },
  {
   "cell_type": "code",
   "execution_count": null,
   "metadata": {},
   "outputs": [],
   "source": []
  },
  {
   "cell_type": "markdown",
   "metadata": {},
   "source": [
    "### Confusion matrixes"
   ]
  },
  {
   "cell_type": "code",
   "execution_count": 33,
   "metadata": {},
   "outputs": [],
   "source": [
    "from sklearn.metrics import confusion_matrix, classification_report\n",
    "\n",
    "# Define sample labels\n",
    "true_labels = [2, 0, 0, 2, 4, 4, 1, 0, 3, 3, 3]\n",
    "pred_labels = [2, 1, 0, 2, 4, 3, 1, 0, 1, 3, 3]"
   ]
  },
  {
   "cell_type": "code",
   "execution_count": 34,
   "metadata": {},
   "outputs": [],
   "source": [
    "confusion_mat = confusion_matrix(true_labels, pred_labels)"
   ]
  },
  {
   "cell_type": "code",
   "execution_count": 37,
   "metadata": {},
   "outputs": [
    {
     "data": {
      "image/png": "[encoded data removed]",
      "text/plain": [
       "<Figure size 432x288 with 2 Axes>"
      ]
     },
     "metadata": {
      "needs_background": "light"
     },
     "output_type": "display_data"
    }
   ],
   "source": [
    "#Visualize the confusion matrix\n",
    "plt.imshow(confusion_mat, interpolation = 'nearest', cmap = plt.cm.gray)\n",
    "plt.title('Confusion Matrix')\n",
    "plt.colorbar()\n",
    "\n",
    "ticks = np.arange(5)\n",
    "plt.xticks(ticks, ticks)\n",
    "plt.yticks(ticks, ticks)\n",
    "\n",
    "plt.ylabel('True labels')\n",
    "plt.xlabel('Predicted labels');"
   ]
  },
  {
   "cell_type": "code",
   "execution_count": 38,
   "metadata": {},
   "outputs": [
    {
     "name": "stdout",
     "output_type": "stream",
     "text": [
      "              precision    recall  f1-score   support\n",
      "\n",
      "     Class-0       1.00      0.67      0.80         3\n",
      "     Class-1       0.33      1.00      0.50         1\n",
      "     Class-2       1.00      1.00      1.00         2\n",
      "     Class-3       0.67      0.67      0.67         3\n",
      "     Class-4       1.00      0.50      0.67         2\n",
      "\n",
      "    accuracy                           0.73        11\n",
      "   macro avg       0.80      0.77      0.73        11\n",
      "weighted avg       0.85      0.73      0.75        11\n",
      "\n"
     ]
    }
   ],
   "source": [
    "#Classification report\n",
    "\n",
    "targets = ['Class-0', 'Class-1', 'Class-2', 'Class-3', 'Class-4']\n",
    "print(classification_report(true_labels, pred_labels, target_names = targets))"
   ]
  },
  {
   "cell_type": "code",
   "execution_count": null,
   "metadata": {},
   "outputs": [],
   "source": []
  }
 ],
 "metadata": {
  "kernelspec": {
   "display_name": "Python 3",
   "language": "python",
   "name": "python3"
  },
  "language_info": {
   "codemirror_mode": {
    "name": "ipython",
    "version": 3
   },
   "file_extension": ".py",
   "mimetype": "text/x-python",
   "name": "python",
   "nbconvert_exporter": "python",
   "pygments_lexer": "ipython3",
   "version": "3.8.5"
  }
 },
 "nbformat": 4,
 "nbformat_minor": 4
}

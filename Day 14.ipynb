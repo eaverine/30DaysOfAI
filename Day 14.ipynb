{
 "cells": [
  {
   "cell_type": "code",
   "execution_count": 1,
   "metadata": {},
   "outputs": [],
   "source": [
    "### Building a Bot to play Last Coin Standing"
   ]
  },
  {
   "cell_type": "code",
   "execution_count": 1,
   "metadata": {
    "scrolled": true
   },
   "outputs": [
    {
     "name": "stdout",
     "output_type": "stream",
     "text": [
      "C:\\Users\\U\\Artificial Intelligence\\data\n"
     ]
    }
   ],
   "source": [
    "%cd C:\\Users\\U\\Artificial Intelligence\\data\n",
    "#In order to resolve dependency issues from the easyAI code"
   ]
  },
  {
   "cell_type": "code",
   "execution_count": 2,
   "metadata": {},
   "outputs": [],
   "source": [
    "from easyAI import TwoPlayersGame, id_solve, Human_Player, AI_Player\n",
    "from easyAI import TT"
   ]
  },
  {
   "cell_type": "code",
   "execution_count": 6,
   "metadata": {},
   "outputs": [],
   "source": [
    "class LastCoinStanding(TwoPlayersGame):\n",
    "    def __init__(self, players):\n",
    "        self.players = players #Define the players. Necessary parameter\n",
    "        \n",
    "        self.nplayer = 1 #Define who starts the game. Necessary parameter\n",
    "        \n",
    "        self.num_coins = 25 #Overall number of coins in the pile\n",
    "        \n",
    "        self.max_coins = 4 #Define max number of coins allowed per move\n",
    "        \n",
    "    def possible_moves(self):\n",
    "        return [str(x) for x in range(1, self.max_coins+1)]\n",
    "    \n",
    "    def make_move(self, move):\n",
    "        #make move and remove coin(s)\n",
    "        self.num_coins -= int(move)\n",
    "        \n",
    "    def win(self):\n",
    "        #Did the opponent take the last coin?\n",
    "        return self.num_coins <= 0\n",
    "    \n",
    "    def is_over(self):\n",
    "        #Stop the game when somebody wins\n",
    "        return self.win()\n",
    "    \n",
    "    def scoring(self):\n",
    "        return 100 if self.win() else 0\n",
    "    \n",
    "    def show(self):\n",
    "        print(f'{self.num_coins} left in the pile')"
   ]
  },
  {
   "cell_type": "code",
   "execution_count": 7,
   "metadata": {},
   "outputs": [],
   "source": [
    "tt = TT()   #Define the transposition table to store positions and movements\n",
    "\n",
    "LastCoinStanding.ttentry = lambda self: self.num_coins  #Optional method for string describing the game"
   ]
  },
  {
   "cell_type": "code",
   "execution_count": 8,
   "metadata": {},
   "outputs": [
    {
     "name": "stdout",
     "output_type": "stream",
     "text": [
      "d:2, a:0, m:1\n",
      "d:3, a:0, m:1\n",
      "d:4, a:0, m:1\n",
      "d:5, a:0, m:1\n",
      "d:6, a:0, m:1\n",
      "d:7, a:0, m:1\n",
      "d:8, a:0, m:1\n",
      "d:9, a:0, m:1\n",
      "d:10, a:100, m:4\n",
      "1 10 4\n"
     ]
    }
   ],
   "source": [
    "#Solve the game using iterative deepening\n",
    "result, depth, move = id_solve(LastCoinStanding, range(2, 20), win_score = 100, tt = tt)\n",
    "\n",
    "print(result, depth, move)"
   ]
  },
  {
   "cell_type": "code",
   "execution_count": 11,
   "metadata": {},
   "outputs": [
    {
     "name": "stdout",
     "output_type": "stream",
     "text": [
      "25 left in the pile\n",
      "\n",
      "Move #1: player 1 plays 4 :\n",
      "21 left in the pile\n",
      "\n",
      "Player 2 what do you play ? 2\n",
      "\n",
      "Move #2: player 2 plays 2 :\n",
      "19 left in the pile\n",
      "\n",
      "Move #3: player 1 plays 3 :\n",
      "16 left in the pile\n",
      "\n",
      "Player 2 what do you play ? 4\n",
      "\n",
      "Move #4: player 2 plays 4 :\n",
      "12 left in the pile\n",
      "\n",
      "Move #5: player 1 plays 1 :\n",
      "11 left in the pile\n",
      "\n",
      "Player 2 what do you play ? 1\n",
      "\n",
      "Move #6: player 2 plays 1 :\n",
      "10 left in the pile\n",
      "\n",
      "Move #7: player 1 plays 4 :\n",
      "6 left in the pile\n",
      "\n",
      "Player 2 what do you play ? 3\n",
      "\n",
      "Move #8: player 2 plays 3 :\n",
      "3 left in the pile\n",
      "\n",
      "Move #9: player 1 plays 2 :\n",
      "1 left in the pile\n",
      "\n",
      "Player 2 what do you play ? 1\n",
      "\n",
      "Move #10: player 2 plays 1 :\n",
      "0 left in the pile\n"
     ]
    },
    {
     "data": {
      "text/plain": [
       "[(<__main__.LastCoinStanding at 0x84495b0>, '4'),\n",
       " (<__main__.LastCoinStanding at 0x8475520>, '2'),\n",
       " (<__main__.LastCoinStanding at 0x8449ac0>, '3'),\n",
       " (<__main__.LastCoinStanding at 0x8449bb0>, '4'),\n",
       " (<__main__.LastCoinStanding at 0x8475310>, '1'),\n",
       " (<__main__.LastCoinStanding at 0x84bf8b0>, '1'),\n",
       " (<__main__.LastCoinStanding at 0x84ab1c0>, '4'),\n",
       " (<__main__.LastCoinStanding at 0x84bf070>, '3'),\n",
       " (<__main__.LastCoinStanding at 0x84abdf0>, '2'),\n",
       " (<__main__.LastCoinStanding at 0x84ab130>, '1'),\n",
       " <__main__.LastCoinStanding at 0x84751c0>]"
      ]
     },
     "execution_count": 11,
     "metadata": {},
     "output_type": "execute_result"
    }
   ],
   "source": [
    "#Start the game\n",
    "game = LastCoinStanding([AI_Player(tt), Human_Player()])\n",
    "game.play()"
   ]
  },
  {
   "cell_type": "code",
   "execution_count": null,
   "metadata": {},
   "outputs": [],
   "source": []
  }
 ],
 "metadata": {
  "kernelspec": {
   "display_name": "Python 3",
   "language": "python",
   "name": "python3"
  },
  "language_info": {
   "codemirror_mode": {
    "name": "ipython",
    "version": 3
   },
   "file_extension": ".py",
   "mimetype": "text/x-python",
   "name": "python",
   "nbconvert_exporter": "python",
   "pygments_lexer": "ipython3",
   "version": "3.8.5"
  }
 },
 "nbformat": 4,
 "nbformat_minor": 4
}

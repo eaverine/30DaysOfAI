{
 "cells": [
  {
   "cell_type": "markdown",
   "metadata": {},
   "source": [
    "### Generating a bit-pattern with predefined parameters using Genetic Algorithm"
   ]
  },
  {
   "cell_type": "code",
   "execution_count": 1,
   "metadata": {
    "scrolled": true
   },
   "outputs": [],
   "source": [
    "from deap import base, creator, tools\n",
    "from random import randint, random, seed\n",
    "\n",
    "import numpy as np"
   ]
  },
  {
   "cell_type": "code",
   "execution_count": 2,
   "metadata": {},
   "outputs": [],
   "source": [
    "def eval_func(individual):\n",
    "    #Evaluation function\n",
    "    target_sum = 45\n",
    "    return len(individual) - abs(sum(individual) - target_sum),\n",
    "\n",
    "def create_toolbox(num_bits):\n",
    "    creator.create('FitnessMax', base.Fitness, weights = (1.0,))\n",
    "    creator.create('Individual', list, fitness = creator.FitnessMax)\n",
    "\n",
    "    toolbox = base.Toolbox()\n",
    "\n",
    "    toolbox.register('attr_bol', randint, 0, 1)\n",
    "    toolbox.register('individual', tools.initRepeat, creator.Individual, toolbox.attr_bol, num_bits)\n",
    "    toolbox.register('population', tools.initRepeat, list, toolbox.individual)\n",
    "    \n",
    "    toolbox.register('evaluate', eval_func)\n",
    "    toolbox.register('mate', tools.cxTwoPoint)\n",
    "    toolbox.register('mutate', tools.mutFlipBit, indpb = 0.05)\n",
    "    toolbox.register('select', tools.selTournament, tournsize = 3)\n",
    "    \n",
    "    return toolbox"
   ]
  },
  {
   "cell_type": "code",
   "execution_count": 3,
   "metadata": {},
   "outputs": [],
   "source": [
    "num_bits = 75\n",
    "\n",
    "toolbox = create_toolbox(num_bits)"
   ]
  },
  {
   "cell_type": "code",
   "execution_count": 4,
   "metadata": {},
   "outputs": [],
   "source": [
    "#Seed the random number generator to get repeatable results\n",
    "seed(7)\n",
    "\n",
    "population = toolbox.population(n = 500)"
   ]
  },
  {
   "cell_type": "code",
   "execution_count": 5,
   "metadata": {},
   "outputs": [],
   "source": [
    "probab_crossing, probab_mutating = 0.5, 0.2\n",
    "\n",
    "num_generations = 60 #The more the generations, the more cycles to improve the fitness of the population"
   ]
  },
  {
   "cell_type": "code",
   "execution_count": 6,
   "metadata": {},
   "outputs": [
    {
     "name": "stdout",
     "output_type": "stream",
     "text": [
      "Starting the evolution process\n",
      "Evaluated 500 individuals\n"
     ]
    }
   ],
   "source": [
    "print('Starting the evolution process')\n",
    "\n",
    "#Evaluate the entire population\n",
    "fitnesses = list(map(toolbox.evaluate, population))\n",
    "for ind, fit in zip(population, fitnesses):\n",
    "    ind.fitness.values = fit\n",
    "    \n",
    "print(f'Evaluated {len(population)} individuals')"
   ]
  },
  {
   "cell_type": "code",
   "execution_count": 7,
   "metadata": {},
   "outputs": [
    {
     "name": "stdout",
     "output_type": "stream",
     "text": [
      "Generation 0\n",
      "Evaluated 297 individuals\n",
      "Min = 58.0, Max = 75.0\n",
      "Average = 70.43, Standard deviation = 2.91\n",
      "\n",
      "Generation 1\n",
      "Evaluated 303 individuals\n",
      "Min = 63.0, Max = 75.0\n",
      "Average = 72.44, Standard deviation = 2.16\n",
      "\n",
      "Generation 2\n",
      "Evaluated 310 individuals\n",
      "Min = 65.0, Max = 75.0\n",
      "Average = 73.31, Standard deviation = 1.6\n",
      "\n",
      "Generation 3\n",
      "Evaluated 273 individuals\n",
      "Min = 67.0, Max = 75.0\n",
      "Average = 73.76, Standard deviation = 1.41\n",
      "\n",
      "Generation 4\n",
      "Evaluated 309 individuals\n",
      "Min = 68.0, Max = 75.0\n",
      "Average = 73.87, Standard deviation = 1.35\n",
      "\n",
      "Generation 5\n",
      "Evaluated 312 individuals\n",
      "Min = 68.0, Max = 75.0\n",
      "Average = 73.83, Standard deviation = 1.36\n",
      "\n",
      "Generation 6\n",
      "Evaluated 308 individuals\n",
      "Min = 67.0, Max = 75.0\n",
      "Average = 73.76, Standard deviation = 1.5\n",
      "\n",
      "Generation 7\n",
      "Evaluated 314 individuals\n",
      "Min = 67.0, Max = 75.0\n",
      "Average = 73.85, Standard deviation = 1.39\n",
      "\n",
      "Generation 8\n",
      "Evaluated 309 individuals\n",
      "Min = 66.0, Max = 75.0\n",
      "Average = 73.84, Standard deviation = 1.48\n",
      "\n",
      "Generation 9\n",
      "Evaluated 288 individuals\n",
      "Min = 68.0, Max = 75.0\n",
      "Average = 73.85, Standard deviation = 1.47\n",
      "\n",
      "Generation 10\n",
      "Evaluated 306 individuals\n",
      "Min = 68.0, Max = 75.0\n",
      "Average = 73.83, Standard deviation = 1.42\n",
      "\n",
      "Generation 11\n",
      "Evaluated 301 individuals\n",
      "Min = 66.0, Max = 75.0\n",
      "Average = 73.83, Standard deviation = 1.45\n",
      "\n",
      "Generation 12\n",
      "Evaluated 312 individuals\n",
      "Min = 68.0, Max = 75.0\n",
      "Average = 73.87, Standard deviation = 1.35\n",
      "\n",
      "Generation 13\n",
      "Evaluated 310 individuals\n",
      "Min = 66.0, Max = 75.0\n",
      "Average = 73.7, Standard deviation = 1.58\n",
      "\n",
      "Generation 14\n",
      "Evaluated 289 individuals\n",
      "Min = 68.0, Max = 75.0\n",
      "Average = 73.77, Standard deviation = 1.57\n",
      "\n",
      "Generation 15\n",
      "Evaluated 312 individuals\n",
      "Min = 68.0, Max = 75.0\n",
      "Average = 73.92, Standard deviation = 1.37\n",
      "\n",
      "Generation 16\n",
      "Evaluated 281 individuals\n",
      "Min = 66.0, Max = 75.0\n",
      "Average = 73.92, Standard deviation = 1.5\n",
      "\n",
      "Generation 17\n",
      "Evaluated 304 individuals\n",
      "Min = 67.0, Max = 75.0\n",
      "Average = 74.03, Standard deviation = 1.34\n",
      "\n",
      "Generation 18\n",
      "Evaluated 314 individuals\n",
      "Min = 67.0, Max = 75.0\n",
      "Average = 73.96, Standard deviation = 1.38\n",
      "\n",
      "Generation 19\n",
      "Evaluated 317 individuals\n",
      "Min = 66.0, Max = 75.0\n",
      "Average = 73.71, Standard deviation = 1.55\n",
      "\n",
      "Generation 20\n",
      "Evaluated 297 individuals\n",
      "Min = 68.0, Max = 75.0\n",
      "Average = 73.77, Standard deviation = 1.57\n",
      "\n",
      "Generation 21\n",
      "Evaluated 290 individuals\n",
      "Min = 68.0, Max = 75.0\n",
      "Average = 73.99, Standard deviation = 1.31\n",
      "\n",
      "Generation 22\n",
      "Evaluated 299 individuals\n",
      "Min = 66.0, Max = 75.0\n",
      "Average = 73.89, Standard deviation = 1.49\n",
      "\n",
      "Generation 23\n",
      "Evaluated 292 individuals\n",
      "Min = 68.0, Max = 75.0\n",
      "Average = 73.92, Standard deviation = 1.34\n",
      "\n",
      "Generation 24\n",
      "Evaluated 312 individuals\n",
      "Min = 68.0, Max = 75.0\n",
      "Average = 73.83, Standard deviation = 1.31\n",
      "\n",
      "Generation 25\n",
      "Evaluated 294 individuals\n",
      "Min = 68.0, Max = 75.0\n",
      "Average = 73.89, Standard deviation = 1.31\n",
      "\n",
      "Generation 26\n",
      "Evaluated 307 individuals\n",
      "Min = 68.0, Max = 75.0\n",
      "Average = 73.93, Standard deviation = 1.31\n",
      "\n",
      "Generation 27\n",
      "Evaluated 303 individuals\n",
      "Min = 67.0, Max = 75.0\n",
      "Average = 73.86, Standard deviation = 1.43\n",
      "\n",
      "Generation 28\n",
      "Evaluated 293 individuals\n",
      "Min = 69.0, Max = 75.0\n",
      "Average = 74.02, Standard deviation = 1.27\n",
      "\n",
      "Generation 29\n",
      "Evaluated 315 individuals\n",
      "Min = 67.0, Max = 75.0\n",
      "Average = 73.9, Standard deviation = 1.37\n",
      "\n",
      "Generation 30\n",
      "Evaluated 280 individuals\n",
      "Min = 69.0, Max = 75.0\n",
      "Average = 74.07, Standard deviation = 1.19\n",
      "\n",
      "Generation 31\n",
      "Evaluated 277 individuals\n",
      "Min = 67.0, Max = 75.0\n",
      "Average = 74.07, Standard deviation = 1.3\n",
      "\n",
      "Generation 32\n",
      "Evaluated 289 individuals\n",
      "Min = 69.0, Max = 75.0\n",
      "Average = 74.0, Standard deviation = 1.34\n",
      "\n",
      "Generation 33\n",
      "Evaluated 297 individuals\n",
      "Min = 68.0, Max = 75.0\n",
      "Average = 73.9, Standard deviation = 1.37\n",
      "\n",
      "Generation 34\n",
      "Evaluated 288 individuals\n",
      "Min = 69.0, Max = 75.0\n",
      "Average = 74.02, Standard deviation = 1.3\n",
      "\n",
      "Generation 35\n",
      "Evaluated 310 individuals\n",
      "Min = 68.0, Max = 75.0\n",
      "Average = 74.04, Standard deviation = 1.28\n",
      "\n",
      "Generation 36\n",
      "Evaluated 298 individuals\n",
      "Min = 67.0, Max = 75.0\n",
      "Average = 74.04, Standard deviation = 1.34\n",
      "\n",
      "Generation 37\n",
      "Evaluated 283 individuals\n",
      "Min = 67.0, Max = 75.0\n",
      "Average = 74.13, Standard deviation = 1.25\n",
      "\n",
      "Generation 38\n",
      "Evaluated 291 individuals\n",
      "Min = 69.0, Max = 75.0\n",
      "Average = 74.12, Standard deviation = 1.1\n",
      "\n",
      "Generation 39\n",
      "Evaluated 306 individuals\n",
      "Min = 69.0, Max = 75.0\n",
      "Average = 74.01, Standard deviation = 1.24\n",
      "\n",
      "Generation 40\n",
      "Evaluated 294 individuals\n",
      "Min = 67.0, Max = 75.0\n",
      "Average = 73.97, Standard deviation = 1.31\n",
      "\n",
      "Generation 41\n",
      "Evaluated 296 individuals\n",
      "Min = 68.0, Max = 75.0\n",
      "Average = 74.08, Standard deviation = 1.22\n",
      "\n",
      "Generation 42\n",
      "Evaluated 305 individuals\n",
      "Min = 69.0, Max = 75.0\n",
      "Average = 74.09, Standard deviation = 1.12\n",
      "\n",
      "Generation 43\n",
      "Evaluated 300 individuals\n",
      "Min = 69.0, Max = 75.0\n",
      "Average = 73.99, Standard deviation = 1.22\n",
      "\n",
      "Generation 44\n",
      "Evaluated 257 individuals\n",
      "Min = 68.0, Max = 75.0\n",
      "Average = 74.15, Standard deviation = 1.18\n",
      "\n",
      "Generation 45\n",
      "Evaluated 311 individuals\n",
      "Min = 68.0, Max = 75.0\n",
      "Average = 74.01, Standard deviation = 1.26\n",
      "\n",
      "Generation 46\n",
      "Evaluated 322 individuals\n",
      "Min = 67.0, Max = 75.0\n",
      "Average = 74.08, Standard deviation = 1.15\n",
      "\n",
      "Generation 47\n",
      "Evaluated 293 individuals\n",
      "Min = 68.0, Max = 75.0\n",
      "Average = 74.11, Standard deviation = 1.19\n",
      "\n",
      "Generation 48\n",
      "Evaluated 333 individuals\n",
      "Min = 68.0, Max = 75.0\n",
      "Average = 73.97, Standard deviation = 1.23\n",
      "\n",
      "Generation 49\n",
      "Evaluated 288 individuals\n",
      "Min = 70.0, Max = 75.0\n",
      "Average = 74.03, Standard deviation = 1.16\n",
      "\n",
      "Generation 50\n",
      "Evaluated 286 individuals\n",
      "Min = 66.0, Max = 75.0\n",
      "Average = 74.04, Standard deviation = 1.31\n",
      "\n",
      "Generation 51\n",
      "Evaluated 309 individuals\n",
      "Min = 70.0, Max = 75.0\n",
      "Average = 74.08, Standard deviation = 1.21\n",
      "\n",
      "Generation 52\n",
      "Evaluated 305 individuals\n",
      "Min = 68.0, Max = 75.0\n",
      "Average = 74.1, Standard deviation = 1.23\n",
      "\n",
      "Generation 53\n",
      "Evaluated 305 individuals\n",
      "Min = 67.0, Max = 75.0\n",
      "Average = 74.03, Standard deviation = 1.33\n",
      "\n",
      "Generation 54\n",
      "Evaluated 290 individuals\n",
      "Min = 70.0, Max = 75.0\n",
      "Average = 74.15, Standard deviation = 1.11\n",
      "\n",
      "Generation 55\n",
      "Evaluated 302 individuals\n",
      "Min = 69.0, Max = 75.0\n",
      "Average = 74.07, Standard deviation = 1.15\n",
      "\n",
      "Generation 56\n",
      "Evaluated 306 individuals\n",
      "Min = 68.0, Max = 75.0\n",
      "Average = 73.96, Standard deviation = 1.32\n",
      "\n",
      "Generation 57\n",
      "Evaluated 306 individuals\n",
      "Min = 68.0, Max = 75.0\n",
      "Average = 74.02, Standard deviation = 1.27\n",
      "\n",
      "Generation 58\n",
      "Evaluated 276 individuals\n",
      "Min = 69.0, Max = 75.0\n",
      "Average = 74.15, Standard deviation = 1.18\n",
      "\n",
      "Generation 59\n",
      "Evaluated 288 individuals\n",
      "Min = 69.0, Max = 75.0\n",
      "Average = 74.12, Standard deviation = 1.24\n",
      "\n",
      "\n",
      "End of Evolution\n"
     ]
    }
   ],
   "source": [
    "#Iterate through generations\n",
    "for g in range(num_generations):\n",
    "    print(f'Generation {g}')\n",
    "    \n",
    "    #Select the next generation individuals\n",
    "    offspring = toolbox.select(population, len(population))\n",
    "    \n",
    "    #Clone the selected individuals\n",
    "    offspring = list(map(toolbox.clone, offspring))\n",
    "    \n",
    "    #Apply crossover and mutation on the offspring\n",
    "    for child1, child2 in zip(offspring[::2], offspring[1::2]):\n",
    "        #Cross two individuals\n",
    "        if random() < probab_crossing:\n",
    "            toolbox.mate(child1, child2)\n",
    "            \n",
    "            #Forget the fitness values of the children\n",
    "            del child1.fitness.values\n",
    "            del child2.fitness.values\n",
    "            \n",
    "    for mutant in offspring:\n",
    "        #Mutate an individual\n",
    "        if random() < probab_mutating:\n",
    "            toolbox.mutate(mutant)\n",
    "            del mutant.fitness.values\n",
    "            \n",
    "    #Evaluate the individuals with an invalid fitness\n",
    "    invalid_ind = [ind for ind in offspring if not ind.fitness.valid]\n",
    "    \n",
    "    fitnesses = map(toolbox.evaluate, invalid_ind)\n",
    "    for ind, fit in zip(invalid_ind, fitnesses):\n",
    "        ind.fitness.values = fit\n",
    "        \n",
    "    print(f'Evaluated {len(invalid_ind)} individuals')\n",
    "    \n",
    "    #Replace the entire population with the offspring\n",
    "    population[:] = offspring\n",
    "    \n",
    "    #Gather all fitnesses in one list and print the stats\n",
    "    fits = [ind.fitness.values[0] for ind in population]\n",
    "    \n",
    "    mean = np.mean(fits)\n",
    "    std = np.std(fits)\n",
    "    \n",
    "    print(f'Min = {min(fits)}, Max = {max(fits)}')\n",
    "    print(f'Average = {round(mean, 2)}, Standard deviation = {round(std, 2)}\\n')\n",
    "    \n",
    "print('\\nEnd of Evolution')"
   ]
  },
  {
   "cell_type": "code",
   "execution_count": 8,
   "metadata": {},
   "outputs": [
    {
     "name": "stdout",
     "output_type": "stream",
     "text": [
      "Best Individual = [1, 1, 0, 1, 1, 0, 1, 0, 1, 0, 0, 1, 0, 1, 0, 1, 1, 1, 1, 0, 1, 0, 0, 1, 1, 1, 0, 1, 1, 1, 1, 1, 1, 1, 1, 1, 1, 1, 0, 0, 1, 0, 0, 1, 1, 0, 0, 1, 1, 0, 1, 1, 0, 0, 0, 1, 0, 0, 1, 1, 1, 0, 1, 1, 1, 0, 1, 1, 0, 0, 1, 0, 0, 0, 1]\n",
      "Number of ones = 45\n"
     ]
    }
   ],
   "source": [
    "best_ind = tools.selBest(population, 1)[0]\n",
    "\n",
    "print(f'Best Individual = {best_ind}')\n",
    "print(f'Number of ones = {sum(best_ind)}')"
   ]
  },
  {
   "cell_type": "code",
   "execution_count": null,
   "metadata": {},
   "outputs": [],
   "source": []
  },
  {
   "cell_type": "markdown",
   "metadata": {},
   "source": [
    "### Visualizing the evolution"
   ]
  },
  {
   "cell_type": "code",
   "execution_count": 9,
   "metadata": {},
   "outputs": [],
   "source": [
    "import matplotlib.pyplot as plt\n",
    "from deap import algorithms, benchmarks, cma"
   ]
  },
  {
   "cell_type": "code",
   "execution_count": 10,
   "metadata": {},
   "outputs": [],
   "source": [
    "def create_toolbox(stategy):\n",
    "    creator.create('FitnessMin', base.Fitness, weights = (-1.0,))\n",
    "    creator.create('Individual', list, fitness = creator.FitnessMin)\n",
    "    \n",
    "    toolbox = base.Toolbox()\n",
    "    toolbox.register('evaluate', benchmarks.rastrigin)\n",
    "    \n",
    "    np.random.seed(7)\n",
    "    \n",
    "    toolbox.register('generate', strategy.generate, creator.Individual)\n",
    "    toolbox.register('update', strategy.update)\n",
    "    \n",
    "    return toolbox"
   ]
  },
  {
   "cell_type": "code",
   "execution_count": 11,
   "metadata": {},
   "outputs": [],
   "source": [
    "num_individuals = 10\n",
    "num_generations = 125"
   ]
  },
  {
   "cell_type": "code",
   "execution_count": 12,
   "metadata": {},
   "outputs": [
    {
     "name": "stderr",
     "output_type": "stream",
     "text": [
      "C:\\Users\\U\\anaconda3\\lib\\site-packages\\deap\\creator.py:138: RuntimeWarning: A class named 'Individual' has already been created and it will be overwritten. Consider deleting previous creation of that class or rename it.\n",
      "  warnings.warn(\"A class named '{0}' has already been created and it \"\n"
     ]
    }
   ],
   "source": [
    "##### Create a strategy using CMA-ES algorithm\n",
    "strategy = cma.Strategy(centroid = [5.0] * num_individuals, sigma = 5.0, lambda_ = 20 * num_individuals)\n",
    "\n",
    "toolbox = create_toolbox(strategy)"
   ]
  },
  {
   "cell_type": "code",
   "execution_count": 13,
   "metadata": {},
   "outputs": [],
   "source": [
    "hall_of_fame = tools.HallOfFame(1)"
   ]
  },
  {
   "cell_type": "code",
   "execution_count": 14,
   "metadata": {},
   "outputs": [],
   "source": [
    "#Register the relevant stats\n",
    "stats = tools.Statistics(lambda x: x.fitness.values)\n",
    "\n",
    "stats.register('avg', np.mean)\n",
    "stats.register('std', np.std)\n",
    "stats.register('min', np.min)\n",
    "stats.register('max', np.max)"
   ]
  },
  {
   "cell_type": "code",
   "execution_count": 15,
   "metadata": {},
   "outputs": [],
   "source": [
    "#Create a logbook to keep track of the evolution records\n",
    "logbook = tools.Logbook()\n",
    "logbook.header = 'gen', 'evals', 'avg', 'std', 'min', 'max'"
   ]
  },
  {
   "cell_type": "code",
   "execution_count": 16,
   "metadata": {},
   "outputs": [],
   "source": [
    "#Define objects that will compile the data which will be plotted\n",
    "sigma = np.ndarray((num_generations, 1))\n",
    "axis_ratio = np.ndarray((num_generations, 1))\n",
    "fbest = np.ndarray((num_generations, 1))\n",
    "\n",
    "diagD = np.ndarray((num_generations, num_individuals))\n",
    "best = np.ndarray((num_generations, num_individuals))\n",
    "std = np.ndarray((num_generations, num_individuals))"
   ]
  },
  {
   "cell_type": "code",
   "execution_count": 17,
   "metadata": {},
   "outputs": [
    {
     "name": "stdout",
     "output_type": "stream",
     "text": [
      "gen\tevals\tavg    \tstd   \tmin    \tmax    \n",
      "0  \t200  \t576.281\t188.36\t217.082\t1199.71\n",
      "1  \t200  \t659.389\t250.543\t196.583\t1869.02\n",
      "2  \t200  \t683.641\t273.081\t199.455\t1770.65\n",
      "3  \t200  \t503.933\t215.326\t111.298\t1579.3 \n",
      "4  \t200  \t373.124\t133.046\t149.47 \t790.899\n",
      "5  \t200  \t274.092\t75.4405\t131.117\t585.433\n",
      "6  \t200  \t232.624\t61.2622\t91.7121\t426.666\n",
      "7  \t200  \t201.117\t49.8303\t88.8185\t373.543\n",
      "8  \t200  \t178.645\t39.9533\t85.0531\t326.209\n",
      "9  \t200  \t159.211\t31.3781\t87.4824\t261.132\n",
      "10 \t200  \t144.561\t31.3488\t54.0743\t274.877\n",
      "11 \t200  \t136.791\t30.8796\t63.6032\t240.739\n",
      "12 \t200  \t125.691\t24.1975\t70.4913\t190.684\n",
      "13 \t200  \t122.293\t21.2274\t50.6409\t177.483\n",
      "14 \t200  \t124.132\t25.4931\t67.9873\t199.296\n",
      "15 \t200  \t119.295\t26.9804\t46.3411\t205.331\n",
      "16 \t200  \t115.614\t24.8993\t56.0033\t176.702\n",
      "17 \t200  \t113.417\t21.9789\t61.4999\t170.156\n",
      "18 \t200  \t112.419\t21.2823\t50.2455\t190.677\n",
      "19 \t200  \t111.543\t22.5016\t48.153 \t166.2  \n",
      "20 \t200  \t106.044\t21.1602\t32.1864\t171.899\n",
      "21 \t200  \t107.301\t23.3864\t52.8601\t163.617\n",
      "22 \t200  \t109.628\t23.1008\t51.1226\t185.777\n",
      "23 \t200  \t106.402\t22.0836\t51.3058\t179.673\n",
      "24 \t200  \t108.874\t21.6711\t43.7379\t176.912\n",
      "25 \t200  \t107.418\t22.1262\t39.1044\t157.952\n",
      "26 \t200  \t103.777\t23.2654\t44.458 \t159.32 \n",
      "27 \t200  \t107.235\t21.8611\t55.216 \t155.289\n",
      "28 \t200  \t105.999\t23.0877\t42.1851\t172.972\n",
      "29 \t200  \t104.366\t22.8362\t41.4296\t154.051\n",
      "30 \t200  \t102.926\t21.6695\t57.128 \t157.211\n",
      "31 \t200  \t106.218\t20.805 \t49.8769\t158.955\n",
      "32 \t200  \t100.111\t20.6291\t44.542 \t154.066\n",
      "33 \t200  \t102.205\t23.7262\t46.8485\t159.631\n",
      "34 \t200  \t98.1871\t25.4287\t40.3176\t161.217\n",
      "35 \t200  \t99.2177\t23.4826\t41.7417\t156.218\n",
      "36 \t200  \t99.6218\t21.8911\t29.2574\t156.164\n",
      "37 \t200  \t96.5396\t22.3132\t42.6462\t147.5  \n",
      "38 \t200  \t95.8662\t22.3333\t37.2513\t175.645\n",
      "39 \t200  \t94.7775\t21.4681\t43.7601\t161.015\n",
      "40 \t200  \t89.2357\t22.0902\t37.189 \t143.142\n",
      "41 \t200  \t84.4612\t21.2951\t27.6268\t135.569\n",
      "42 \t200  \t77.7523\t21.1002\t24.7394\t141.516\n",
      "43 \t200  \t65.3421\t18.2397\t16.1219\t111.586\n",
      "44 \t200  \t59.4038\t17.0689\t23.0472\t112.187\n",
      "45 \t200  \t53.3594\t15.7116\t18.4409\t96.9458\n",
      "46 \t200  \t45.544 \t14.1788\t15.6986\t90.4037\n",
      "47 \t200  \t42.6935\t14.0675\t13.5535\t83.1408\n",
      "48 \t200  \t38.6056\t12.7794\t5.60053\t77.8783\n",
      "49 \t200  \t33.1187\t11.1204\t8.6105 \t63.7225\n",
      "50 \t200  \t31.8766\t13.2315\t5.3199 \t68.827 \n",
      "51 \t200  \t29.8913\t11.6724\t7.64386\t76.607 \n",
      "52 \t200  \t26.0031\t10.3436\t3.48104\t59.249 \n",
      "53 \t200  \t23.3255\t9.42635\t5.49371\t58.8705\n",
      "54 \t200  \t17.5513\t7.99437\t1.53919\t42.91  \n",
      "55 \t200  \t13.753 \t6.48389\t2.0739 \t30.4331\n",
      "56 \t200  \t10.6022\t5.70957\t1.85824\t30.2415\n",
      "57 \t200  \t7.95056\t4.25719\t1.24618\t28.8979\n",
      "58 \t200  \t5.37467\t3.2473 \t0.714882\t19.1415\n",
      "59 \t200  \t3.62388\t1.96128\t0.566118\t11.8844\n",
      "60 \t200  \t2.40276\t1.33803\t0.357212\t7.51245\n",
      "61 \t200  \t1.47047\t0.732223\t0.311549\t5.77409\n",
      "62 \t200  \t1.12736\t0.637643\t0.20284 \t4.49673\n",
      "63 \t200  \t0.767683\t0.361678\t0.184666\t2.92197\n",
      "64 \t200  \t0.564226\t0.253862\t0.13763 \t1.54842\n",
      "65 \t200  \t0.36824 \t0.173474\t0.0544356\t1.05248\n",
      "66 \t200  \t0.29237 \t0.134541\t0.0410871\t0.746418\n",
      "67 \t200  \t0.200037\t0.103724\t0.0349371\t0.618404\n",
      "68 \t200  \t0.129391\t0.059494\t0.0397283\t0.375483\n",
      "69 \t200  \t0.093722\t0.0407366\t0.0201686\t0.233161\n",
      "70 \t200  \t0.0589781\t0.0280622\t0.0130489\t0.19549 \n",
      "71 \t200  \t0.0392415\t0.0199088\t0.0107575\t0.136013\n",
      "72 \t200  \t0.0259558\t0.0123846\t0.00559104\t0.110953\n",
      "73 \t200  \t0.0185142\t0.00821633\t0.00445873\t0.0441913\n",
      "74 \t200  \t0.0140756\t0.00685274\t0.00259438\t0.0448077\n",
      "75 \t200  \t0.00976309\t0.0046652 \t0.00272706\t0.0280225\n",
      "76 \t200  \t0.00614022\t0.00281196\t0.000712498\t0.0162559\n",
      "77 \t200  \t0.00397338\t0.0017542 \t0.00097148 \t0.0102573\n",
      "78 \t200  \t0.00245203\t0.00108005\t0.000506282\t0.00659569\n",
      "79 \t200  \t0.00164785\t0.00070669\t0.000451165\t0.00426266\n",
      "80 \t200  \t0.00119564\t0.000555464\t0.000291293\t0.00333056\n",
      "81 \t200  \t0.000811951\t0.000406059\t0.000141964\t0.00268821\n",
      "82 \t200  \t0.00048248 \t0.000220488\t5.34003e-05\t0.00117236\n",
      "83 \t200  \t0.00032096 \t0.000153829\t4.22853e-05\t0.000817364\n",
      "84 \t200  \t0.00020862 \t0.000103967\t3.58915e-05\t0.000628643\n",
      "85 \t200  \t0.000145269\t6.84542e-05\t2.61114e-05\t0.000347234\n",
      "86 \t200  \t9.31451e-05\t4.65945e-05\t1.64705e-05\t0.000252075\n",
      "87 \t200  \t6.56282e-05\t2.91765e-05\t1.45118e-05\t0.000143603\n",
      "88 \t200  \t4.23384e-05\t1.86917e-05\t6.62327e-06\t0.000124381\n",
      "89 \t200  \t2.83509e-05\t1.30294e-05\t6.29759e-06\t9.93834e-05\n",
      "90 \t200  \t1.98972e-05\t9.01824e-06\t3.60774e-06\t5.36951e-05\n",
      "91 \t200  \t1.40699e-05\t6.71202e-06\t3.55165e-06\t4.49479e-05\n",
      "92 \t200  \t1.01082e-05\t4.80604e-06\t1.72393e-06\t2.57844e-05\n",
      "93 \t200  \t6.44315e-06\t2.63629e-06\t1.22599e-06\t1.6105e-05 \n",
      "94 \t200  \t4.88842e-06\t2.34302e-06\t8.22026e-07\t1.50212e-05\n",
      "95 \t200  \t3.44313e-06\t1.5234e-06 \t5.30228e-07\t8.51628e-06\n",
      "96 \t200  \t2.28267e-06\t9.71593e-07\t4.82881e-07\t8.16307e-06\n",
      "97 \t200  \t1.6351e-06 \t7.24735e-07\t4.46186e-07\t4.46043e-06\n",
      "98 \t200  \t1.0844e-06 \t5.28351e-07\t2.03571e-07\t3.64181e-06\n",
      "99 \t200  \t7.69432e-07\t3.6169e-07 \t1.40947e-07\t2.56739e-06\n",
      "100\t200  \t5.18814e-07\t2.38865e-07\t1.12678e-07\t1.23527e-06\n",
      "101\t200  \t3.3199e-07 \t1.49444e-07\t5.56979e-08\t7.98774e-07\n",
      "102\t200  \t2.41361e-07\t1.11635e-07\t2.07109e-08\t7.96738e-07\n",
      "103\t200  \t1.94641e-07\t9.50257e-08\t3.69117e-08\t5.75896e-07\n",
      "104\t200  \t1.26148e-07\t5.63849e-08\t2.09827e-08\t2.887e-07  \n",
      "105\t200  \t8.6972e-08 \t4.42488e-08\t1.64212e-08\t2.58639e-07\n",
      "106\t200  \t5.47789e-08\t2.34933e-08\t1.28302e-08\t1.54658e-07\n",
      "107\t200  \t3.64705e-08\t1.74434e-08\t7.13185e-09\t9.88235e-08\n",
      "108\t200  \t2.54673e-08\t1.17157e-08\t6.32208e-09\t7.13075e-08\n",
      "109\t200  \t1.79681e-08\t8.73027e-09\t4.60369e-09\t5.88066e-08\n",
      "110\t200  \t1.43229e-08\t6.39874e-09\t1.92573e-09\t4.00087e-08\n",
      "111\t200  \t1.13736e-08\t5.31196e-09\t2.05551e-09\t3.16793e-08\n",
      "112\t200  \t7.28548e-09\t3.15607e-09\t1.72427e-09\t1.67727e-08\n",
      "113\t200  \t5.01177e-09\t2.3789e-09 \t1.01164e-09\t1.24541e-08\n",
      "114\t200  \t2.94696e-09\t1.38424e-09\t6.43112e-10\t9.25819e-09\n",
      "115\t200  \t2.06068e-09\t1.04172e-09\t2.87571e-10\t7.90436e-09\n",
      "116\t200  \t1.4704e-09 \t6.08685e-10\t4.32905e-10\t3.80221e-09\n",
      "117\t200  \t9.23627e-10\t4.51515e-10\t2.1538e-10 \t2.2759e-09 \n",
      "118\t200  \t6.3507e-10 \t2.77205e-10\t1.46869e-10\t1.44637e-09\n",
      "119\t200  \t4.41427e-10\t2.06475e-10\t7.54881e-11\t1.33167e-09\n",
      "120\t200  \t2.98116e-10\t1.3138e-10 \t5.97282e-11\t8.60453e-10\n",
      "121\t200  \t2.32358e-10\t9.52386e-11\t6.753e-11  \t5.45441e-10\n",
      "122\t200  \t1.72688e-10\t7.55e-11   \t4.1851e-11 \t5.05054e-10\n",
      "123\t200  \t1.23505e-10\t5.52125e-11\t3.2216e-11 \t3.10081e-10\n",
      "124\t200  \t8.94929e-11\t4.38068e-11\t1.32871e-11\t2.57202e-10\n"
     ]
    }
   ],
   "source": [
    "for gen in range(num_generations):\n",
    "    #Generate a new population\n",
    "    population = toolbox.generate()\n",
    "    \n",
    "    #Evaluate the individuals\n",
    "    fitnesses = toolbox.map(toolbox.evaluate, population)\n",
    "    for ind, fit in zip(population, fitnesses):\n",
    "        ind.fitness.values = fit\n",
    "        \n",
    "    #Update the strategy with the evaluated individuals\n",
    "    toolbox.update(population)\n",
    "    #Update the hall of fame and statistics with the currently evaluated population\n",
    "    hall_of_fame.update(population)\n",
    "    record = stats.compile(population)\n",
    "    logbook.record(evals = len(population), gen = gen, **record)\n",
    "    \n",
    "    print(logbook.stream)\n",
    "    \n",
    "    #Save more data along the evolution for plotting\n",
    "    sigma[gen] = strategy.sigma\n",
    "    axis_ratio[gen] = max(strategy.diagD)**2 / min(strategy.diagD)**2\n",
    "    fbest[gen] = hall_of_fame[0].fitness.values\n",
    "    \n",
    "    diagD[gen, :num_individuals] = strategy.diagD**2\n",
    "    best[gen, :num_individuals] = hall_of_fame[0]\n",
    "    std[gen, :num_individuals] = np.std(population, axis = 0)"
   ]
  },
  {
   "cell_type": "code",
   "execution_count": 18,
   "metadata": {},
   "outputs": [],
   "source": [
    "#Define the x-axis which will be the number of evaluations and plot the stats\n",
    "x = list(range(0, strategy.lambda_ * num_generations, strategy.lambda_))\n",
    "\n",
    "avg, max_, min_ = logbook.select('avg', 'max', 'min')"
   ]
  },
  {
   "cell_type": "code",
   "execution_count": 19,
   "metadata": {},
   "outputs": [
    {
     "data": {
      "image/png": "[encoded data removed]",
      "text/plain": [
       "<Figure size 432x288 with 1 Axes>"
      ]
     },
     "metadata": {
      "needs_background": "light"
     },
     "output_type": "display_data"
    }
   ],
   "source": [
    "plt.figure()\n",
    "plt.title('blue: f-values, green: sigma, red: axis_ratio')\n",
    "plt.grid(True)\n",
    "\n",
    "plt.semilogy(x, avg, '--b')\n",
    "plt.semilogy(x, max_, '--b')\n",
    "plt.semilogy(x, min_, '-b')\n",
    "\n",
    "plt.semilogy(x, fbest, '-c')\n",
    "plt.semilogy(x, sigma, '-g')\n",
    "plt.semilogy(x, axis_ratio, '-r');"
   ]
  },
  {
   "cell_type": "code",
   "execution_count": 20,
   "metadata": {},
   "outputs": [
    {
     "data": {
      "image/png": "[encoded data removed]",
      "text/plain": [
       "<Figure size 432x288 with 1 Axes>"
      ]
     },
     "metadata": {
      "needs_background": "light"
     },
     "output_type": "display_data"
    }
   ],
   "source": [
    "#Plotting the progress\n",
    "\n",
    "plt.figure()\n",
    "plt.title('Object Variables')\n",
    "plt.grid(True)\n",
    "\n",
    "plt.plot(x, best);"
   ]
  },
  {
   "cell_type": "code",
   "execution_count": 21,
   "metadata": {},
   "outputs": [
    {
     "data": {
      "image/png": "[encoded data removed]",
      "text/plain": [
       "<Figure size 432x288 with 1 Axes>"
      ]
     },
     "metadata": {
      "needs_background": "light"
     },
     "output_type": "display_data"
    }
   ],
   "source": [
    "plt.figure()\n",
    "plt.title('Scaling (All Main Axes)')\n",
    "plt.grid(True)\n",
    "\n",
    "plt.semilogy(x, diagD);"
   ]
  },
  {
   "cell_type": "code",
   "execution_count": 22,
   "metadata": {},
   "outputs": [
    {
     "data": {
      "image/png": "[encoded data removed]",
      "text/plain": [
       "<Figure size 432x288 with 1 Axes>"
      ]
     },
     "metadata": {
      "needs_background": "light"
     },
     "output_type": "display_data"
    }
   ],
   "source": [
    "plt.figure()\n",
    "plt.title('Standard Deviations in All Coordinates')\n",
    "plt.grid(True)\n",
    "\n",
    "plt.semilogy(x, std);"
   ]
  },
  {
   "cell_type": "code",
   "execution_count": null,
   "metadata": {},
   "outputs": [],
   "source": []
  },
  {
   "cell_type": "markdown",
   "metadata": {},
   "source": [
    "### Solving the symbol regression problem using Genetic programming"
   ]
  },
  {
   "cell_type": "code",
   "execution_count": 23,
   "metadata": {},
   "outputs": [],
   "source": [
    "import operator\n",
    "import math\n",
    "import random\n",
    "\n",
    "import numpy as np\n",
    "from deap import gp"
   ]
  },
  {
   "cell_type": "code",
   "execution_count": 24,
   "metadata": {},
   "outputs": [],
   "source": [
    "def division_operator(numerator, denominator):\n",
    "    if denominator == 0:\n",
    "        return 1\n",
    "    else:\n",
    "        return numerator / denominator"
   ]
  },
  {
   "cell_type": "code",
   "execution_count": 25,
   "metadata": {},
   "outputs": [],
   "source": [
    "def eval_func(individual, points):\n",
    "    #Transform the tree expression in a callable form\n",
    "    func = toolbox.compile(expr = individual)\n",
    "    \n",
    "    mse = ((func(x) - (2*x**3 - 3*x**2 + 4*x-1))**2 for x in points)\n",
    "    \n",
    "    return math.fsum(mse) / len(points),"
   ]
  },
  {
   "cell_type": "code",
   "execution_count": 26,
   "metadata": {},
   "outputs": [],
   "source": [
    "def create_toolbox():\n",
    "    pset = gp.PrimitiveSet('MAIN', 1)\n",
    "    \n",
    "    pset.addPrimitive(operator.add, 2)\n",
    "    pset.addPrimitive(operator.sub, 2)\n",
    "    pset.addPrimitive(operator.mul, 2)\n",
    "    pset.addPrimitive(division_operator, 2)\n",
    "    \n",
    "    pset.addPrimitive(operator.neg, 1)\n",
    "    pset.addPrimitive(math.cos, 1)\n",
    "    pset.addPrimitive(math.sin, 1)\n",
    "    \n",
    "    pset.addEphemeralConstant('rand101', lambda: random.randint(-1, 1)) #Cos the constant terminals can take -1, 0, or 1\n",
    "    \n",
    "    #Changing the name from default 'ARGx' to 'x'\n",
    "    pset.renameArguments(ARG0 = 'x')\n",
    "    \n",
    "    creator.create('FitnessMin', base.Fitness, weights = (-1.0, ))\n",
    "    creator.create('Individual', gp.PrimitiveTree, fitness = creator.FitnessMin)\n",
    "    \n",
    "    toolbox = base.Toolbox()\n",
    "    \n",
    "    toolbox.register('expr', gp.genHalfAndHalf, pset = pset, min_ = 1, max_ = 2)\n",
    "    toolbox.register('individual', tools.initIterate, creator.Individual, toolbox.expr)\n",
    "    toolbox.register('population', tools.initRepeat, list, toolbox.individual)\n",
    "    \n",
    "    toolbox.register('compile', gp.compile, pset = pset)\n",
    "    toolbox.register('evaluate', eval_func, points = [x/10. for x in range(-10, 10)])\n",
    "    \n",
    "    toolbox.register('select', tools.selTournament, tournsize = 3)\n",
    "    toolbox.register('mate', gp.cxOnePoint)\n",
    "    toolbox.register('expr_mut', gp.genFull, min_ = 0, max_ = 2)\n",
    "    toolbox.register('mutate', gp.mutUniform, expr = toolbox.expr_mut, pset = pset)\n",
    "    \n",
    "    toolbox.decorate('mate', gp.staticLimit(key = operator.attrgetter('height'), max_value = 17))\n",
    "    toolbox.decorate('mutate', gp.staticLimit(key = operator.attrgetter('height'), max_value = 17))\n",
    "    \n",
    "    return toolbox"
   ]
  },
  {
   "cell_type": "code",
   "execution_count": 27,
   "metadata": {},
   "outputs": [
    {
     "name": "stderr",
     "output_type": "stream",
     "text": [
      "C:\\Users\\U\\anaconda3\\lib\\site-packages\\deap\\creator.py:138: RuntimeWarning: A class named 'FitnessMin' has already been created and it will be overwritten. Consider deleting previous creation of that class or rename it.\n",
      "  warnings.warn(\"A class named '{0}' has already been created and it \"\n",
      "C:\\Users\\U\\anaconda3\\lib\\site-packages\\deap\\creator.py:138: RuntimeWarning: A class named 'Individual' has already been created and it will be overwritten. Consider deleting previous creation of that class or rename it.\n",
      "  warnings.warn(\"A class named '{0}' has already been created and it \"\n"
     ]
    }
   ],
   "source": [
    "random.seed(7)\n",
    "\n",
    "toolbox = create_toolbox()"
   ]
  },
  {
   "cell_type": "code",
   "execution_count": 28,
   "metadata": {},
   "outputs": [],
   "source": [
    "population = toolbox.population(n = 450)\n",
    "hall_of_fame = tools.HallOfFame(1)"
   ]
  },
  {
   "cell_type": "code",
   "execution_count": 29,
   "metadata": {},
   "outputs": [],
   "source": [
    "stats_fit = tools.Statistics(lambda x: x.fitness.values)\n",
    "stats_size = tools.Statistics(len)\n",
    "\n",
    "mstats = tools.MultiStatistics(fitness = stats_fit, size = stats_size)\n",
    "mstats.register('avg', np.mean)\n",
    "mstats.register('std', np.std)\n",
    "mstats.register('min', np.min)\n",
    "mstats.register('max', np.max)"
   ]
  },
  {
   "cell_type": "code",
   "execution_count": 30,
   "metadata": {},
   "outputs": [],
   "source": [
    "probab_crossover = 0.4\n",
    "probab_mutate = 0.2\n",
    "num_generations = 60"
   ]
  },
  {
   "cell_type": "code",
   "execution_count": 31,
   "metadata": {
    "scrolled": true
   },
   "outputs": [
    {
     "name": "stdout",
     "output_type": "stream",
     "text": [
      "   \t      \t                    fitness                    \t                      size                     \n",
      "   \t      \t-----------------------------------------------\t-----------------------------------------------\n",
      "gen\tnevals\tavg    \tgen\tmax    \tmin    \tnevals\tstd    \tavg    \tgen\tmax\tmin\tnevals\tstd    \n",
      "0  \t450   \t18.6918\t0  \t47.1923\t7.39087\t450   \t6.27543\t3.73556\t0  \t7  \t2  \t450   \t1.62449\n",
      "1  \t251   \t15.4572\t1  \t41.3823\t4.46965\t251   \t4.54993\t3.80222\t1  \t12 \t1  \t251   \t1.81316\n",
      "2  \t236   \t13.2545\t2  \t37.7223\t4.46965\t236   \t4.06145\t3.96889\t2  \t12 \t1  \t236   \t1.98861\n",
      "3  \t251   \t12.2299\t3  \t60.828 \t4.46965\t251   \t4.70055\t4.19556\t3  \t12 \t1  \t251   \t1.9971 \n",
      "4  \t235   \t11.001 \t4  \t47.1923\t4.46965\t235   \t4.48841\t4.84222\t4  \t13 \t1  \t235   \t2.17245\n",
      "5  \t229   \t9.44483\t5  \t31.478 \t4.46965\t229   \t3.8796 \t5.56   \t5  \t19 \t1  \t229   \t2.43168\n",
      "6  \t225   \t8.35975\t6  \t22.0546\t3.02133\t225   \t3.40547\t6.38889\t6  \t15 \t1  \t225   \t2.40875\n",
      "7  \t237   \t7.99309\t7  \t31.1356\t1.81133\t237   \t4.08463\t7.14667\t7  \t16 \t1  \t237   \t2.57782\n",
      "8  \t224   \t7.42611\t8  \t359.418\t1.17558\t224   \t17.0167\t8.33333\t8  \t19 \t1  \t224   \t3.11127\n",
      "9  \t237   \t5.70308\t9  \t24.1921\t1.17558\t237   \t3.71991\t9.64444\t9  \t23 \t1  \t237   \t3.31365\n",
      "10 \t254   \t5.27991\t10 \t30.4315\t1.13301\t254   \t4.13556\t10.5089\t10 \t25 \t1  \t254   \t3.51898\n",
      "11 \t223   \t4.26809\t11 \t18.7774\t0.841562\t223   \t3.16748\t11.42  \t11 \t25 \t1  \t223   \t3.69613\n",
      "12 \t249   \t4.0672 \t12 \t20.6729\t0.686362\t249   \t3.50578\t12.34  \t12 \t27 \t1  \t249   \t4.34843\n",
      "13 \t242   \t5.78507\t13 \t1060   \t0.841562\t242   \t49.873 \t13.4089\t13 \t27 \t1  \t242   \t4.24912\n",
      "14 \t221   \t3.28494\t14 \t26.6665\t0.841562\t221   \t3.31483\t14.1556\t14 \t37 \t1  \t221   \t4.62772\n",
      "15 \t243   \t2.98754\t15 \t42.7003\t0.756579\t243   \t3.43806\t14.8689\t15 \t29 \t1  \t243   \t4.28363\n",
      "16 \t258   \t3.1341 \t16 \t70.8279\t0.61024 \t258   \t4.75699\t15.26  \t16 \t30 \t1  \t258   \t4.46631\n",
      "17 \t223   \t5.34041\t17 \t1059.66\t0.61024 \t223   \t49.8772\t15.8733\t17 \t44 \t1  \t223   \t5.03847\n",
      "18 \t229   \t4.53387\t18 \t776.269\t0.508052\t229   \t36.5925\t16.8667\t18 \t39 \t1  \t229   \t4.7949 \n",
      "19 \t204   \t2.65489\t19 \t41.3823\t0.508052\t204   \t3.76843\t16.84  \t19 \t31 \t1  \t204   \t4.3814 \n",
      "20 \t222   \t2.63441\t20 \t28.3123\t0.113042\t222   \t3.65431\t17.7267\t20 \t46 \t1  \t222   \t4.91062\n",
      "21 \t223   \t2.2272 \t21 \t26.038 \t0.113042\t223   \t3.10943\t18.9289\t21 \t41 \t1  \t223   \t4.90254\n",
      "22 \t227   \t2.21592\t22 \t58.3649\t0.113042\t227   \t3.93487\t19.6156\t22 \t41 \t1  \t227   \t4.7927 \n",
      "23 \t244   \t2.2172 \t23 \t21.6536\t0.113042\t244   \t3.31138\t19.7844\t23 \t38 \t1  \t244   \t4.52845\n",
      "24 \t237   \t2.19195\t24 \t22.0546\t0.113042\t237   \t3.49711\t20.3467\t24 \t37 \t1  \t237   \t4.4741 \n",
      "25 \t223   \t1.95396\t25 \t29.6646\t0.113042\t223   \t3.52879\t20.4978\t25 \t36 \t1  \t223   \t4.42279\n",
      "26 \t246   \t1.94503\t26 \t86.1329\t0.113042\t246   \t4.96868\t21.3867\t26 \t39 \t1  \t246   \t4.79322\n",
      "27 \t236   \t1.80352\t27 \t22.9113\t0.113042\t236   \t3.0955 \t21.78  \t27 \t41 \t1  \t236   \t4.5683 \n",
      "28 \t245   \t1.59749\t28 \t20.6729\t0.0601253\t245   \t2.90415\t21.9333\t28 \t36 \t1  \t245   \t4.18834\n",
      "29 \t205   \t1.45095\t29 \t37.0156\t0.0509541\t205   \t3.35453\t22.6844\t29 \t41 \t1  \t205   \t4.09585\n",
      "30 \t239   \t1.79087\t30 \t49.9667\t0.0509541\t239   \t4.05304\t22.5711\t30 \t40 \t1  \t239   \t4.70135\n",
      "31 \t250   \t1.88413\t31 \t28.4646\t0.0509541\t250   \t3.90833\t23.0111\t31 \t41 \t1  \t250   \t5.34352\n",
      "32 \t248   \t1.37476\t32 \t16.4446\t0.0509541\t248   \t2.50597\t23.7689\t32 \t44 \t1  \t248   \t5.23067\n",
      "33 \t239   \t1.446  \t33 \t22.0546\t0.0509541\t239   \t3.16672\t24.2289\t33 \t44 \t1  \t239   \t5.44129\n",
      "34 \t244   \t1.50939\t34 \t23.658 \t0.0474957\t244   \t3.21624\t24.7556\t34 \t47 \t1  \t244   \t5.41215\n",
      "35 \t209   \t0.956873\t35 \t16.548 \t0.0474957\t209   \t2.06747\t25.66  \t35 \t44 \t1  \t209   \t4.5154 \n",
      "36 \t209   \t1.10464 \t36 \t22.0546\t0.0474957\t209   \t2.71898\t26.4867\t36 \t46 \t1  \t209   \t5.23289\n",
      "37 \t258   \t1.61958 \t37 \t86.0936\t0.0382386\t258   \t6.1839 \t27.2111\t37 \t45 \t3  \t258   \t4.75557\n",
      "38 \t257   \t2.03651 \t38 \t70.4768\t0.0342642\t257   \t5.15243\t26.5311\t38 \t49 \t1  \t257   \t6.22327\n",
      "39 \t235   \t1.95531 \t39 \t185.328\t0.0472693\t235   \t9.32516\t26.9711\t39 \t48 \t1  \t235   \t6.00345\n",
      "40 \t234   \t1.51403 \t40 \t28.5529\t0.0472693\t234   \t3.24513\t26.6867\t40 \t52 \t1  \t234   \t5.39811\n",
      "41 \t230   \t1.4753  \t41 \t70.4768\t0.0472693\t230   \t5.4607 \t27.1   \t41 \t46 \t3  \t230   \t4.7433 \n",
      "42 \t233   \t12.3648 \t42 \t4880.09\t0.0396503\t233   \t229.754\t26.88  \t42 \t53 \t1  \t233   \t5.18192\n",
      "43 \t251   \t1.807   \t43 \t86.0936\t0.0396503\t251   \t5.85281\t26.4889\t43 \t50 \t1  \t251   \t5.43741\n",
      "44 \t236   \t9.30096 \t44 \t3481.25\t0.0277886\t236   \t163.888\t26.9622\t44 \t55 \t1  \t236   \t6.27169\n",
      "45 \t231   \t1.73196 \t45 \t86.7372\t0.0342642\t231   \t6.8119 \t27.4711\t45 \t51 \t2  \t231   \t5.27807\n",
      "46 \t227   \t1.86086 \t46 \t185.328\t0.0342642\t227   \t10.1143\t28.0644\t46 \t56 \t1  \t227   \t6.10812\n",
      "47 \t216   \t12.5214 \t47 \t4923.66\t0.0342642\t216   \t231.837\t29.1022\t47 \t54 \t1  \t216   \t6.45898\n",
      "48 \t232   \t14.3469 \t48 \t5830.89\t0.0322462\t232   \t274.536\t29.8244\t48 \t58 \t3  \t232   \t6.24093\n",
      "49 \t242   \t2.56984 \t49 \t272.833\t0.0322462\t242   \t18.2752\t29.9267\t49 \t51 \t1  \t242   \t6.31446\n",
      "50 \t227   \t2.80136 \t50 \t356.613\t0.0322462\t227   \t21.0416\t29.7978\t50 \t56 \t4  \t227   \t6.50275\n",
      "51 \t243   \t1.75099 \t51 \t86.0936\t0.0322462\t243   \t5.70833\t29.8089\t51 \t56 \t1  \t243   \t6.62379\n",
      "52 \t253   \t10.9184 \t52 \t3435.84\t0.0227048\t253   \t163.602\t29.9911\t52 \t55 \t1  \t253   \t6.66833\n",
      "53 \t243   \t1.80265 \t53 \t48.0418\t0.0227048\t243   \t4.73856\t29.88  \t53 \t55 \t1  \t243   \t7.33084\n",
      "54 \t234   \t1.74487 \t54 \t86.0936\t0.0227048\t234   \t6.0249 \t30.6067\t54 \t55 \t1  \t234   \t6.85782\n",
      "55 \t220   \t1.58888 \t55 \t31.094 \t0.0132398\t220   \t3.82809\t30.5644\t55 \t54 \t1  \t220   \t6.96669\n",
      "56 \t234   \t1.46711 \t56 \t103.287\t0.00766444\t234   \t6.81157\t30.6689\t56 \t55 \t3  \t234   \t6.6806 \n",
      "57 \t250   \t17.0896 \t57 \t6544.17\t0.00424267\t250   \t308.689\t31.1267\t57 \t60 \t4  \t250   \t7.25837\n",
      "58 \t231   \t1.66757 \t58 \t141.584\t0.00144401\t231   \t7.35306\t32     \t58 \t52 \t1  \t231   \t7.23295\n",
      "59 \t229   \t2.22325 \t59 \t265.224\t0.00144401\t229   \t13.388 \t33.5489\t59 \t64 \t1  \t229   \t8.38351\n",
      "60 \t248   \t2.60303 \t60 \t521.804\t0.00144401\t248   \t24.7018\t35.2533\t60 \t58 \t1  \t248   \t7.61506\n"
     ]
    }
   ],
   "source": [
    "population, log = algorithms.eaSimple(population, toolbox, probab_crossover, probab_mutate, num_generations,\n",
    "                                     stats = mstats, halloffame = hall_of_fame, verbose = True)"
   ]
  },
  {
   "cell_type": "code",
   "execution_count": null,
   "metadata": {},
   "outputs": [],
   "source": []
  }
 ],
 "metadata": {
  "kernelspec": {
   "display_name": "Python 3",
   "language": "python",
   "name": "python3"
  },
  "language_info": {
   "codemirror_mode": {
    "name": "ipython",
    "version": 3
   },
   "file_extension": ".py",
   "mimetype": "text/x-python",
   "name": "python",
   "nbconvert_exporter": "python",
   "pygments_lexer": "ipython3",
   "version": "3.8.5"
  }
 },
 "nbformat": 4,
 "nbformat_minor": 4
}

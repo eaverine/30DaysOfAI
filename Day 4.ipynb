{
 "cells": [
  {
   "cell_type": "code",
   "execution_count": 1,
   "metadata": {},
   "outputs": [],
   "source": [
    "import numpy as np\n",
    "import pandas as pd\n",
    "import matplotlib.pyplot as plt\n",
    "\n",
    "from sklearn.svm import LinearSVC\n",
    "from sklearn.multiclass import OneVsOneClassifier\n",
    "from sklearn.model_selection import cross_val_score, train_test_split\n",
    "from sklearn.preprocessing import LabelEncoder"
   ]
  },
  {
   "cell_type": "markdown",
   "metadata": {},
   "source": [
    "### Building a Support Vector Machine"
   ]
  },
  {
   "cell_type": "code",
   "execution_count": 2,
   "metadata": {},
   "outputs": [],
   "source": [
    "input_file = 'data/income_data.txt'"
   ]
  },
  {
   "cell_type": "code",
   "execution_count": 3,
   "metadata": {},
   "outputs": [],
   "source": [
    "X = []\n",
    "y = []\n",
    "\n",
    "count_class1 = 0\n",
    "count_class2 = 0\n",
    "\n",
    "max_datapoints = 25000"
   ]
  },
  {
   "cell_type": "code",
   "execution_count": 4,
   "metadata": {},
   "outputs": [],
   "source": [
    "with open(input_file, 'r') as f:\n",
    "    for line in f.readlines():\n",
    "        if count_class1 >= max_datapoints and count_class2 >= max_datapoints:\n",
    "            break\n",
    "        if '?' in line:\n",
    "            continue\n",
    "            \n",
    "        data = line[:-1].split(', ')\n",
    "        \n",
    "        if data[-1] == '<=50K' and count_class1 < max_datapoints:\n",
    "            X.append(data)\n",
    "            count_class1 += 1\n",
    "            \n",
    "        if data[-1] == '>50K' and count_class2 < max_datapoints:\n",
    "            X.append(data)\n",
    "            count_class2 += 1"
   ]
  },
  {
   "cell_type": "code",
   "execution_count": 5,
   "metadata": {},
   "outputs": [],
   "source": [
    "X = np.array(X) #convert to numpy array\n",
    "\n",
    "#convert string data to numerical data\n",
    "label_encoder = []\n",
    "X_encoded = np.empty(X.shape)\n",
    "\n",
    "for i, item in enumerate(X[0]):\n",
    "    if item.isdigit():\n",
    "        X_encoded[:, i] = X[:, i]\n",
    "    else:\n",
    "        label_encoder.append(LabelEncoder())\n",
    "        X_encoded[:, i] = label_encoder[-1].fit_transform(X[:, i])"
   ]
  },
  {
   "cell_type": "code",
   "execution_count": 6,
   "metadata": {},
   "outputs": [],
   "source": [
    "X = X_encoded[:, :-1].astype('int')\n",
    "y = X_encoded[:, -1].astype('int')"
   ]
  },
  {
   "cell_type": "code",
   "execution_count": 7,
   "metadata": {},
   "outputs": [
    {
     "name": "stderr",
     "output_type": "stream",
     "text": [
      "C:\\Users\\U\\anaconda3\\lib\\site-packages\\sklearn\\svm\\_base.py:976: ConvergenceWarning: Liblinear failed to converge, increase the number of iterations.\n",
      "  warnings.warn(\"Liblinear failed to converge, increase \"\n"
     ]
    }
   ],
   "source": [
    "#cross validation \n",
    "\n",
    "X_train, X_test, y_train, y_test = train_test_split(X, y, test_size = 0.2, random_state = 5)\n",
    "\n",
    "classifier = OneVsOneClassifier(LinearSVC(random_state = 0))\n",
    "classifier.fit(X_train, y_train)\n",
    "\n",
    "y_test_pred = classifier.predict(X_test)"
   ]
  },
  {
   "cell_type": "code",
   "execution_count": 8,
   "metadata": {},
   "outputs": [
    {
     "name": "stderr",
     "output_type": "stream",
     "text": [
      "C:\\Users\\U\\anaconda3\\lib\\site-packages\\sklearn\\svm\\_base.py:976: ConvergenceWarning: Liblinear failed to converge, increase the number of iterations.\n",
      "  warnings.warn(\"Liblinear failed to converge, increase \"\n",
      "C:\\Users\\U\\anaconda3\\lib\\site-packages\\sklearn\\svm\\_base.py:976: ConvergenceWarning: Liblinear failed to converge, increase the number of iterations.\n",
      "  warnings.warn(\"Liblinear failed to converge, increase \"\n"
     ]
    },
    {
     "name": "stdout",
     "output_type": "stream",
     "text": [
      "F1 score: 56.15%\n"
     ]
    },
    {
     "name": "stderr",
     "output_type": "stream",
     "text": [
      "C:\\Users\\U\\anaconda3\\lib\\site-packages\\sklearn\\svm\\_base.py:976: ConvergenceWarning: Liblinear failed to converge, increase the number of iterations.\n",
      "  warnings.warn(\"Liblinear failed to converge, increase \"\n"
     ]
    }
   ],
   "source": [
    "#Compute F1 score\n",
    "f1 = cross_val_score(classifier, X, y, scoring = 'f1_weighted', cv = 3)\n",
    "print(f'F1 score: {round(100 * f1.mean(), 2)}%')"
   ]
  },
  {
   "cell_type": "code",
   "execution_count": 9,
   "metadata": {},
   "outputs": [],
   "source": [
    "# Predict output for a test datapoint\n",
    "input_data = ['37', 'Private', '215646', 'HS-grad', '9', 'Never-married', 'Handlers-cleaners', 'Not-in-family', \n",
    "              'White', 'Male', '0', '0', '40', 'United-States']\n",
    "\n",
    "#Encode test datapoint\n",
    "input_data_encoded = [-1] * len(input_data)\n",
    "count = 0\n",
    "\n",
    "for i, item in enumerate(input_data):\n",
    "    if item.isdigit():\n",
    "        input_data_encoded[i] = int(input_data[i])\n",
    "    else:\n",
    "        input_data_encoded[i] = int(label_encoder[count].transform([input_data[i]]))\n",
    "        count += 1"
   ]
  },
  {
   "cell_type": "code",
   "execution_count": 10,
   "metadata": {},
   "outputs": [],
   "source": [
    "input_data_encoded = np.array(input_data_encoded)"
   ]
  },
  {
   "cell_type": "code",
   "execution_count": 11,
   "metadata": {},
   "outputs": [
    {
     "name": "stdout",
     "output_type": "stream",
     "text": [
      "<=50K\n"
     ]
    }
   ],
   "source": [
    "#Run the classifier on the encoded datapoint\n",
    "predicted_class = classifier.predict([input_data_encoded])\n",
    "print(label_encoder[-1].inverse_transform(predicted_class)[0])"
   ]
  },
  {
   "cell_type": "code",
   "execution_count": null,
   "metadata": {},
   "outputs": [],
   "source": []
  },
  {
   "cell_type": "markdown",
   "metadata": {},
   "source": [
    "### Building a Single-Variable Regressor"
   ]
  },
  {
   "cell_type": "code",
   "execution_count": 12,
   "metadata": {},
   "outputs": [],
   "source": [
    "import pickle\n",
    "\n",
    "from sklearn.linear_model import LinearRegression\n",
    "from sklearn.metrics import mean_absolute_error, mean_squared_error, median_absolute_error, explained_variance_score, r2_score"
   ]
  },
  {
   "cell_type": "code",
   "execution_count": 13,
   "metadata": {},
   "outputs": [],
   "source": [
    "input_file = 'data/data_singlevar_regr.txt'\n",
    "\n",
    "data = np.loadtxt(input_file, delimiter = ',')\n",
    "X, y = data[:, :-1], data[:, -1]"
   ]
  },
  {
   "cell_type": "code",
   "execution_count": 14,
   "metadata": {},
   "outputs": [],
   "source": [
    "#Using manual splitting to obtain the train and test sets\n",
    "num_training = int(0.8 * len(X))\n",
    "\n",
    "X_train, X_test = X[:num_training], X[num_training:]\n",
    "y_train, y_test = y[:num_training], y[num_training:]"
   ]
  },
  {
   "cell_type": "code",
   "execution_count": 15,
   "metadata": {},
   "outputs": [],
   "source": [
    "regressor = LinearRegression()\n",
    "regressor.fit(X_train, y_train)\n",
    "\n",
    "y_test_pred = regressor.predict(X_test)"
   ]
  },
  {
   "cell_type": "code",
   "execution_count": 16,
   "metadata": {},
   "outputs": [
    {
     "data": {
      "image/png": "[encoded data removed]",
      "text/plain": [
       "<Figure size 432x288 with 1 Axes>"
      ]
     },
     "metadata": {},
     "output_type": "display_data"
    }
   ],
   "source": [
    "plt.scatter(X_test, y_test, color = 'green')\n",
    "plt.plot(X_test, y_test_pred, color = 'black', linewidth = 4)\n",
    "\n",
    "plt.xticks(())\n",
    "plt.yticks(());"
   ]
  },
  {
   "cell_type": "code",
   "execution_count": 17,
   "metadata": {},
   "outputs": [
    {
     "name": "stdout",
     "output_type": "stream",
     "text": [
      "Linear regressor performance:\n",
      "\n",
      "Mean absolute error = 0.59\n",
      "Mean squared error = 0.49\n",
      "Median absolute error = 0.51\n",
      "Explained variance score = 0.86\n",
      "R2 score = 0.86\n"
     ]
    }
   ],
   "source": [
    "#Compute performance metrics\n",
    "\n",
    "print('Linear regressor performance:\\n')\n",
    "print(f'Mean absolute error = {round(mean_absolute_error(y_test, y_test_pred), 2)}')\n",
    "print(f'Mean squared error = {round(mean_squared_error(y_test, y_test_pred), 2)}')\n",
    "\n",
    "print(f'Median absolute error = {round(median_absolute_error(y_test, y_test_pred), 2)}')\n",
    "print(f'Explained variance score = {round(explained_variance_score(y_test, y_test_pred), 2)}')\n",
    "\n",
    "print(f'R2 score = {round(r2_score(y_test, y_test_pred), 2)}')"
   ]
  },
  {
   "cell_type": "code",
   "execution_count": 18,
   "metadata": {},
   "outputs": [],
   "source": [
    "import pickle\n",
    "\n",
    "output_model_file = 'data/model.pkl'\n",
    "\n",
    "with open(output_model_file, 'wb') as f:\n",
    "    pickle.dump(regressor, f)"
   ]
  },
  {
   "cell_type": "code",
   "execution_count": 19,
   "metadata": {},
   "outputs": [],
   "source": [
    "with open(output_model_file, 'rb') as f:\n",
    "    regressor_model = pickle.load(f)"
   ]
  },
  {
   "cell_type": "code",
   "execution_count": 20,
   "metadata": {},
   "outputs": [
    {
     "name": "stdout",
     "output_type": "stream",
     "text": [
      "New mean absolute error = 0.59\n"
     ]
    }
   ],
   "source": [
    "#Perform prediction\n",
    "\n",
    "y_test_pred_new = regressor_model.predict(X_test)\n",
    "print(f'New mean absolute error = {round(mean_absolute_error(y_test, y_test_pred_new), 2)}')"
   ]
  },
  {
   "cell_type": "code",
   "execution_count": null,
   "metadata": {},
   "outputs": [],
   "source": []
  },
  {
   "cell_type": "markdown",
   "metadata": {},
   "source": [
    "### Building a multivariable regressor"
   ]
  },
  {
   "cell_type": "code",
   "execution_count": 21,
   "metadata": {},
   "outputs": [],
   "source": [
    "from sklearn.preprocessing import PolynomialFeatures\n",
    "\n",
    "input_file = 'data/data_multivar_regr.txt'"
   ]
  },
  {
   "cell_type": "code",
   "execution_count": 22,
   "metadata": {},
   "outputs": [],
   "source": [
    "data = np.loadtxt(input_file, delimiter = ',')\n",
    "\n",
    "X, y = data[:, :-1], data[:, -1]"
   ]
  },
  {
   "cell_type": "code",
   "execution_count": 23,
   "metadata": {},
   "outputs": [],
   "source": [
    "num_training = int(0.8 * len(X))\n",
    "\n",
    "X_train, X_test = X[:num_training], X[num_training:]\n",
    "y_train, y_test = y[:num_training], y[num_training:]"
   ]
  },
  {
   "cell_type": "code",
   "execution_count": 24,
   "metadata": {},
   "outputs": [],
   "source": [
    "linear_regressor = LinearRegression()\n",
    "\n",
    "linear_regressor.fit(X_train, y_train)\n",
    "\n",
    "y_test_pred = linear_regressor.predict(X_test)"
   ]
  },
  {
   "cell_type": "code",
   "execution_count": 25,
   "metadata": {},
   "outputs": [
    {
     "name": "stdout",
     "output_type": "stream",
     "text": [
      "Linear Regressor performance: \n",
      "\n",
      "Mean absolute error = 3.58\n",
      "Mean squared error = 20.31\n",
      "Median absolute error = 2.99\n",
      "Explained variance score = 0.86\n",
      "R2 score = 0.86\n"
     ]
    }
   ],
   "source": [
    "#Measure performance\n",
    "\n",
    "print('Linear Regressor performance: \\n')\n",
    "print(f'Mean absolute error = {round(mean_absolute_error(y_test, y_test_pred), 2)}')\n",
    "print(f'Mean squared error = {round(mean_squared_error(y_test, y_test_pred), 2)}')\n",
    "\n",
    "print(f'Median absolute error = {round(median_absolute_error(y_test, y_test_pred), 2)}')\n",
    "print(f'Explained variance score = {round(explained_variance_score(y_test, y_test_pred), 2)}')\n",
    "\n",
    "print(f'R2 score = {round(r2_score(y_test, y_test_pred), 2)}')"
   ]
  },
  {
   "cell_type": "code",
   "execution_count": 26,
   "metadata": {},
   "outputs": [],
   "source": [
    "polynomial = PolynomialFeatures(degree = 10)\n",
    "X_train_transformed = polynomial.fit_transform(X_train)\n",
    "\n",
    "datapoint = [[7.75, 6.35, 5.56]]\n",
    "poly_datapoint = polynomial.fit_transform(datapoint)"
   ]
  },
  {
   "cell_type": "code",
   "execution_count": 27,
   "metadata": {},
   "outputs": [
    {
     "name": "stdout",
     "output_type": "stream",
     "text": [
      "Linear Regression: [36.05286276]\n",
      "Polynomial Regression: [41.45271718]\n"
     ]
    }
   ],
   "source": [
    "poly_linear_model = LinearRegression()\n",
    "poly_linear_model.fit(X_train_transformed, y_train)\n",
    "\n",
    "print(f'Linear Regression: {linear_regressor.predict(datapoint)}')\n",
    "print(f'Polynomial Regression: {poly_linear_model.predict(poly_datapoint)}')"
   ]
  },
  {
   "cell_type": "code",
   "execution_count": null,
   "metadata": {},
   "outputs": [],
   "source": []
  },
  {
   "cell_type": "markdown",
   "metadata": {},
   "source": [
    "### Estimating house prices using Support Vector Regressor"
   ]
  },
  {
   "cell_type": "code",
   "execution_count": 28,
   "metadata": {},
   "outputs": [],
   "source": [
    "from sklearn import datasets\n",
    "from sklearn.svm import SVR\n",
    "from sklearn.utils import shuffle"
   ]
  },
  {
   "cell_type": "code",
   "execution_count": 29,
   "metadata": {},
   "outputs": [],
   "source": [
    "data = datasets.load_boston()"
   ]
  },
  {
   "cell_type": "code",
   "execution_count": 30,
   "metadata": {},
   "outputs": [],
   "source": [
    "#shuffle the data\n",
    "X, y = shuffle(data.data, data.target, random_state = 7)"
   ]
  },
  {
   "cell_type": "code",
   "execution_count": 31,
   "metadata": {},
   "outputs": [],
   "source": [
    "#Using manual splitting \n",
    "num_training = int(0.8 * len(X))\n",
    "\n",
    "X_train, X_test = X[:num_training], X[num_training:]\n",
    "y_train, y_test = y[:num_training], y[num_training:]"
   ]
  },
  {
   "cell_type": "code",
   "execution_count": 32,
   "metadata": {},
   "outputs": [
    {
     "data": {
      "text/plain": [
       "SVR(kernel='linear')"
      ]
     },
     "execution_count": 32,
     "metadata": {},
     "output_type": "execute_result"
    }
   ],
   "source": [
    "sv_regressor = SVR(kernel = 'linear', C = 1.0, epsilon = 0.1)\n",
    "\n",
    "sv_regressor.fit(X_train, y_train)"
   ]
  },
  {
   "cell_type": "code",
   "execution_count": 33,
   "metadata": {},
   "outputs": [
    {
     "name": "stdout",
     "output_type": "stream",
     "text": [
      "Performance\n",
      "\n",
      "Mean squared error = 15.38\n",
      "Explained variance score = 0.82\n"
     ]
    }
   ],
   "source": [
    "#Evaluate the performance of the SVR\n",
    "y_test_pred = sv_regressor.predict(X_test)\n",
    "\n",
    "mse = mean_squared_error(y_test, y_test_pred)\n",
    "evs = explained_variance_score(y_test, y_test_pred)\n",
    "\n",
    "print('Performance\\n')\n",
    "print(f'Mean squared error = {round(mse, 2)}')\n",
    "print(f'Explained variance score = {round(evs, 2)}')"
   ]
  },
  {
   "cell_type": "code",
   "execution_count": 34,
   "metadata": {},
   "outputs": [
    {
     "name": "stdout",
     "output_type": "stream",
     "text": [
      "Predicted_price = 18.521780107258536\n"
     ]
    }
   ],
   "source": [
    "#Test the regressor on the test datapoint\n",
    "test_data = [3.7, 0, 18.4, 1, 0.87, 5.95, 91, 2.5052, 26, 666, 20.2, 351.34, 15.27]\n",
    "\n",
    "print(f'Predicted_price = {sv_regressor.predict([test_data])[0]}')"
   ]
  },
  {
   "cell_type": "code",
   "execution_count": null,
   "metadata": {},
   "outputs": [],
   "source": []
  },
  {
   "cell_type": "markdown",
   "metadata": {},
   "source": [
    "### Building a decision tree classifier"
   ]
  },
  {
   "cell_type": "code",
   "execution_count": 35,
   "metadata": {},
   "outputs": [],
   "source": [
    "from sklearn.metrics import classification_report\n",
    "from sklearn.tree import DecisionTreeClassifier\n",
    "\n",
    "from data.utilities import visualize_classifier"
   ]
  },
  {
   "cell_type": "code",
   "execution_count": 36,
   "metadata": {},
   "outputs": [],
   "source": [
    "input_file = 'data/data_decision_trees.txt'\n",
    "\n",
    "data = np.loadtxt(input_file, delimiter = ',')\n",
    "X, y = data[:, :-1], data[:, -1]"
   ]
  },
  {
   "cell_type": "code",
   "execution_count": 37,
   "metadata": {},
   "outputs": [],
   "source": [
    "#Separate input data into classes based on labels (2 in this case)\n",
    "\n",
    "class_0 = np.array(X[y == 0])\n",
    "class_1 = np.array(X[y == 1])"
   ]
  },
  {
   "cell_type": "code",
   "execution_count": 38,
   "metadata": {},
   "outputs": [
    {
     "data": {
      "image/png": "[encoded data removed]",
      "text/plain": [
       "<Figure size 432x288 with 1 Axes>"
      ]
     },
     "metadata": {
      "needs_background": "light"
     },
     "output_type": "display_data"
    }
   ],
   "source": [
    "#Visualize the input data\n",
    "\n",
    "plt.figure()\n",
    "plt.scatter(class_0[:, 0], class_0[:, 1], s = 75, facecolors = 'black', edgecolors = 'black', linewidth = 1, marker = 'x')\n",
    "\n",
    "plt.scatter(class_1[:, 0], class_1[:, 1], s = 75, facecolors = 'white', edgecolors = 'black', linewidth = 1, marker = 'o')\n",
    "plt.title('Input data');"
   ]
  },
  {
   "cell_type": "code",
   "execution_count": 39,
   "metadata": {},
   "outputs": [],
   "source": [
    "X_train, X_test, y_train, y_test = train_test_split(X, y, test_size = 0.25, random_state = 5)"
   ]
  },
  {
   "cell_type": "code",
   "execution_count": 40,
   "metadata": {},
   "outputs": [
    {
     "name": "stderr",
     "output_type": "stream",
     "text": [
      "C:\\Users\\U\\Artificial Intelligence\\data\\utilities.py:26: MatplotlibDeprecationWarning: shading='flat' when X and Y have the same dimensions as C is deprecated since 3.3.  Either specify the corners of the quadrilaterals with X and Y, or pass shading='auto', 'nearest' or 'gouraud', or set rcParams['pcolor.shading'].  This will become an error two minor releases later.\n",
      "  plt.pcolormesh(x_vals, y_vals, output, cmap = plt.cm.gray)\n"
     ]
    },
    {
     "data": {
      "image/png": "[encoded data removed]",
      "text/plain": [
       "<Figure size 432x288 with 1 Axes>"
      ]
     },
     "metadata": {
      "needs_background": "light"
     },
     "output_type": "display_data"
    }
   ],
   "source": [
    "#The decision tree classifier\n",
    "\n",
    "params = {'random_state': 0, 'max_depth': 4}\n",
    "classifier = DecisionTreeClassifier(**params)\n",
    "\n",
    "classifier.fit(X_train, y_train)\n",
    "\n",
    "visualize_classifier(classifier, X_train, y_train, 'Training Dataset');"
   ]
  },
  {
   "cell_type": "code",
   "execution_count": 41,
   "metadata": {},
   "outputs": [
    {
     "name": "stderr",
     "output_type": "stream",
     "text": [
      "C:\\Users\\U\\Artificial Intelligence\\data\\utilities.py:26: MatplotlibDeprecationWarning: shading='flat' when X and Y have the same dimensions as C is deprecated since 3.3.  Either specify the corners of the quadrilaterals with X and Y, or pass shading='auto', 'nearest' or 'gouraud', or set rcParams['pcolor.shading'].  This will become an error two minor releases later.\n",
      "  plt.pcolormesh(x_vals, y_vals, output, cmap = plt.cm.gray)\n"
     ]
    },
    {
     "data": {
      "image/png": "[encoded data removed]",
      "text/plain": [
       "<Figure size 432x288 with 1 Axes>"
      ]
     },
     "metadata": {
      "needs_background": "light"
     },
     "output_type": "display_data"
    }
   ],
   "source": [
    "y_test_pred = classifier.predict(X_test)\n",
    "\n",
    "visualize_classifier(classifier, X_test, y_test, 'Test Dataset');"
   ]
  },
  {
   "cell_type": "code",
   "execution_count": 42,
   "metadata": {},
   "outputs": [
    {
     "name": "stdout",
     "output_type": "stream",
     "text": [
      "Classifier performance on the training dataset\n",
      "\n",
      "              precision    recall  f1-score   support\n",
      "\n",
      "     class-0       0.99      1.00      1.00       137\n",
      "     class-1       1.00      0.99      1.00       133\n",
      "\n",
      "    accuracy                           1.00       270\n",
      "   macro avg       1.00      1.00      1.00       270\n",
      "weighted avg       1.00      1.00      1.00       270\n",
      "\n"
     ]
    }
   ],
   "source": [
    "#Evaluate the classifier performance\n",
    "\n",
    "class_names = ['class-0', 'class-1']\n",
    "\n",
    "print('Classifier performance on the training dataset\\n')\n",
    "y_train_pred = classifier.predict(X_train)\n",
    "print(classification_report(y_train, y_train_pred, target_names = class_names))"
   ]
  },
  {
   "cell_type": "code",
   "execution_count": 43,
   "metadata": {},
   "outputs": [
    {
     "name": "stdout",
     "output_type": "stream",
     "text": [
      "Classifier performance on the test dataset\n",
      "\n",
      "              precision    recall  f1-score   support\n",
      "\n",
      "     class-0       0.93      1.00      0.97        43\n",
      "     class-1       1.00      0.94      0.97        47\n",
      "\n",
      "    accuracy                           0.97        90\n",
      "   macro avg       0.97      0.97      0.97        90\n",
      "weighted avg       0.97      0.97      0.97        90\n",
      "\n"
     ]
    }
   ],
   "source": [
    "print('Classifier performance on the test dataset\\n')\n",
    "\n",
    "print(classification_report(y_test, y_test_pred, target_names = class_names))"
   ]
  },
  {
   "cell_type": "code",
   "execution_count": null,
   "metadata": {},
   "outputs": [],
   "source": []
  },
  {
   "cell_type": "markdown",
   "metadata": {},
   "source": [
    "### Random forest and extremely-random forest classifiers"
   ]
  },
  {
   "cell_type": "code",
   "execution_count": 46,
   "metadata": {},
   "outputs": [],
   "source": [
    "#Solved using python files under the data folder"
   ]
  }
 ],
 "metadata": {
  "kernelspec": {
   "display_name": "Python 3",
   "language": "python",
   "name": "python3"
  },
  "language_info": {
   "codemirror_mode": {
    "name": "ipython",
    "version": 3
   },
   "file_extension": ".py",
   "mimetype": "text/x-python",
   "name": "python",
   "nbconvert_exporter": "python",
   "pygments_lexer": "ipython3",
   "version": "3.8.5"
  }
 },
 "nbformat": 4,
 "nbformat_minor": 4
}

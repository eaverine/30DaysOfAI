{
 "cells": [
  {
   "cell_type": "markdown",
   "metadata": {},
   "source": [
    "### Constructing a string using greedy search"
   ]
  },
  {
   "cell_type": "code",
   "execution_count": 1,
   "metadata": {},
   "outputs": [
    {
     "name": "stdout",
     "output_type": "stream",
     "text": [
      "Target string: Artificial Intelligence\n",
      "\n",
      "Path to the solution\n",
      "(None, '')\n",
      "('A', 'A')\n",
      "('r', 'Ar')\n",
      "('t', 'Art')\n",
      "('i', 'Arti')\n",
      "('f', 'Artif')\n",
      "('i', 'Artifi')\n",
      "('c', 'Artific')\n",
      "('i', 'Artifici')\n",
      "('a', 'Artificia')\n",
      "('l', 'Artificial')\n",
      "(' ', 'Artificial ')\n",
      "('I', 'Artificial I')\n",
      "('n', 'Artificial In')\n",
      "('t', 'Artificial Int')\n",
      "('e', 'Artificial Inte')\n",
      "('l', 'Artificial Intel')\n",
      "('l', 'Artificial Intell')\n",
      "('i', 'Artificial Intelli')\n",
      "('g', 'Artificial Intellig')\n",
      "('e', 'Artificial Intellige')\n",
      "('n', 'Artificial Intelligen')\n",
      "('c', 'Artificial Intelligenc')\n",
      "('e', 'Artificial Intelligence')\n"
     ]
    }
   ],
   "source": [
    "%run data/greedy_search.py --input-string \"Artificial Intelligence\""
   ]
  },
  {
   "cell_type": "code",
   "execution_count": 2,
   "metadata": {},
   "outputs": [
    {
     "name": "stdout",
     "output_type": "stream",
     "text": [
      "Target string: Artificial Intelligence\n",
      "\n",
      "Path to the solution\n",
      "(None, 'Artificial Inte')\n",
      "('l', 'Artificial Intel')\n",
      "('l', 'Artificial Intell')\n",
      "('i', 'Artificial Intelli')\n",
      "('g', 'Artificial Intellig')\n",
      "('e', 'Artificial Intellige')\n",
      "('n', 'Artificial Intelligen')\n",
      "('c', 'Artificial Intelligenc')\n",
      "('e', 'Artificial Intelligence')\n"
     ]
    }
   ],
   "source": [
    "%run data/greedy_search.py --input-string \"Artificial Intelligence\" --initial-state \"Artificial Inte\""
   ]
  },
  {
   "cell_type": "code",
   "execution_count": null,
   "metadata": {},
   "outputs": [],
   "source": []
  },
  {
   "cell_type": "markdown",
   "metadata": {},
   "source": [
    "### Solving a problem with constraints"
   ]
  },
  {
   "cell_type": "code",
   "execution_count": 5,
   "metadata": {},
   "outputs": [],
   "source": [
    "from data.simpleai.search import CspProblem, backtrack, min_conflicts, MOST_CONSTRAINED_VARIABLE,\\\n",
    "HIGHEST_DEGREE_VARIABLE, LEAST_CONSTRAINING_VALUE"
   ]
  },
  {
   "cell_type": "code",
   "execution_count": 6,
   "metadata": {},
   "outputs": [],
   "source": [
    "def constraint_unique(variables, values):\n",
    "    #Check if all the values are unique\n",
    "    return len(values) == len(set(values))\n",
    "\n",
    "def constraint_bigger(variables, values):\n",
    "    #Constraint that one variable should be bigger than the other\n",
    "    return values[0] > values[1]\n",
    "\n",
    "def constraint_odd_even(variables, values):\n",
    "    #If the first variable is even, the second should be odd, and vice versa\n",
    "    if values[0] % 2 == 0:\n",
    "        return values[1] % 2 == 1\n",
    "    else:\n",
    "        return values[1] % 2 == 0"
   ]
  },
  {
   "cell_type": "code",
   "execution_count": 24,
   "metadata": {},
   "outputs": [],
   "source": [
    "variables = ('John', 'Anna', 'Tom', 'Patricia')\n",
    "\n",
    "domains = {\n",
    "    'John': [1, 2, 3],\n",
    "    'Anna': [1, 3],\n",
    "    'Tom': [2, 4],\n",
    "    'Patricia': [2, 3, 4],\n",
    "}\n",
    "\n",
    "constraints = [\n",
    "    (('John', 'Anna', 'Tom'), constraint_unique),\n",
    "    (('Tom', 'Anna'), constraint_bigger),\n",
    "    (('John', 'Patricia'), constraint_odd_even)\n",
    "]"
   ]
  },
  {
   "cell_type": "code",
   "execution_count": 25,
   "metadata": {},
   "outputs": [],
   "source": [
    "problem = CspProblem(variables, domains, constraints)"
   ]
  },
  {
   "cell_type": "code",
   "execution_count": 26,
   "metadata": {},
   "outputs": [
    {
     "name": "stdout",
     "output_type": "stream",
     "text": [
      "Solutions:\n",
      "\n",
      "Normal: {'John': 1, 'Anna': 3, 'Tom': 4, 'Patricia': 2}\n",
      "Most constrained variable: {'Anna': 1, 'Tom': 2, 'John': 3, 'Patricia': 2}\n",
      "Highest degree variable: {'John': 1, 'Anna': 3, 'Tom': 4, 'Patricia': 2}\n",
      "Least Constraining value: {'John': 1, 'Anna': 3, 'Tom': 4, 'Patricia': 2}\n",
      "Most constrained variable and least constraining value: {'Anna': 1, 'Tom': 2, 'John': 3, 'Patricia': 2}\n",
      "Highest degree and least constraining value: {'John': 1, 'Anna': 3, 'Tom': 4, 'Patricia': 2}\n",
      "Minimum conflicts: {'John': 3, 'Anna': 1, 'Tom': 2, 'Patricia': 2}\n"
     ]
    }
   ],
   "source": [
    "print('Solutions:\\n')\n",
    "\n",
    "print(f'Normal: {backtrack(problem)}')\n",
    "print(f'Most constrained variable: {backtrack(problem, variable_heuristic = MOST_CONSTRAINED_VARIABLE)}')\n",
    "print(f'Highest degree variable: {backtrack(problem, variable_heuristic = HIGHEST_DEGREE_VARIABLE)}')\n",
    "print(f'Least Constraining value: {backtrack(problem, variable_heuristic = LEAST_CONSTRAINING_VALUE)}')\n",
    "\n",
    "print(f'Most constrained variable and least constraining value: \\\n",
    "{backtrack(problem, variable_heuristic = MOST_CONSTRAINED_VARIABLE, value_heuristic = LEAST_CONSTRAINING_VALUE)}')\n",
    "\n",
    "print(f'Highest degree and least constraining value: \\\n",
    "{backtrack(problem, variable_heuristic = HIGHEST_DEGREE_VARIABLE, value_heuristic = LEAST_CONSTRAINING_VALUE)}')\n",
    "\n",
    "print(f'Minimum conflicts: {min_conflicts(problem)}')"
   ]
  },
  {
   "cell_type": "code",
   "execution_count": null,
   "metadata": {},
   "outputs": [],
   "source": []
  },
  {
   "cell_type": "markdown",
   "metadata": {},
   "source": [
    "### Solving the region-coloring problem\n",
    "#### The goal is to color with four colors so that no adjacent regions have the same color"
   ]
  },
  {
   "cell_type": "code",
   "execution_count": 13,
   "metadata": {},
   "outputs": [],
   "source": [
    "def constraint_func(names, values):\n",
    "    #Imposes that neighbors should be different\n",
    "    return values[0] != values[1]"
   ]
  },
  {
   "cell_type": "code",
   "execution_count": 15,
   "metadata": {},
   "outputs": [],
   "source": [
    "#Specifying the variables\n",
    "names = ('Mark', 'Julia', 'Steve', 'Amanda', 'Brian', 'Joanne', 'Derek', 'Allan', 'Michelle', 'Kelly')\n",
    "\n",
    "#Define the possible colors\n",
    "colors = dict((name, ['red', 'green', 'blue', 'gray']) for name in names)"
   ]
  },
  {
   "cell_type": "code",
   "execution_count": 27,
   "metadata": {},
   "outputs": [],
   "source": [
    "#Define the constraints\n",
    "constraints = [\n",
    "    (('Mark', 'Julia'), constraint_func),\n",
    "    (('Mark', 'Steve'), constraint_func),\n",
    "    (('Julia', 'Steve'), constraint_func),\n",
    "    (('Julia', 'Amanda'), constraint_func),\n",
    "    (('Julia', 'Derek'), constraint_func),\n",
    "    (('Julia', 'Brian'), constraint_func),\n",
    "    (('Brian', 'Derek'), constraint_func),\n",
    "    (('Brian', 'Kelly'), constraint_func),\n",
    "    (('Steve', 'Amanda'), constraint_func),\n",
    "    (('Steve', 'Allan'), constraint_func),\n",
    "    (('Steve', 'Michelle'), constraint_func),\n",
    "    (('Amanda', 'Derek'), constraint_func),\n",
    "    (('Amanda', 'Michelle'), constraint_func),\n",
    "    (('Amanda', 'Joanne'), constraint_func),\n",
    "    (('Derek', 'Joanne'), constraint_func),\n",
    "    (('Derek', 'Kelly'), constraint_func), \n",
    "    (('Derek', 'Chris'), constraint_func),\n",
    "    (('Allan', 'Michelle'), constraint_func),\n",
    "    (('Michelle', 'Joanne'), constraint_func),\n",
    "    (('Joanne', 'Chris'), constraint_func),\n",
    "    (('Chris', 'Kelly'), constraint_func)\n",
    "]"
   ]
  },
  {
   "cell_type": "code",
   "execution_count": 28,
   "metadata": {},
   "outputs": [],
   "source": [
    "problem = CspProblem(names, colors, constraints)"
   ]
  },
  {
   "cell_type": "code",
   "execution_count": 29,
   "metadata": {},
   "outputs": [
    {
     "name": "stdout",
     "output_type": "stream",
     "text": [
      "Color mapping:\n",
      "\n",
      "Mark <==> red\n",
      "Julia <==> green\n",
      "Steve <==> blue\n",
      "Amanda <==> red\n",
      "Brian <==> red\n",
      "Joanne <==> green\n",
      "Derek <==> blue\n",
      "Allan <==> red\n",
      "Michelle <==> gray\n",
      "Kelly <==> green\n"
     ]
    }
   ],
   "source": [
    "output = backtrack(problem)\n",
    "\n",
    "print('Color mapping:\\n')\n",
    "for name, color in output.items():\n",
    "    print(f'{name} <==> {color}')"
   ]
  },
  {
   "cell_type": "code",
   "execution_count": null,
   "metadata": {},
   "outputs": [],
   "source": []
  }
 ],
 "metadata": {
  "kernelspec": {
   "display_name": "Python 3",
   "language": "python",
   "name": "python3"
  },
  "language_info": {
   "codemirror_mode": {
    "name": "ipython",
    "version": 3
   },
   "file_extension": ".py",
   "mimetype": "text/x-python",
   "name": "python",
   "nbconvert_exporter": "python",
   "pygments_lexer": "ipython3",
   "version": "3.8.5"
  }
 },
 "nbformat": 4,
 "nbformat_minor": 4
}

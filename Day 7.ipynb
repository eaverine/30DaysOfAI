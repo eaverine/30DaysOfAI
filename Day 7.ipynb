{
 "cells": [
  {
   "cell_type": "code",
   "execution_count": 32,
   "metadata": {},
   "outputs": [
    {
     "name": "stdout",
     "output_type": "stream",
     "text": [
      "Euclidean Score:\n",
      "0.585786437626905\n"
     ]
    }
   ],
   "source": [
    "%run data/compute_scores.py --user1 \"David Smith\" --user2 \"Bill Duffy\" --score-type Euclidean"
   ]
  },
  {
   "cell_type": "code",
   "execution_count": 33,
   "metadata": {},
   "outputs": [
    {
     "name": "stdout",
     "output_type": "stream",
     "text": [
      "Pearson Score:\n",
      "0.9909924304103233\n"
     ]
    }
   ],
   "source": [
    "%run data/compute_scores.py --user1 \"David Smith\" --user2 \"Bill Duffy\" --score-type Pearson"
   ]
  },
  {
   "cell_type": "code",
   "execution_count": 37,
   "metadata": {},
   "outputs": [
    {
     "name": "stdout",
     "output_type": "stream",
     "text": [
      "Users similar to Bill Duffy:\n",
      "\n",
      "User\t\t\tSimilarity score\n",
      "-----------------------------------------\n",
      "David Smith\t\t0.99\n",
      "Samuel Miller\t\t0.88\n",
      "Adam Cohen\t\t0.86\n"
     ]
    }
   ],
   "source": [
    "%run data/collaborative_filtering.py --user \"Bill Duffy\""
   ]
  },
  {
   "cell_type": "code",
   "execution_count": 38,
   "metadata": {},
   "outputs": [
    {
     "name": "stdout",
     "output_type": "stream",
     "text": [
      "Movie recommendations for Chris Duncan:\n",
      "1.Vertigo\n",
      "2.Scarface\n",
      "3.Goodfellas\n",
      "4.Roman Holiday\n"
     ]
    }
   ],
   "source": [
    "%run data/movie_recommender.py --user \"Chris Duncan\""
   ]
  },
  {
   "cell_type": "code",
   "execution_count": 39,
   "metadata": {},
   "outputs": [
    {
     "name": "stdout",
     "output_type": "stream",
     "text": [
      "Movie recommendations for Julie Hammel:\n",
      "1.The Apartment\n",
      "2.Vertigo\n",
      "3.Raging Bull\n"
     ]
    }
   ],
   "source": [
    "%run data/movie_recommender.py --user \"Julie Hammel\""
   ]
  },
  {
   "cell_type": "code",
   "execution_count": null,
   "metadata": {},
   "outputs": [],
   "source": []
  }
 ],
 "metadata": {
  "kernelspec": {
   "display_name": "Python 3",
   "language": "python",
   "name": "python3"
  },
  "language_info": {
   "codemirror_mode": {
    "name": "ipython",
    "version": 3
   },
   "file_extension": ".py",
   "mimetype": "text/x-python",
   "name": "python",
   "nbconvert_exporter": "python",
   "pygments_lexer": "ipython3",
   "version": "3.8.5"
  }
 },
 "nbformat": 4,
 "nbformat_minor": 4
}

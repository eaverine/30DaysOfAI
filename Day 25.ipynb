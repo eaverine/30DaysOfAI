{
 "cells": [
  {
   "cell_type": "markdown",
   "metadata": {},
   "source": [
    "### Building fulfillment responses from a webhook"
   ]
  },
  {
   "cell_type": "code",
   "execution_count": 6,
   "metadata": {},
   "outputs": [],
   "source": [
    "from flask import Flask, request, make_response, jsonify"
   ]
  },
  {
   "cell_type": "code",
   "execution_count": 21,
   "metadata": {},
   "outputs": [],
   "source": [
    "#Initialize the flask app\n",
    "app = Flask(__name__)\n",
    "\n",
    "#Default route\n",
    "@app.route('/')\n",
    "def index():\n",
    "    return 'Hello world'\n",
    "\n",
    "#function for responses\n",
    "def results():\n",
    "    req = request.get_json(force = True)    #build a request object\n",
    "    \n",
    "    #fetch action from json\n",
    "    action = req.get('queryResult').get('action')\n",
    "        \n",
    "    #return a fulfillment response\n",
    "    return {'fulfillmentText': 'This is a webhook response'}\n",
    "\n",
    "#create a route for webhook\n",
    "@app.route('/webhook', methods = ['GET', 'POST'])\n",
    "def webhook():\n",
    "    return make_response(jsonify(results()))    #return response"
   ]
  },
  {
   "cell_type": "code",
   "execution_count": 23,
   "metadata": {
    "scrolled": true
   },
   "outputs": [
    {
     "name": "stdout",
     "output_type": "stream",
     "text": [
      " * Serving Flask app \"__main__\" (lazy loading)\n",
      " * Environment: production\n",
      "   WARNING: This is a development server. Do not use it in a production deployment.\n",
      "   Use a production WSGI server instead.\n",
      " * Debug mode: off\n"
     ]
    },
    {
     "name": "stderr",
     "output_type": "stream",
     "text": [
      " * Running on http://127.0.0.1:5000/ (Press CTRL+C to quit)\n"
     ]
    }
   ],
   "source": [
    "app.run()"
   ]
  },
  {
   "cell_type": "code",
   "execution_count": null,
   "metadata": {},
   "outputs": [],
   "source": []
  }
 ],
 "metadata": {
  "kernelspec": {
   "display_name": "Python 3",
   "language": "python",
   "name": "python3"
  },
  "language_info": {
   "codemirror_mode": {
    "name": "ipython",
    "version": 3
   },
   "file_extension": ".py",
   "mimetype": "text/x-python",
   "name": "python",
   "nbconvert_exporter": "python",
   "pygments_lexer": "ipython3",
   "version": "3.8.5"
  }
 },
 "nbformat": 4,
 "nbformat_minor": 4
}

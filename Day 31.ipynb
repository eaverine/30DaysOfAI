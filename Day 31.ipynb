{
 "cells": [
  {
   "cell_type": "markdown",
   "metadata": {},
   "source": [
    "### Frame differencing with OpenCV"
   ]
  },
  {
   "cell_type": "code",
   "execution_count": 1,
   "metadata": {},
   "outputs": [],
   "source": [
    "import cv2"
   ]
  },
  {
   "cell_type": "code",
   "execution_count": 2,
   "metadata": {},
   "outputs": [],
   "source": [
    "#Compute the frame differences\n",
    "def frame_diff(prev_frame, cur_frame, next_frame):\n",
    "    #Difference between the current frame and the next frame\n",
    "    diff_frames_1 = cv2.absdiff(next_frame, cur_frame)\n",
    "    \n",
    "    #Difference between the current frame and the previous frame\n",
    "    diff_frames_2 = cv2.absdiff(cur_frame, prev_frame)\n",
    "    \n",
    "    return cv2.bitwise_and(diff_frames_1, diff_frames_2)"
   ]
  },
  {
   "cell_type": "code",
   "execution_count": 16,
   "metadata": {},
   "outputs": [],
   "source": [
    "#Define a function to get the current frame from the video capture object\n",
    "def get_frame(cap, scaling_factor):\n",
    "    #Read the current frame from the video capture object\n",
    "    _, frame = cap.read()\n",
    "    \n",
    "    #Resize the image based on the scaling factor\n",
    "    frame = cv2.resize(frame, None, fx = scaling_factor, fy = scaling_factor, interpolation = cv2.INTER_AREA)\n",
    "    \n",
    "    #Convert to grayscale\n",
    "    gray = cv2.cvtColor(frame, cv2.COLOR_RGB2GRAY)\n",
    "    \n",
    "    return gray"
   ]
  },
  {
   "cell_type": "code",
   "execution_count": 17,
   "metadata": {},
   "outputs": [],
   "source": [
    "def start_video_capture():\n",
    "    cap = cv2.VideoCapture('data/Emshol Original Latest LINKEDIN.m4v')\n",
    "    \n",
    "    #Define the scaling factor for the images\n",
    "    scaling_factor = 0.5\n",
    "    \n",
    "    #Grab the current frame, next frame and the frame after that to be used\n",
    "    #as prev_frame, cur_frame and next_frame respectively\n",
    "    prev_frame = get_frame(cap, scaling_factor)\n",
    "    cur_frame = get_frame(cap, scaling_factor)\n",
    "    next_frame = get_frame(cap, scaling_factor)\n",
    "    \n",
    "    #Keep reading the frames from the video capture object until the user hits the 'Esc' key\n",
    "    while True:\n",
    "        #Display the frame difference\n",
    "        cv2.imshow('Object Movement', frame_diff(prev_frame, cur_frame, next_frame))\n",
    "        \n",
    "        #Update the frame variables\n",
    "        prev_frame = cur_frame\n",
    "        cur_frame = next_frame\n",
    "        next_frame = get_frame(cap, scaling_factor)   #Grab the next frame\n",
    "        \n",
    "        #Check if the user hits the 'Esc' key\n",
    "        key = cv2.waitKey(10)\n",
    "        if key == 27:\n",
    "            break\n",
    "            \n",
    "    #Closing all windows properly\n",
    "    cv2.destroyAllWindows()"
   ]
  },
  {
   "cell_type": "code",
   "execution_count": 18,
   "metadata": {},
   "outputs": [],
   "source": [
    "start_video_capture()"
   ]
  }
 ],
 "metadata": {
  "kernelspec": {
   "display_name": "Python 3",
   "language": "python",
   "name": "python3"
  },
  "language_info": {
   "codemirror_mode": {
    "name": "ipython",
    "version": 3
   },
   "file_extension": ".py",
   "mimetype": "text/x-python",
   "name": "python",
   "nbconvert_exporter": "python",
   "pygments_lexer": "ipython3",
   "version": "3.8.5"
  }
 },
 "nbformat": 4,
 "nbformat_minor": 4
}

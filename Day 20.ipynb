{
 "cells": [
  {
   "cell_type": "markdown",
   "metadata": {},
   "source": [
    "### Constructing a gender identifier"
   ]
  },
  {
   "cell_type": "code",
   "execution_count": 1,
   "metadata": {},
   "outputs": [],
   "source": [
    "import random\n",
    "\n",
    "from nltk import NaiveBayesClassifier\n",
    "from nltk.classify import accuracy as nltk_accuracy\n",
    "from nltk.corpus import names"
   ]
  },
  {
   "cell_type": "code",
   "execution_count": 2,
   "metadata": {},
   "outputs": [],
   "source": [
    "def extract_features(name, N = 2):\n",
    "    #Extract last N letters from the input name and that will act as our feature\n",
    "    last_n_letters = name[-N:]\n",
    "    \n",
    "    return {'feature': last_n_letters.lower()}"
   ]
  },
  {
   "cell_type": "code",
   "execution_count": 3,
   "metadata": {},
   "outputs": [],
   "source": [
    "#Create training data using labeled names available in NLTK\n",
    "male_list = [(name, 'male') for name in names.words('male.txt')]\n",
    "female_list = [(name, 'female') for name in names.words('female.txt')]\n",
    "\n",
    "data = male_list + female_list"
   ]
  },
  {
   "cell_type": "code",
   "execution_count": 4,
   "metadata": {},
   "outputs": [],
   "source": [
    "random.seed(5)\n",
    "random.shuffle(data)"
   ]
  },
  {
   "cell_type": "code",
   "execution_count": 5,
   "metadata": {},
   "outputs": [],
   "source": [
    "#Create test data\n",
    "input_names = ['Alexander', 'Danielle', 'David', 'Cheryl']"
   ]
  },
  {
   "cell_type": "code",
   "execution_count": 6,
   "metadata": {},
   "outputs": [
    {
     "name": "stdout",
     "output_type": "stream",
     "text": [
      "\n",
      "Number of letters:  1\n",
      "Accuracy =  74.7 %\n",
      "Alexander  ==>  male\n",
      "Danielle  ==>  female\n",
      "David  ==>  male\n",
      "Cheryl  ==>  male\n",
      "\n",
      "Number of letters:  2\n",
      "Accuracy =  78.79 %\n",
      "Alexander  ==>  male\n",
      "Danielle  ==>  female\n",
      "David  ==>  male\n",
      "Cheryl  ==>  female\n",
      "\n",
      "Number of letters:  3\n",
      "Accuracy =  77.22 %\n",
      "Alexander  ==>  male\n",
      "Danielle  ==>  female\n",
      "David  ==>  male\n",
      "Cheryl  ==>  female\n",
      "\n",
      "Number of letters:  4\n",
      "Accuracy =  69.98 %\n",
      "Alexander  ==>  male\n",
      "Danielle  ==>  female\n",
      "David  ==>  male\n",
      "Cheryl  ==>  female\n",
      "\n",
      "Number of letters:  5\n",
      "Accuracy =  64.63 %\n",
      "Alexander  ==>  male\n",
      "Danielle  ==>  female\n",
      "David  ==>  male\n",
      "Cheryl  ==>  female\n"
     ]
    }
   ],
   "source": [
    "num_train = int(0.8 * len(data))\n",
    "\n",
    "#Iterate through different lengths to compare the accuracy\n",
    "for i in range(1, 6):\n",
    "    print('\\nNumber of letters: ', i)\n",
    "    \n",
    "    features = [(extract_features(name, i), gender) for (name, gender) in data]\n",
    "    train_data, test_data = features[:num_train], features[num_train:]\n",
    "    \n",
    "    classifier = NaiveBayesClassifier.train(train_data)\n",
    "    \n",
    "    #Compute the accuracy of the classifier\n",
    "    accuracy = round(100 * nltk_accuracy(classifier, test_data), 2)\n",
    "    print('Accuracy = ', accuracy, '%')\n",
    "    \n",
    "    #Predict outputs for input names using the current-trained classifier model\n",
    "    for name in input_names:\n",
    "        print(name, ' ==> ', classifier.classify(extract_features(name, i)))"
   ]
  },
  {
   "cell_type": "code",
   "execution_count": null,
   "metadata": {},
   "outputs": [],
   "source": []
  },
  {
   "cell_type": "markdown",
   "metadata": {},
   "source": [
    "### Building a sentiment analyzer"
   ]
  },
  {
   "cell_type": "code",
   "execution_count": 7,
   "metadata": {},
   "outputs": [],
   "source": [
    "from nltk.corpus import movie_reviews\n",
    "from nltk.classify.util import accuracy as nltk_accuracy"
   ]
  },
  {
   "cell_type": "code",
   "execution_count": 8,
   "metadata": {},
   "outputs": [],
   "source": [
    "def extract_features(words):\n",
    "    return dict([(word, True) for word in words])"
   ]
  },
  {
   "cell_type": "code",
   "execution_count": 9,
   "metadata": {},
   "outputs": [],
   "source": [
    "#Load the reviews from the corpus\n",
    "fileids_pos = movie_reviews.fileids('pos')\n",
    "fileids_neg = movie_reviews.fileids('neg')"
   ]
  },
  {
   "cell_type": "code",
   "execution_count": 10,
   "metadata": {},
   "outputs": [],
   "source": [
    "#Extract the features from the reviews\n",
    "features_pos = [(extract_features(movie_reviews.words(fileids = [f])), 'Positive') for f in fileids_pos]\n",
    "features_neg = [(extract_features(movie_reviews.words(fileids = [f])), 'Negative') for f in fileids_neg]"
   ]
  },
  {
   "cell_type": "code",
   "execution_count": 12,
   "metadata": {},
   "outputs": [],
   "source": [
    "#Define the train and test split(80% and 20%)\n",
    "threshold = 0.8\n",
    "\n",
    "num_pos = int(threshold * len(features_pos))\n",
    "num_neg = int(threshold * len(features_neg))\n",
    "\n",
    "features_train = features_pos[:num_pos] + features_neg[:num_neg]\n",
    "features_test = features_pos[num_pos:] + features_neg[num_neg:]"
   ]
  },
  {
   "cell_type": "code",
   "execution_count": 14,
   "metadata": {},
   "outputs": [
    {
     "name": "stdout",
     "output_type": "stream",
     "text": [
      "Number of training datapoints:  1600\n",
      "Number of test datapoints:  400\n"
     ]
    }
   ],
   "source": [
    "print('Number of training datapoints: ', len(features_train))\n",
    "print('Number of test datapoints: ', len(features_test))"
   ]
  },
  {
   "cell_type": "code",
   "execution_count": 15,
   "metadata": {},
   "outputs": [
    {
     "name": "stdout",
     "output_type": "stream",
     "text": [
      "Accuracy of the classifier:  0.735\n"
     ]
    }
   ],
   "source": [
    "classifier = NaiveBayesClassifier.train(features_train)\n",
    "print('Accuracy of the classifier: ', nltk_accuracy(classifier, features_test))"
   ]
  },
  {
   "cell_type": "code",
   "execution_count": 17,
   "metadata": {},
   "outputs": [
    {
     "name": "stdout",
     "output_type": "stream",
     "text": [
      "Top 15 most informative words:\n",
      "\n",
      "1. outstanding\n",
      "2. insulting\n",
      "3. vulnerable\n",
      "4. ludicrous\n",
      "5. uninvolving\n",
      "6. astounding\n",
      "7. avoids\n",
      "8. fascination\n",
      "9. affecting\n",
      "10. animators\n",
      "11. anna\n",
      "12. darker\n",
      "13. seagal\n",
      "14. symbol\n",
      "15. idiotic\n"
     ]
    }
   ],
   "source": [
    "#Print the top N most informative word\n",
    "N = 15\n",
    "print(f'Top {N} most informative words:\\n')\n",
    "\n",
    "for i, item in enumerate(classifier.most_informative_features(), start = 1):\n",
    "    print(f'{i}. {item[0]}')\n",
    "    if i == N:\n",
    "        break"
   ]
  },
  {
   "cell_type": "code",
   "execution_count": 18,
   "metadata": {},
   "outputs": [],
   "source": [
    "#Test input movie reviews\n",
    "input_reviews = ['The costumes in this movie were great', 'I think the story was terrible and the characters were very weak',\n",
    "                 'People say that the director of the movie is amazing', \n",
    "                 'This is such an idiotic movie. I will not recommend it to anyone.']"
   ]
  },
  {
   "cell_type": "code",
   "execution_count": 19,
   "metadata": {},
   "outputs": [
    {
     "name": "stdout",
     "output_type": "stream",
     "text": [
      "Movie review predictions: \n",
      "\n",
      "\n",
      "Review:  The costumes in this movie were great\n",
      "Predicted Sentiment:  Positive\n",
      "Probability:  0.59\n",
      "\n",
      "Review:  I think the story was terrible and the characters were very weak\n",
      "Predicted Sentiment:  Negative\n",
      "Probability:  0.8\n",
      "\n",
      "Review:  People say that the director of the movie is amazing\n",
      "Predicted Sentiment:  Positive\n",
      "Probability:  0.6\n",
      "\n",
      "Review:  This is such an idiotic movie. I will not recommend it to anyone.\n",
      "Predicted Sentiment:  Negative\n",
      "Probability:  0.87\n"
     ]
    }
   ],
   "source": [
    "print('Movie review predictions: \\n')\n",
    "for review in input_reviews:\n",
    "    print('\\nReview: ', review)\n",
    "    \n",
    "    #Compute the probabilities\n",
    "    probabilities = classifier.prob_classify(extract_features(review.split()))\n",
    "    \n",
    "    #Pick the maximum value\n",
    "    predicted_sentiment = probabilities.max()\n",
    "    \n",
    "    print('Predicted Sentiment: ', predicted_sentiment)\n",
    "    print('Probability: ', round(probabilities.prob(predicted_sentiment), 2))"
   ]
  },
  {
   "cell_type": "code",
   "execution_count": null,
   "metadata": {},
   "outputs": [],
   "source": []
  }
 ],
 "metadata": {
  "kernelspec": {
   "display_name": "Python 3",
   "language": "python",
   "name": "python3"
  },
  "language_info": {
   "codemirror_mode": {
    "name": "ipython",
    "version": 3
   },
   "file_extension": ".py",
   "mimetype": "text/x-python",
   "name": "python",
   "nbconvert_exporter": "python",
   "pygments_lexer": "ipython3",
   "version": "3.8.5"
  }
 },
 "nbformat": 4,
 "nbformat_minor": 4
}

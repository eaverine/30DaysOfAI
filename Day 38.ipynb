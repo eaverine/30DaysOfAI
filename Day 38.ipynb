{
 "cells": [
  {
   "cell_type": "markdown",
   "id": "4d3aae85",
   "metadata": {},
   "source": [
    "### Training an RNN"
   ]
  },
  {
   "cell_type": "code",
   "execution_count": 1,
   "id": "b6211c47",
   "metadata": {},
   "outputs": [],
   "source": [
    "import numpy as np\n",
    "import math\n",
    "import matplotlib.pyplot as plt"
   ]
  },
  {
   "cell_type": "code",
   "execution_count": 2,
   "id": "4ea65387",
   "metadata": {},
   "outputs": [],
   "source": [
    "input_data = np.array([math.cos(x) for x in np.arange(200)])"
   ]
  },
  {
   "cell_type": "code",
   "execution_count": 3,
   "id": "de863540",
   "metadata": {
    "scrolled": true
   },
   "outputs": [
    {
     "data": {
      "image/png": "[encoded data removed]",
      "text/plain": [
       "<Figure size 432x288 with 1 Axes>"
      ]
     },
     "metadata": {
      "needs_background": "light"
     },
     "output_type": "display_data"
    }
   ],
   "source": [
    "plt.plot(input_data[:50]);"
   ]
  },
  {
   "cell_type": "code",
   "execution_count": 4,
   "id": "0fb39e41",
   "metadata": {},
   "outputs": [],
   "source": [
    "#Let's split the input data into testing and validation sets\n",
    "X = []\n",
    "Y = []\n",
    "\n",
    "size = 50\n",
    "number_of_records = len(input_data) - size\n",
    "\n",
    "for i in range(number_of_records - 50):\n",
    "    X.append(input_data[i:i+size])\n",
    "    Y.append(input_data[i+size])\n",
    "    \n",
    "X = np.array(X)\n",
    "X = np.expand_dims(X, axis = 2)\n",
    "\n",
    "Y = np.array(Y)\n",
    "Y = np.expand_dims(Y, axis = 1)"
   ]
  },
  {
   "cell_type": "code",
   "execution_count": 5,
   "id": "cf93e79a",
   "metadata": {},
   "outputs": [
    {
     "data": {
      "text/plain": [
       "((100, 50, 1), (100, 1))"
      ]
     },
     "execution_count": 5,
     "metadata": {},
     "output_type": "execute_result"
    }
   ],
   "source": [
    "X.shape, Y.shape"
   ]
  },
  {
   "cell_type": "code",
   "execution_count": 6,
   "id": "110a1e91",
   "metadata": {},
   "outputs": [],
   "source": [
    "#Validation set\n",
    "X_valid = []\n",
    "Y_valid = []\n",
    "\n",
    "for i in range(number_of_records - 50, number_of_records):\n",
    "    X_valid.append(input_data[i:i+size])\n",
    "    Y_valid.append(input_data[i+size])\n",
    "    \n",
    "X_valid = np.array(X_valid)\n",
    "X_valid = np.expand_dims(X_valid, axis = 2)\n",
    "\n",
    "Y_valid = np.array(Y_valid)\n",
    "Y_valid = np.expand_dims(Y_valid, axis = 1)"
   ]
  },
  {
   "cell_type": "code",
   "execution_count": 7,
   "id": "57a84dd3",
   "metadata": {},
   "outputs": [],
   "source": [
    "#Define parameters for the RNN\n",
    "learning_rate = 0.0001\n",
    "number_of_epochs = 20\n",
    "sequence_length = 50\n",
    "hidden_layer_size = 100\n",
    "output_layer_size = 1\n",
    "\n",
    "back_prop_truncate = 5\n",
    "min_clip_value = -10\n",
    "max_clip_value = 10"
   ]
  },
  {
   "cell_type": "code",
   "execution_count": 8,
   "id": "355e961d",
   "metadata": {},
   "outputs": [],
   "source": [
    "W1 = np.random.uniform(size = (hidden_layer_size, sequence_length))   #Weight matrix for weights between the input and hidden layers\n",
    "W2 = np.random.uniform(size = (hidden_layer_size, hidden_layer_size))   #...weights between the hidden and output layers\n",
    "W3 = np.random.uniform(size = (output_layer_size, hidden_layer_size))   #...shared weights in the RNN layer (hidden layer)"
   ]
  },
  {
   "cell_type": "code",
   "execution_count": 9,
   "id": "50d854ae",
   "metadata": {},
   "outputs": [],
   "source": [
    "#Defining the activation function to be used: sigmoid\n",
    "def sigmoid(x):\n",
    "    return 1 / (1 + np.exp(-x))"
   ]
  },
  {
   "cell_type": "code",
   "execution_count": 10,
   "id": "d9459386",
   "metadata": {},
   "outputs": [],
   "source": [
    "\"\"\"\n",
    "Steps for training:\n",
    "-Check loss on training data: Perform a forward pass, calculate the error\n",
    "-Check loss on validation data: Perform a forward pass, calculate the error\n",
    "-Start the training: Perform a forward pass, backpropagate the error, update the weights\n",
    "\"\"\";"
   ]
  },
  {
   "cell_type": "code",
   "execution_count": 11,
   "id": "3c81086f",
   "metadata": {},
   "outputs": [
    {
     "name": "stdout",
     "output_type": "stream",
     "text": [
      "Epoch 1, Loss: [[167561.47083342]], Validation loss: [[83774.88906488]]\n",
      "Epoch 2, Loss: [[114675.99765104]], Validation loss: [[57333.16931048]]\n",
      "Epoch 3, Loss: [[71790.52445841]], Validation loss: [[35891.44955096]]\n",
      "Epoch 4, Loss: [[38904.92734755]], Validation loss: [[19449.6679744]]\n",
      "Epoch 5, Loss: [[15834.18510091]], Validation loss: [[7915.40393916]]\n",
      "Epoch 6, Loss: [[714.55879058]], Validation loss: [[357.28587457]]\n",
      "Epoch 7, Loss: [[31.24931116]], Validation loss: [[15.67439251]]\n",
      "Epoch 8, Loss: [[31.91549942]], Validation loss: [[16.0235354]]\n",
      "Epoch 9, Loss: [[31.11309289]], Validation loss: [[15.62728088]]\n",
      "Epoch 10, Loss: [[31.84749947]], Validation loss: [[16.00063892]]\n",
      "Epoch 11, Loss: [[31.33493732]], Validation loss: [[15.73615543]]\n",
      "Epoch 12, Loss: [[31.66083836]], Validation loss: [[15.90438376]]\n",
      "Epoch 13, Loss: [[31.1340428]], Validation loss: [[15.64097211]]\n",
      "Epoch 14, Loss: [[32.21800737]], Validation loss: [[16.1882922]]\n",
      "Epoch 15, Loss: [[31.77043267]], Validation loss: [[15.96173095]]\n",
      "Epoch 16, Loss: [[31.79125644]], Validation loss: [[15.97109643]]\n",
      "Epoch 17, Loss: [[31.66126425]], Validation loss: [[15.89871695]]\n",
      "Epoch 18, Loss: [[32.08166144]], Validation loss: [[16.10937374]]\n",
      "Epoch 19, Loss: [[31.17440411]], Validation loss: [[15.66264501]]\n",
      "Epoch 20, Loss: [[31.68133763]], Validation loss: [[15.91989179]]\n"
     ]
    }
   ],
   "source": [
    "for epoch in range(1, number_of_epochs+1):\n",
    "    #Check loss on train\n",
    "    loss = 0.0\n",
    "    \n",
    "    #Do a forward pass to get prediction\n",
    "    for i in range(Y.shape[0]):\n",
    "        x, y = X[i], Y[i]\n",
    "        prev_act = np.zeros((hidden_layer_size, 1))\n",
    "        \n",
    "        for t in range(sequence_length):\n",
    "            new_input = np.zeros(x.shape)\n",
    "            new_input[t] = x[t]\n",
    "            \n",
    "            mul_w1 = np.dot(W1, new_input)\n",
    "            mul_w2 = np.dot(W2, prev_act)\n",
    "            \n",
    "            add = mul_w2 + mul_w1\n",
    "            act = sigmoid(add)\n",
    "            mul_w3 = np.dot(W3, act)\n",
    "            \n",
    "            prev_act = act\n",
    "            \n",
    "    #Calculate error\n",
    "        loss_per_record = (y - mul_w3) ** 2 / 2\n",
    "        loss += loss_per_record\n",
    "        \n",
    "    loss = loss / float(y.shape[0])\n",
    "    \n",
    "    #Check loss on validation\n",
    "    val_loss = 0.0\n",
    "    for i in range(Y_valid.shape[0]):\n",
    "        x, y = X_valid[i], Y_valid[i]\n",
    "        prev_act = np.zeros((hidden_layer_size, 1))\n",
    "        \n",
    "        for t in range(sequence_length):\n",
    "            new_input = np.zeros(x.shape)\n",
    "            new_input[t] = x[t]\n",
    "            \n",
    "            mul_w1 = np.dot(W1, new_input)\n",
    "            mul_w2 = np.dot(W2, prev_act)\n",
    "            \n",
    "            add = mul_w2 + mul_w1\n",
    "            act = sigmoid(add)\n",
    "            mul_w3 = np.dot(W3, act)\n",
    "            \n",
    "            prev_act = act\n",
    "            \n",
    "    #Calculate validation error\n",
    "        loss_per_record = (y - mul_w3) ** 2 / 2\n",
    "        val_loss += loss_per_record\n",
    "    \n",
    "    val_loss = val_loss / float(y.shape[0])\n",
    "    \n",
    "    print(f'Epoch {epoch}, Loss: {loss}, Validation loss: {val_loss}')\n",
    "    \n",
    "    #Train model\n",
    "    for i in range(Y.shape[0]):\n",
    "        x, y = X[i], Y[i]\n",
    "        layers = []\n",
    "        prev_act = np.zeros((hidden_layer_size, 1))\n",
    "        \n",
    "        dW1 = np.zeros(W1.shape)\n",
    "        dW3 = np.zeros(W3.shape)\n",
    "        dW2 = np.zeros(W2.shape)\n",
    "        \n",
    "        dW1_t = np.zeros(W1.shape)\n",
    "        dW3_t = np.zeros(W3.shape)\n",
    "        dW2_t = np.zeros(W2.shape)\n",
    "        \n",
    "        dW1_i = np.zeros(W1.shape)\n",
    "        dW2_i = np.zeros(W2.shape)\n",
    "        \n",
    "        #Forward pass\n",
    "        for t in range(sequence_length):\n",
    "            new_input = np.zeros(x.shape)\n",
    "            new_input[t] = x[t]\n",
    "            \n",
    "            mul_w1 = np.dot(W1, new_input)\n",
    "            mul_w2 = np.dot(W2, prev_act)\n",
    "            \n",
    "            add = mul_w2 + mul_w1\n",
    "            act = sigmoid(add)\n",
    "            mul_w3 = np.dot(W3, act)\n",
    "            layers.append({'act': act, 'prev_act': prev_act})\n",
    "            \n",
    "            prev_act = act\n",
    "            \n",
    "        #Derivative of pred\n",
    "        dmul_w3 = (mul_w3 - y)\n",
    "        \n",
    "        #Backward pass\n",
    "        for t in range(sequence_length):\n",
    "            dW3_t = np.dot(dmul_w3, np.transpose(layers[t]['act']))\n",
    "            dsv = np.dot(np.transpose(W3), dmul_w3)\n",
    "            \n",
    "            ds = dsv\n",
    "            dadd = add * (1 - add) * ds\n",
    "            \n",
    "            dmul_w2 = dadd * np.ones_like(mul_w2)\n",
    "            \n",
    "            dprev_act = np.dot(np.transpose(W2), dmul_w2)\n",
    "            \n",
    "            for i in range(t-1, max(-1, t - back_prop_truncate - 1), -1):\n",
    "                ds = dsv + dprev_act\n",
    "                dadd = add * (1 - add) * ds\n",
    "                \n",
    "                dmul_w2 = dadd * np.ones_like(mul_w2)\n",
    "                dmul_w1 = dadd * np.ones_like(mul_w1)\n",
    "                \n",
    "                dW2_i = np.dot(W2, layers[t]['prev_act'])\n",
    "                dprev_act = np.dot(np.transpose(W2), dmul_w2)\n",
    "                \n",
    "                new_input = np.zeros(x.shape)\n",
    "                new_input[t] = x[t]\n",
    "                \n",
    "                dW1_i = np.dot(W1, new_input)\n",
    "                dx = np.dot(np.transpose(W1), dmul_w1)\n",
    "                \n",
    "                dW1_t += dW1_i\n",
    "                dW2_t += dW2_i\n",
    "                \n",
    "            dW3 += dW3_t\n",
    "            dW1 += dW1_t\n",
    "            dW2 += dW2_t\n",
    "            \n",
    "            if dW1.max() > max_clip_value:\n",
    "                dW1[dW1 > max_clip_value] = max_clip_value\n",
    "            if dW3.max() > max_clip_value:\n",
    "                dW3[dW3 > max_clip_value] = max_clip_value\n",
    "            if dW2.max() > max_clip_value:\n",
    "                dW2[dW2 > max_clip_value] = max_clip_value\n",
    "                \n",
    "            if dW1.min() < min_clip_value:\n",
    "                dW1[dW1 < min_clip_value] = min_clip_value\n",
    "            if dW3.min() < min_clip_value:\n",
    "                dW3[dW3 < min_clip_value] = min_clip_value\n",
    "            if dW2.min() < min_clip_value:\n",
    "                dW2[dW2 < min_clip_value] = min_clip_value\n",
    "                \n",
    "        #Update\n",
    "        W1 -= learning_rate * dW1\n",
    "        W3 -= learning_rate * dW3\n",
    "        W2 -= learning_rate * dW2"
   ]
  },
  {
   "cell_type": "code",
   "execution_count": 12,
   "id": "0e313664",
   "metadata": {},
   "outputs": [],
   "source": [
    "#We can observe that the results converged around the 7the epoch"
   ]
  },
  {
   "cell_type": "code",
   "execution_count": 13,
   "id": "26b77589",
   "metadata": {},
   "outputs": [],
   "source": [
    "#Getting the predicted values to be used for plotting\n",
    "\n",
    "preds = []\n",
    "for i in range(Y_valid.shape[0]):\n",
    "    x, y = X_valid[i], Y_valid[i]\n",
    "    prev_act = np.zeros((hidden_layer_size, 1))\n",
    "    \n",
    "    #For each time step...\n",
    "    for t in range(sequence_length):\n",
    "        mul_w1 = np.dot(W1, x)\n",
    "        mul_w2 = np.dot(W2, prev_act)\n",
    "        \n",
    "        add = mul_w2 + mul_w1\n",
    "        act = sigmoid(add)\n",
    "        \n",
    "        mul_w3 = np.dot(W3, act)\n",
    "        \n",
    "        prev_act = act\n",
    "        \n",
    "    preds.append(mul_w3)\n",
    "    \n",
    "preds = np.array(preds)"
   ]
  },
  {
   "cell_type": "code",
   "execution_count": 15,
   "id": "b550f2e3",
   "metadata": {},
   "outputs": [
    {
     "data": {
      "image/png": "[encoded data removed]",
      "text/plain": [
       "<Figure size 432x288 with 1 Axes>"
      ]
     },
     "metadata": {
      "needs_background": "light"
     },
     "output_type": "display_data"
    }
   ],
   "source": [
    "#Plotting the predicted versus the original values\n",
    "plt.plot(preds[:, 0, 0])\n",
    "plt.plot(Y_valid[:, 0], 'r');"
   ]
  },
  {
   "cell_type": "code",
   "execution_count": 16,
   "id": "998bcff0",
   "metadata": {},
   "outputs": [],
   "source": [
    "from sklearn.metrics import mean_squared_error"
   ]
  },
  {
   "cell_type": "code",
   "execution_count": 17,
   "id": "b5660804",
   "metadata": {},
   "outputs": [
    {
     "data": {
      "text/plain": [
       "0.5217128953540205"
      ]
     },
     "execution_count": 17,
     "metadata": {},
     "output_type": "execute_result"
    }
   ],
   "source": [
    "#Calculate the RMSE (sqrt of variance)\n",
    "math.sqrt(mean_squared_error(Y_valid[:, 0], preds[:, 0, 0]))"
   ]
  },
  {
   "cell_type": "code",
   "execution_count": null,
   "id": "b2344624",
   "metadata": {},
   "outputs": [],
   "source": []
  },
  {
   "cell_type": "markdown",
   "id": "d0a6ad51",
   "metadata": {},
   "source": [
    "### Creating Intelligent Agents with Reinforcement Learning"
   ]
  },
  {
   "cell_type": "code",
   "execution_count": 4,
   "id": "111143d0",
   "metadata": {},
   "outputs": [
    {
     "name": "stdout",
     "output_type": "stream",
     "text": [
      "usage: run_rl_environment.py [-h] --input-env {cartpole,mountaincar,pendulum,taxi,lake}\n",
      "\n",
      "Run an environment\n",
      "\n",
      "optional arguments:\n",
      "  -h, --help            show this help message and exit\n",
      "  --input-env {cartpole,mountaincar,pendulum,taxi,lake}\n",
      "                        Specify the name of the environment\n"
     ]
    }
   ],
   "source": [
    "%run data/run_rl_environment.py --help"
   ]
  },
  {
   "cell_type": "code",
   "execution_count": null,
   "id": "cc767311",
   "metadata": {},
   "outputs": [],
   "source": [
    "%run data/run_rl_environment.py --input-env cartpole"
   ]
  }
 ],
 "metadata": {
  "kernelspec": {
   "display_name": "Python 3 (ipykernel)",
   "language": "python",
   "name": "python3"
  },
  "language_info": {
   "codemirror_mode": {
    "name": "ipython",
    "version": 3
   },
   "file_extension": ".py",
   "mimetype": "text/x-python",
   "name": "python",
   "nbconvert_exporter": "python",
   "pygments_lexer": "ipython3",
   "version": "3.9.12"
  }
 },
 "nbformat": 4,
 "nbformat_minor": 5
}
